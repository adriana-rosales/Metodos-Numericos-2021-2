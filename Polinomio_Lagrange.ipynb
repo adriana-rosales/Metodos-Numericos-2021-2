{
  "nbformat": 4,
  "nbformat_minor": 0,
  "metadata": {
    "colab": {
      "name": "Polinomio-Lagrange",
      "provenance": [],
      "collapsed_sections": [],
      "authorship_tag": "ABX9TyM54sO4oqYUVrEbrGnYj+lS",
      "include_colab_link": true
    },
    "kernelspec": {
      "name": "python3",
      "display_name": "Python 3"
    },
    "language_info": {
      "name": "python"
    }
  },
  "cells": [
    {
      "cell_type": "markdown",
      "metadata": {
        "id": "view-in-github",
        "colab_type": "text"
      },
      "source": [
        "<a href=\"https://colab.research.google.com/github/adriana-rosales/Python-2022-1/blob/main/Polinomio_Lagrange.ipynb\" target=\"_parent\"><img src=\"https://colab.research.google.com/assets/colab-badge.svg\" alt=\"Open In Colab\"/></a>"
      ]
    },
    {
      "cell_type": "markdown",
      "metadata": {
        "id": "XIOxOJqLWnZH"
      },
      "source": [
        "`NOTAS:`\n",
        "\n",
        "$$\n",
        "ln(x)⇒log(x)\n",
        "$$\n",
        "$$\n",
        "sen(x)⇒sin(x)\n",
        "$$"
      ]
    },
    {
      "cell_type": "markdown",
      "metadata": {
        "id": "B8GyhF9IW3aZ"
      },
      "source": [
        "#GENERAL **⇒USAR LISTING 7**\n",
        "\n",
        "\n",
        "\n",
        "1. `Incógnita`\n",
        "\n",
        "$$\n",
        "f(x)=\n",
        "$$\n",
        "$$\n",
        "ó\n",
        "$$\n",
        "$$\n",
        "x=\n",
        "$$\n",
        "\n",
        "2. `Identificar en la tabla`\n",
        "\n",
        "$$\n",
        "x_0,x_1,x_2,x_3\\dots\n",
        "$$\n",
        "\n",
        "\\begin{array}{|c|c|c|c|}\n",
        "\\hline\n",
        "x&-\\\\\n",
        "\\hline\n",
        "f(x)&-\\\\\n",
        "\\hline\n",
        "\\end{array}\n",
        "\n",
        "3.  `Datos-Términos`\n",
        "$$\n",
        "n=2\n",
        "$$\n",
        "\n",
        "4. `Grado`\n",
        "$$\n",
        "n-1=1\n",
        "$$\n",
        "\n",
        "5. `Plantear Polinio de Lagrange de grado n`\n",
        "\n",
        "$$\n",
        "P_n(x)=L_0(x)f(x_0)+L_1(x)f(x_1)+L_2(x)f(x_2)+L_3(x)f(x_3)+\\dots\n",
        "$$\n",
        "\n",
        "**Resultado:**\n",
        "\n",
        "$$\n",
        "P_n(x)\\approx \n",
        "$$\n",
        "\n",
        "##Editar Listing:\n",
        "\n",
        "*   5: `EDIT X`\n",
        "*   6: `EDIT F(X),Y`\n",
        "* 7: n=**2** `Datos-Términos n`\n",
        "* 8: xi=**3** `Incógnita`\n",
        "\n",
        "\n",
        "* 25: `Cambios en la gráfica`\n",
        "* 26:"
      ]
    },
    {
      "cell_type": "markdown",
      "metadata": {
        "id": "lCUSJKJvZs3z"
      },
      "source": [
        "#1: x\n",
        "\n",
        "Estimar la viscosidad a una T=7.6ºC. La viscosidad del agua se relaciona con la temperatura T de la siguiente manera:\n",
        "\n",
        "\\begin{array}{|c|c|c|c|}\n",
        "\\hline\n",
        "x&0&5&10&20&30&40\\\\\n",
        "\\hline\n",
        "f(x)&1.783&1.519&1.307&1.002&1.796&0.653\\\\\n",
        "\\hline\n",
        "\\end{array}\n",
        "\n",
        "1. `Incógnita`\n",
        "\n",
        "$$\n",
        "x=7.5\n",
        "$$\n",
        "\n",
        "2. `Identificar en la tabla`\n",
        "\n",
        "$$\n",
        "x_0,x_1\\dots\n",
        "$$\n",
        "\\begin{array}{|c|c|c|c|}\n",
        "\\hline\n",
        "x&5&10\\\\\n",
        "\\hline\n",
        "f(x)&1.519&1.307\\\\\n",
        "\\hline\n",
        "\\end{array}\n",
        "\n",
        "3.  `Datos-Términos`\n",
        "$$\n",
        "n=2\n",
        "$$\n",
        "\n",
        "4. `Grado`\n",
        "$$\n",
        "n-1=1\n",
        "$$\n",
        "\n",
        "\n",
        "**Resultado:**\n",
        "\n",
        "$$\n",
        "P_n(x)\\approx1.4129999999999998\n",
        "$$"
      ]
    },
    {
      "cell_type": "code",
      "metadata": {
        "colab": {
          "base_uri": "https://localhost:8080/",
          "height": 333
        },
        "id": "lXO0_y8iZq1t",
        "outputId": "2601658a-f1ea-4deb-dc6f-f2febef6c939"
      },
      "source": [
        "import numpy as np\n",
        "import matplotlib.pyplot as plt\n",
        "from scipy import interpolate\n",
        "\n",
        "x=np.array([5,10])                                 #EDIT X\n",
        "y=np.array([1.519,1.307])                          #EDIT F(X),Y\n",
        "n=2                                                #DATOS-TÉRMINOS n\n",
        "xi=7.5                                             #INCÓGNITA X\n",
        "yi=0                                              \n",
        "\n",
        "#Calcular los factores de Lagrange y hacer la suma:\n",
        "for i in range(0,n):\n",
        "    producto=y[i]\n",
        "    for j in range (0,n):\n",
        "      if i != j:\n",
        "        producto = producto * (xi - x[j])/(x[i]-x[j]);\n",
        "    yi=yi+producto\n",
        "\n",
        "print(yi)\n",
        "f=interpolate.lagrange(x,y) #Usando la función de Lagrange de scipy\n",
        "print (f(xi))\n",
        "\n",
        "plt.plot(x,y,'o')\n",
        "plt.plot(xi,yi,'sr')\n",
        "plt.text(xi+0.1,yi,'Viscosidad'+str(yi))           #EDIT ''\n",
        "plt.title('Viscosidad del agua')                   #EDIT ''\n",
        "plt.legend(['Datos','Interpolacion'])             \n",
        "plt.grid(True)\n",
        "plt.show\n",
        "\n",
        "#TOMAR PRIMER RESULTADO:"
      ],
      "execution_count": null,
      "outputs": [
        {
          "output_type": "stream",
          "text": [
            "1.4129999999999998\n",
            "1.4129999999999998\n"
          ],
          "name": "stdout"
        },
        {
          "output_type": "execute_result",
          "data": {
            "text/plain": [
              "<function matplotlib.pyplot.show>"
            ]
          },
          "metadata": {
            "tags": []
          },
          "execution_count": 8
        },
        {
          "output_type": "display_data",
          "data": {
            "image/png": "[encoded data removed]",
            "text/plain": [
              "<Figure size 432x288 with 1 Axes>"
            ]
          },
          "metadata": {
            "tags": [],
            "needs_background": "light"
          }
        }
      ]
    },
    {
      "cell_type": "markdown",
      "metadata": {
        "id": "F9e1l_iffWAJ"
      },
      "source": [
        "#2: x ❗️\n",
        "\n",
        "**???** Temperatura de ebullición de la acetona a diferentes presiones. ¿Cuál será la presión cuando la temperatura es de 100ºC?\n",
        "\n",
        "⇒Estimar x=2\n",
        "\n",
        "\\begin{array}{|c|c|c|c|}\n",
        "\\hline\n",
        "x&1&2&5&10&20&30&40\\\\\n",
        "\\hline\n",
        "f(x)&56.5&78.6&111.3&144.5&181&205&214.5\\\\\n",
        "\\hline\n",
        "\\end{array}\n",
        "\n",
        "1. `Incógnita`\n",
        "\n",
        "$$\n",
        "x=?\n",
        "$$\n",
        "$$\n",
        "cuando:\n",
        "$$\n",
        "$$\n",
        "f(x)=100\n",
        "$$\n",
        "\n",
        "2. `Identificar en la tabla`\n",
        "\n",
        "$$\n",
        "x_0,x_1,x_2,x_3\\dots\n",
        "$$\n",
        "\\begin{array}{|c|c|c|c|}\n",
        "\\hline\n",
        "x&1&5&20&40\\\\\n",
        "\\hline\n",
        "f(x)&56.5&111.3&181&214.5\\\\\n",
        "\\hline\n",
        "\\end{array}\n",
        "\n",
        "3.  `Datos-Términos`\n",
        "$$\n",
        "n=4\n",
        "$$\n",
        "\n",
        "4. `Grado`\n",
        "$$\n",
        "n-1=3\n",
        "$$\n",
        "\n",
        "\n",
        "**Resultado:**\n",
        "\n",
        "$$\n",
        "P_n(x)\\approx72.17167032967032\n",
        "$$"
      ]
    },
    {
      "cell_type": "code",
      "metadata": {
        "colab": {
          "base_uri": "https://localhost:8080/",
          "height": 333
        },
        "id": "e4lt-0-ChXMa",
        "outputId": "3ff9390d-b1b5-4341-a21c-db6f5679067e"
      },
      "source": [
        "import numpy as np\n",
        "import matplotlib.pyplot as plt\n",
        "from scipy import interpolate\n",
        "\n",
        "x=np.array([1,5,20,40])                            #EDIT X\n",
        "y=np.array([56.5,111.3,181,214.5])                 #EDIT F(X),Y\n",
        "n=4                                                #DATOS-TÉRMINOS n\n",
        "xi=2                                               #INCÓGNITA X\n",
        "yi=0                                              \n",
        "\n",
        "#Calcular los factores de Lagrange y hacer la suma:\n",
        "for i in range(0,n):\n",
        "    producto=y[i]\n",
        "    for j in range (0,n):\n",
        "      if i != j:\n",
        "        producto = producto * (xi - x[j])/(x[i]-x[j]);\n",
        "    yi=yi+producto\n",
        "\n",
        "print(yi)\n",
        "f=interpolate.lagrange(x,y) #Usando la función de Lagrange de scipy\n",
        "print (f(xi))\n",
        "\n",
        "plt.plot(x,y,'o')\n",
        "plt.plot(xi,yi,'sr')\n",
        "plt.text(xi+0.1,yi,'Temperatura'+str(yi))           #EDIT ''\n",
        "plt.title('Temperatura')                            #EDIT ''\n",
        "plt.legend(['Datos','Interpolacion'])               \n",
        "plt.grid(True)\n",
        "plt.show\n",
        "\n",
        "#TOMAR PRIMER RESULTADO:"
      ],
      "execution_count": null,
      "outputs": [
        {
          "output_type": "stream",
          "text": [
            "72.17167032967032\n",
            "72.1716703296703\n"
          ],
          "name": "stdout"
        },
        {
          "output_type": "execute_result",
          "data": {
            "text/plain": [
              "<function matplotlib.pyplot.show>"
            ]
          },
          "metadata": {
            "tags": []
          },
          "execution_count": 12
        },
        {
          "output_type": "display_data",
          "data": {
            "image/png": "[encoded data removed]",
            "text/plain": [
              "<Figure size 432x288 with 1 Axes>"
            ]
          },
          "metadata": {
            "tags": [],
            "needs_background": "light"
          }
        }
      ]
    },
    {
      "cell_type": "markdown",
      "metadata": {
        "id": "BPHDma03ipLm"
      },
      "source": [
        "#3: f(x)\n",
        "\n",
        "Evaluar \n",
        "$$\n",
        "f(1.8)\n",
        "$$\n",
        "\n",
        "\\begin{array}{|c|c|c|c|}\n",
        "\\hline\n",
        "x&0&1&3&6\\\\\n",
        "\\hline\n",
        "f(x)&-3&0&5&7\\\\\n",
        "\\hline\n",
        "\\end{array}\n",
        "\n",
        "1. `Incógnita`\n",
        "\n",
        "$$\n",
        "f(x)=1.8\n",
        "$$\n",
        "\n",
        "2. `Identificar en la tabla`\n",
        "\n",
        "$$\n",
        "x_0,x_1,x_2,x_3\\dots\n",
        "$$\n",
        "\\begin{array}{|c|c|c|c|}\n",
        "\\hline\n",
        "x&0&1&3&6\\\\\n",
        "\\hline\n",
        "f(x)&-3&0&5&7\\\\\n",
        "\\hline\n",
        "\\end{array}\n",
        "\n",
        "3.  `Datos-Términos`\n",
        "$$\n",
        "n=4\n",
        "$$\n",
        "\n",
        "4. `Grado`\n",
        "$$\n",
        "n-1=3\n",
        "$$\n",
        "\n",
        "\n",
        "**Resultado:**\n",
        "\n",
        "$$\n",
        "P_n(x)\\approx2.2176000000000005\n",
        "$$"
      ]
    },
    {
      "cell_type": "code",
      "metadata": {
        "colab": {
          "base_uri": "https://localhost:8080/",
          "height": 333
        },
        "id": "mS9wU5qGjPvJ",
        "outputId": "fc477b6c-0993-4f54-dc64-71425012bb09"
      },
      "source": [
        "import numpy as np\n",
        "import matplotlib.pyplot as plt\n",
        "from scipy import interpolate\n",
        "\n",
        "x=np.array([0,1,3,6])                              #EDIT X\n",
        "y=np.array([-3,0,5,7])                             #EDIT F(X),Y\n",
        "n=4                                                #DATOS-TÉRMINOS n\n",
        "xi=1.8                                             #INCÓGNITA X\n",
        "yi=0                                               \n",
        "\n",
        "#Calcular los factores de Lagrange y hacer la suma:\n",
        "for i in range(0,n):\n",
        "    producto=y[i]\n",
        "    for j in range (0,n):\n",
        "      if i != j:\n",
        "        producto = producto * (xi - x[j])/(x[i]-x[j]);\n",
        "    yi=yi+producto\n",
        "\n",
        "print(yi)\n",
        "f=interpolate.lagrange(x,y) #Usando la función de Lagrange de scipy\n",
        "print (f(xi))\n",
        "\n",
        "plt.plot(x,y,'o')\n",
        "plt.plot(xi,yi,'sr')\n",
        "plt.text(xi+0.1,yi,'Interpolación'+str(yi))         #EDIT ''\n",
        "plt.title('Interpolación')                          #EDIT ''\n",
        "plt.legend(['Datos','Interpolación'])             \n",
        "plt.grid(True)\n",
        "plt.show\n",
        "\n",
        "#TOMAR PRIMER RESULTADO:"
      ],
      "execution_count": null,
      "outputs": [
        {
          "output_type": "stream",
          "text": [
            "2.2176000000000005\n",
            "2.2176\n"
          ],
          "name": "stdout"
        },
        {
          "output_type": "execute_result",
          "data": {
            "text/plain": [
              "<function matplotlib.pyplot.show>"
            ]
          },
          "metadata": {
            "tags": []
          },
          "execution_count": 16
        },
        {
          "output_type": "display_data",
          "data": {
            "image/png": "[encoded data removed]",
            "text/plain": [
              "<Figure size 432x288 with 1 Axes>"
            ]
          },
          "metadata": {
            "tags": [],
            "needs_background": "light"
          }
        }
      ]
    },
    {
      "cell_type": "markdown",
      "metadata": {
        "id": "rSM6qGSilcpm"
      },
      "source": [
        ""
      ]
    },
    {
      "cell_type": "markdown",
      "metadata": {
        "id": "qVg0o8AflhrZ"
      },
      "source": [
        "#4: f(x)\n",
        "\n",
        "Evaluar \n",
        "$$\n",
        "f(10)\n",
        "$$\n",
        "\n",
        "\\begin{array}{|c|c|c|c|}\n",
        "\\hline\n",
        "x&5&6&9&11\\\\\n",
        "\\hline\n",
        "f(x)&12&13&14&16\\\\\n",
        "\\hline\n",
        "\\end{array}\n",
        "\n",
        "1. `Incógnita`\n",
        "\n",
        "$$\n",
        "f(x)=10\n",
        "$$\n",
        "\n",
        "2. `Identificar en la tabla`\n",
        "\n",
        "$$\n",
        "x_0,x_1,x_2,x_3\\dots\n",
        "$$\n",
        "\n",
        "\\begin{array}{|c|c|c|c|}\n",
        "\\hline\n",
        "x&5&6&9&11\\\\\n",
        "\\hline\n",
        "f(x)&12&13&14&16\\\\\n",
        "\\hline\n",
        "\\end{array}\n",
        "\n",
        "3.  `Datos-Términos`\n",
        "$$\n",
        "n=4\n",
        "$$\n",
        "\n",
        "4. `Grado`\n",
        "$$\n",
        "n-1=3\n",
        "$$\n",
        "\n",
        "\n",
        "**Resultado:**\n",
        "\n",
        "$$\n",
        "P_n(x)\\approx 14.666666666666666\n",
        "$$"
      ]
    },
    {
      "cell_type": "code",
      "metadata": {
        "colab": {
          "base_uri": "https://localhost:8080/",
          "height": 333
        },
        "id": "czskEnaRmC69",
        "outputId": "f4f944b4-7565-4ab3-d3bd-e2b8578f2e8a"
      },
      "source": [
        "import numpy as np\n",
        "import matplotlib.pyplot as plt\n",
        "from scipy import interpolate\n",
        "\n",
        "x=np.array([5,6,9,11])                              #EDIT X\n",
        "y=np.array([12,13,14,16])                           #EDIT F(X),Y\n",
        "n=4                                                 #DATOS-TÉRMINOS n\n",
        "xi=10                                               #INCÓGNITA X\n",
        "yi=0                                               \n",
        "\n",
        "#Calcular los factores de Lagrange y hacer la suma:\n",
        "for i in range(0,n):\n",
        "    producto=y[i]\n",
        "    for j in range (0,n):\n",
        "      if i != j:\n",
        "        producto = producto * (xi - x[j])/(x[i]-x[j]);\n",
        "    yi=yi+producto\n",
        "\n",
        "print(yi)\n",
        "f=interpolate.lagrange(x,y) #Usando la función de Lagrange de scipy\n",
        "print (f(xi))\n",
        "\n",
        "plt.plot(x,y,'o')\n",
        "plt.plot(xi,yi,'sr')\n",
        "plt.text(xi+0.1,yi,'Interpolación'+str(yi))         #EDIT ''\n",
        "plt.title('Interpolación')                          #EDIT ''\n",
        "plt.legend(['Datos','Interpolación'])               \n",
        "plt.grid(True)\n",
        "plt.show\n",
        "\n",
        "#TOMAR PRIMER RESULTADO:"
      ],
      "execution_count": null,
      "outputs": [
        {
          "output_type": "stream",
          "text": [
            "14.666666666666666\n",
            "14.666666666666892\n"
          ],
          "name": "stdout"
        },
        {
          "output_type": "execute_result",
          "data": {
            "text/plain": [
              "<function matplotlib.pyplot.show>"
            ]
          },
          "metadata": {
            "tags": []
          },
          "execution_count": 17
        },
        {
          "output_type": "display_data",
          "data": {
            "image/png": "[encoded data removed]",
            "text/plain": [
              "<Figure size 432x288 with 1 Axes>"
            ]
          },
          "metadata": {
            "tags": [],
            "needs_background": "light"
          }
        }
      ]
    },
    {
      "cell_type": "markdown",
      "metadata": {
        "id": "ZJ76YpcGmgvJ"
      },
      "source": [
        "#5: x\n",
        "\n",
        "Evaluar \n",
        "$$\n",
        "x=1955\n",
        "$$\n",
        "\n",
        "\\begin{array}{|c|c|c|c|}\n",
        "\\hline\n",
        "x&1951&1961&1971&1981\\\\\n",
        "\\hline\n",
        "f(x)&35&42&58&84\\\\\n",
        "\\hline\n",
        "\\end{array}\n",
        "\n",
        "1. `Incógnita`\n",
        "\n",
        "$$\n",
        "x=1955\n",
        "$$\n",
        "\n",
        "2. `Identificar en la tabla`\n",
        "\n",
        "$$\n",
        "x_0,x_1,x_2,x_3\\dots\n",
        "$$\n",
        "\n",
        "\\begin{array}{|c|c|c|c|}\n",
        "\\hline\n",
        "x&1951&1961&1971&1981\\\\\n",
        "\\hline\n",
        "f(x)&35&42&58&84\\\\\n",
        "\\hline\n",
        "\\end{array}\n",
        "\n",
        "3.  `Datos-Términos`\n",
        "$$\n",
        "n=4\n",
        "$$\n",
        "\n",
        "4. `Grado`\n",
        "$$\n",
        "n-1=3\n",
        "$$\n",
        "\n",
        "\n",
        "**Resultado:**\n",
        "\n",
        "$$\n",
        "P_n(x)\\approx 36.784000000000006\n",
        "$$"
      ]
    },
    {
      "cell_type": "code",
      "metadata": {
        "colab": {
          "base_uri": "https://localhost:8080/",
          "height": 333
        },
        "id": "Cab_Bo6Fm8ju",
        "outputId": "a50a2c2f-b1e6-48b3-a3a7-5dcead5900c4"
      },
      "source": [
        "import numpy as np\n",
        "import matplotlib.pyplot as plt\n",
        "from scipy import interpolate\n",
        "\n",
        "x=np.array([1951,1961,1971,1981])                              #EDIT X\n",
        "y=np.array([35,42,58,84])                           #EDIT F(X),Y\n",
        "n=4                                                 #DATOS-TÉRMINOS n\n",
        "xi=1955                                             #INCÓGNITA X\n",
        "yi=0                                               \n",
        "\n",
        "#Calcular los factores de Lagrange y hacer la suma:\n",
        "for i in range(0,n):\n",
        "    producto=y[i]\n",
        "    for j in range (0,n):\n",
        "      if i != j:\n",
        "        producto = producto * (xi - x[j])/(x[i]-x[j]);\n",
        "    yi=yi+producto\n",
        "\n",
        "print(yi)\n",
        "f=interpolate.lagrange(x,y) #Usando la función de Lagrange de scipy\n",
        "print (f(xi))\n",
        "\n",
        "plt.plot(x,y,'o')\n",
        "plt.plot(xi,yi,'sr')\n",
        "plt.text(xi+0.1,yi,'Población en 1955'+str(yi))     #EDIT ''\n",
        "plt.title('Población en 1955')                      #EDIT ''\n",
        "plt.legend(['Datos','Interpolación'])               \n",
        "plt.grid(True)\n",
        "plt.show\n",
        "\n",
        "#TOMAR PRIMER RESULTADO:"
      ],
      "execution_count": null,
      "outputs": [
        {
          "output_type": "stream",
          "text": [
            "36.784000000000006\n",
            "36.78399999369867\n"
          ],
          "name": "stdout"
        },
        {
          "output_type": "execute_result",
          "data": {
            "text/plain": [
              "<function matplotlib.pyplot.show>"
            ]
          },
          "metadata": {
            "tags": []
          },
          "execution_count": 19
        },
        {
          "output_type": "display_data",
          "data": {
            "image/png": "[encoded data removed]",
            "text/plain": [
              "<Figure size 432x288 with 1 Axes>"
            ]
          },
          "metadata": {
            "tags": [],
            "needs_background": "light"
          }
        }
      ]
    },
    {
      "cell_type": "markdown",
      "metadata": {
        "id": "gkcSvFadXb88"
      },
      "source": [
        "#6:  x\n",
        "\n",
        "\n",
        "Calcular la profundidad del agua en el día 3, con los siguientes datos:\n",
        "\n",
        "\\begin{array}{|c|c|c|c|}\n",
        "\\hline\n",
        "x&día&1&4&8&15&18\\\\\n",
        "\\hline\n",
        "f(x)&profundidad&1.1&1.5&12.1&15.3&15.5\\\\\n",
        "\\hline\n",
        "\\end{array}\n",
        "\n",
        "\n",
        "1. `Incógnita`\n",
        "\n",
        "$$\n",
        "x=3\n",
        "$$\n",
        "\n",
        "2. `Identificar en la tabla`\n",
        "\n",
        "$$\n",
        "x_0,x_1\\dots\n",
        "$$\n",
        "\\begin{array}{|c|c|c|c|}\n",
        "\\hline\n",
        "x&1&4\\\\\n",
        "\\hline\n",
        "f(x)&1.1&1.5\\\\\n",
        "\\hline\n",
        "\\end{array}\n",
        "\n",
        "3.  `Datos-Términos`\n",
        "$$\n",
        "n=2\n",
        "$$\n",
        "\n",
        "4. `Grado`\n",
        "$$\n",
        "n-1=1\n",
        "$$\n",
        "\n",
        "\n",
        "**Resultado:**\n",
        "\n",
        "$$\n",
        "P_n(x)\\approx1.3666666666666667\n",
        "$$"
      ]
    },
    {
      "cell_type": "code",
      "metadata": {
        "colab": {
          "base_uri": "https://localhost:8080/",
          "height": 333
        },
        "id": "ITLLprbkWjGe",
        "outputId": "c0cc05cd-39dc-4dfe-c53f-591bc57e9bf1"
      },
      "source": [
        "import numpy as np\n",
        "import matplotlib.pyplot as plt\n",
        "from scipy import interpolate\n",
        "\n",
        "x=np.array([1,4])                                  #EDIT X\n",
        "y=np.array([1.1,1.5])                              #EDIT F(X),Y\n",
        "n=2                                                #DATOS-TÉRMINOS n\n",
        "xi=3                                               #INCÓGNITA X\n",
        "yi=0                                               \n",
        "\n",
        "#Calcular los factores de Lagrange y hacer la suma:\n",
        "for i in range(0,n):\n",
        "    producto=y[i]\n",
        "    for j in range (0,n):\n",
        "      if i != j:\n",
        "        producto = producto * (xi - x[j])/(x[i]-x[j]);\n",
        "    yi=yi+producto\n",
        "\n",
        "print(yi)\n",
        "f=interpolate.lagrange(x,y) #Usando la función de Lagrange de scipy\n",
        "print (f(xi))\n",
        "\n",
        "plt.plot(x,y,'o')\n",
        "plt.plot(xi,yi,'sr')\n",
        "plt.text(xi+0.1,yi,'Profundidad'+str(yi))           #EDIT ''\n",
        "plt.title('Profundidad del agua')                   #EDIT ''\n",
        "plt.legend(['Datos','Interpolacion'])              \n",
        "plt.grid(True)\n",
        "plt.show\n",
        "\n",
        "#TOMAR PRIMER RESULTADO:"
      ],
      "execution_count": null,
      "outputs": [
        {
          "output_type": "stream",
          "text": [
            "1.3666666666666667\n",
            "1.3666666666666667\n"
          ],
          "name": "stdout"
        },
        {
          "output_type": "execute_result",
          "data": {
            "text/plain": [
              "<function matplotlib.pyplot.show>"
            ]
          },
          "metadata": {
            "tags": []
          },
          "execution_count": 10
        },
        {
          "output_type": "display_data",
          "data": {
            "image/png": "[encoded data removed]",
            "text/plain": [
              "<Figure size 432x288 with 1 Axes>"
            ]
          },
          "metadata": {
            "tags": [],
            "needs_background": "light"
          }
        }
      ]
    },
    {
      "cell_type": "markdown",
      "metadata": {
        "id": "gkGxknU695hB"
      },
      "source": [
        "#7. Ordinario A\n",
        "\n",
        "**Ejercicio 3, inciso a)**"
      ]
    },
    {
      "cell_type": "code",
      "metadata": {
        "colab": {
          "base_uri": "https://localhost:8080/",
          "height": 333
        },
        "id": "NnLYSzRj99Fl",
        "outputId": "b3a406b4-c865-4663-dc1a-1b77fee264fd"
      },
      "source": [
        "import numpy as np\n",
        "import matplotlib.pyplot as plt\n",
        "from scipy import interpolate\n",
        "\n",
        "x=np.array([4,12,20,28])                           #EDIT X\n",
        "y=np.array([1.0276,1.1013,1.1801,1.2652])          #EDIT F(X),Y\n",
        "n=4                                                #DATOS-TÉRMINOS n\n",
        "xi=26                                              #INCÓGNITA X\n",
        "yi=0                                              \n",
        "\n",
        "#Calcular los factores de Lagrange y hacer la suma:\n",
        "for i in range(0,n):\n",
        "    producto=y[i]\n",
        "    for j in range (0,n):\n",
        "      if i != j:\n",
        "        producto = producto * (xi - x[j])/(x[i]-x[j]);\n",
        "    yi=yi+producto\n",
        "\n",
        "print(yi)\n",
        "f=interpolate.lagrange(x,y) #Usando la función de Lagrange de scipy\n",
        "print (f(xi))\n",
        "\n",
        "plt.plot(x,y,'o')\n",
        "plt.plot(xi,yi,'sr')\n",
        "plt.text(xi+0.1,yi,'Polinomio de Lagrange'+str(yi))  #EDIT ''\n",
        "plt.title('Polinomio de Lagrange')                   #EDIT ''\n",
        "plt.legend(['Datos','Interpolacion'])             \n",
        "plt.grid(True)\n",
        "plt.show\n",
        "\n",
        "#TOMAR PRIMER RESULTADO:"
      ],
      "execution_count": null,
      "outputs": [
        {
          "output_type": "stream",
          "text": [
            "1.2432687500000004\n",
            "1.2432687499999984\n"
          ],
          "name": "stdout"
        },
        {
          "output_type": "execute_result",
          "data": {
            "text/plain": [
              "<function matplotlib.pyplot.show>"
            ]
          },
          "metadata": {
            "tags": []
          },
          "execution_count": 1
        },
        {
          "output_type": "display_data",
          "data": {
            "image/png": "[encoded data removed]",
            "text/plain": [
              "<Figure size 432x288 with 1 Axes>"
            ]
          },
          "metadata": {
            "tags": [],
            "needs_background": "light"
          }
        }
      ]
    },
    {
      "cell_type": "markdown",
      "metadata": {
        "id": "9AFUUVbm-pb2"
      },
      "source": [
        "#7. Ordinario A\n",
        "\n",
        "**Ejercicio 3, inciso b)**"
      ]
    },
    {
      "cell_type": "code",
      "metadata": {
        "colab": {
          "base_uri": "https://localhost:8080/",
          "height": 333
        },
        "id": "lnYb70Qx-nFW",
        "outputId": "df1a047c-e04f-4931-fddb-8e27d38d360f"
      },
      "source": [
        "import numpy as np\n",
        "import matplotlib.pyplot as plt\n",
        "from scipy import interpolate\n",
        "\n",
        "x=np.array([4,12,20,28])                           #EDIT X\n",
        "y=np.array([0.9931,1.0663,1.1451,1.2301])          #EDIT F(X),Y\n",
        "n=4                                                #DATOS-TÉRMINOS n\n",
        "xi=10                                              #INCÓGNITA X\n",
        "yi=0                                              \n",
        "\n",
        "#Calcular los factores de Lagrange y hacer la suma:\n",
        "for i in range(0,n):\n",
        "    producto=y[i]\n",
        "    for j in range (0,n):\n",
        "      if i != j:\n",
        "        producto = producto * (xi - x[j])/(x[i]-x[j]);\n",
        "    yi=yi+producto\n",
        "\n",
        "print(yi)\n",
        "f=interpolate.lagrange(x,y) #Usando la función de Lagrange de scipy\n",
        "print (f(xi))\n",
        "\n",
        "plt.plot(x,y,'o')\n",
        "plt.plot(xi,yi,'sr')\n",
        "plt.text(xi+0.1,yi,'Aproximación con Polinomio de Lagrange='+str(yi))  #EDIT ''\n",
        "plt.title('Polinomio de Lagrange')                   #EDIT ''\n",
        "plt.legend(['Datos','Interpolacion'])             \n",
        "plt.grid(True)\n",
        "plt.show\n",
        "\n",
        "#TOMAR PRIMER RESULTADO:"
      ],
      "execution_count": null,
      "outputs": [
        {
          "output_type": "stream",
          "text": [
            "1.0474984375\n",
            "1.0474984374999994\n"
          ],
          "name": "stdout"
        },
        {
          "output_type": "execute_result",
          "data": {
            "text/plain": [
              "<function matplotlib.pyplot.show>"
            ]
          },
          "metadata": {
            "tags": []
          },
          "execution_count": 1
        },
        {
          "output_type": "display_data",
          "data": {
            "image/png": "[encoded data removed]",
            "text/plain": [
              "<Figure size 432x288 with 1 Axes>"
            ]
          },
          "metadata": {
            "tags": [],
            "needs_background": "light"
          }
        }
      ]
    }
  ]
}