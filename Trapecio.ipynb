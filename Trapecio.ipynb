{
  "nbformat": 4,
  "nbformat_minor": 0,
  "metadata": {
    "colab": {
      "name": "Trapecio",
      "provenance": [],
      "collapsed_sections": [],
      "authorship_tag": "ABX9TyOS+5tdtbw/VkjTPz7QgQuV",
      "include_colab_link": true
    },
    "kernelspec": {
      "name": "python3",
      "display_name": "Python 3"
    },
    "language_info": {
      "name": "python"
    }
  },
  "cells": [
    {
      "cell_type": "markdown",
      "metadata": {
        "id": "view-in-github",
        "colab_type": "text"
      },
      "source": [
        "<a href=\"https://colab.research.google.com/github/adriana-rosales/Metodos-Numericos-2021-2/blob/main/Trapecio.ipynb\" target=\"_parent\"><img src=\"https://colab.research.google.com/assets/colab-badge.svg\" alt=\"Open In Colab\"/></a>"
      ]
    },
    {
      "cell_type": "markdown",
      "metadata": {
        "id": "DFIExsHKqJL9"
      },
      "source": [
        "#SOLO FORMA f(x). **⇒n=1. ⇒USAR LISTING 2. ⇒Calcular E% A MANO**\n",
        "\n"
      ]
    },
    {
      "cell_type": "markdown",
      "metadata": {
        "id": "AplDj46wCa07"
      },
      "source": [
        "#1: Libro"
      ]
    },
    {
      "cell_type": "code",
      "metadata": {
        "colab": {
          "base_uri": "https://localhost:8080/",
          "height": 302
        },
        "id": "qgseX4Xu-E41",
        "outputId": "b46b31c0-3141-4c45-977c-724091efb971"
      },
      "source": [
        "import numpy as np\n",
        "\n",
        "import matplotlib.pyplot as plt\n",
        "from matplotlib.patches import Polygon\n",
        "\n",
        "def regla_trapecios(f,a,b,n):\n",
        "    h=(b-a)/n\n",
        "    xs=np.linspace(a,b,n+1)\n",
        "    ys=f(xs)\n",
        "    r=h*(ys[0]+2*sum(ys[1:n])+ys[n])/2\n",
        "    return r\n",
        "\n",
        "# Función a integrar\n",
        "def f(x):\n",
        "    return np.exp(x**2)                 #EDIT f(x)\n",
        "\n",
        "def grafica_trapecios(f,a,b,n):\n",
        "    x = np.linspace(a,b)\n",
        "    y = f(x)\n",
        "    fig, ax = plt.subplots()\n",
        "    ax.plot(x,y,'b',linewidth=1.7)\n",
        "    ax.set_ylim(bottom=0)\n",
        "\n",
        "    ix=np.linspace(a,b,n+1)\n",
        "    iy=f(ix)\n",
        "    patterns=('|','/','\\\\','0','.','o','*','\\\\','/','-','x','+')\n",
        "    for i in range(n):\n",
        "        verts = [(ix[i], 0), (ix[i],iy[i]),(ix[i+1],iy[i+1]),(ix[i+1],0)]\n",
        "        poly = Polygon(verts,facecolor='0.9',edgecolor='0.5',hatch=patterns[i])\n",
        "        ax.add_patch(poly)\n",
        "\n",
        "    plt.title('Regla del Trapecio $e^{x^2}$')\n",
        "    fig.savefig(\"integral_T_ex2_1.pdf\", bbox_inches='tight')\n",
        "    return plt\n",
        "\n",
        "def main():\n",
        "    a=0                                 #limite inferior\n",
        "    b=1                                 #limite superior\n",
        "    n=1     #SIEMRE n=1 número de rectángulos-trapecios\n",
        "    area=regla_trapecios(f,a,b,n)\n",
        "    print('Integral aproximada=',area)\n",
        "    g=grafica_trapecios(f,a,b,n)\n",
        "    g.show()\n",
        "\n",
        "if __name__ == \"__main__\": main()"
      ],
      "execution_count": null,
      "outputs": [
        {
          "output_type": "stream",
          "text": [
            "Integral aproximada= 1.8591409142295225\n"
          ],
          "name": "stdout"
        },
        {
          "output_type": "display_data",
          "data": {
            "image/png": "[encoded data removed]",
            "text/plain": [
              "<Figure size 432x288 with 1 Axes>"
            ]
          },
          "metadata": {
            "tags": [],
            "needs_background": "light"
          }
        }
      ]
    },
    {
      "cell_type": "markdown",
      "metadata": {
        "id": "qaoMK66EpfoF"
      },
      "source": [
        "#2:"
      ]
    },
    {
      "cell_type": "code",
      "metadata": {
        "colab": {
          "base_uri": "https://localhost:8080/"
        },
        "id": "cg23X9lUvDpg",
        "outputId": "562bb029-aae7-4f4f-d15e-ce0f42a329e3"
      },
      "source": [
        "#Evaluar función en \"x\"\n",
        "\n",
        "f = lambda x: 2+3*x            #EDIT f(x)\n",
        "print('f(a)=',f(0))            #EDIT f(a)\n",
        "print('f(b)=',f(5))            #EDIT f(b)"
      ],
      "execution_count": null,
      "outputs": [
        {
          "output_type": "stream",
          "text": [
            "f(a)= 2\n",
            "f(b)= 17\n"
          ],
          "name": "stdout"
        }
      ]
    },
    {
      "cell_type": "code",
      "metadata": {
        "colab": {
          "base_uri": "https://localhost:8080/",
          "height": 302
        },
        "id": "lMStray7phx3",
        "outputId": "f79bbc35-e2ed-4896-b4fd-7a57b290bd2a"
      },
      "source": [
        "import numpy as np\n",
        "\n",
        "import matplotlib.pyplot as plt\n",
        "from matplotlib.patches import Polygon\n",
        "\n",
        "def regla_trapecios(f,a,b,n):\n",
        "    h=(b-a)/n\n",
        "    xs=np.linspace(a,b,n+1)\n",
        "    ys=f(xs)\n",
        "    r=h*(ys[0]+2*sum(ys[1:n])+ys[n])/2\n",
        "    return r\n",
        "\n",
        "# Función a integrar\n",
        "def f(x):\n",
        "    return 2+3*x                         #EDIT f(x)\n",
        "\n",
        "def grafica_trapecios(f,a,b,n):\n",
        "    x = np.linspace(a,b)\n",
        "    y = f(x)\n",
        "    fig, ax = plt.subplots()\n",
        "    ax.plot(x,y,'b',linewidth=1.7)\n",
        "    ax.set_ylim(bottom=0)\n",
        "\n",
        "    ix=np.linspace(a,b,n+1)\n",
        "    iy=f(ix)\n",
        "    patterns=('|','/','\\\\','0','.','o','*','\\\\','/','-','x','+')\n",
        "    for i in range(n):\n",
        "        verts = [(ix[i], 0), (ix[i],iy[i]),(ix[i+1],iy[i+1]),(ix[i+1],0)]\n",
        "        poly = Polygon(verts,facecolor='0.9',edgecolor='0.5',hatch=patterns[i])\n",
        "        ax.add_patch(poly)\n",
        "\n",
        "    plt.title('Regla del Trapecio $e^{x^2}$')\n",
        "    fig.savefig(\"integral_T_ex2_1.pdf\", bbox_inches='tight')\n",
        "    return plt\n",
        "\n",
        "def main():\n",
        "    a=0                                      # EDIT limite inferior\n",
        "    b=5                                     # EDIT limite superior\n",
        "    n=1     #SIEMRE n=1 número de rectángulos-trapecios\n",
        "    area=regla_trapecios(f,a,b,n)\n",
        "    print('Integral aproximada=',area)\n",
        "    g=grafica_trapecios(f,a,b,n)\n",
        "    g.show()\n",
        "\n",
        "if __name__ == \"__main__\": main()"
      ],
      "execution_count": null,
      "outputs": [
        {
          "output_type": "stream",
          "text": [
            "Integral aproximada= 47.5\n"
          ],
          "name": "stdout"
        },
        {
          "output_type": "display_data",
          "data": {
            "image/png": "[encoded data removed]",
            "text/plain": [
              "<Figure size 432x288 with 1 Axes>"
            ]
          },
          "metadata": {
            "tags": [],
            "needs_background": "light"
          }
        }
      ]
    },
    {
      "cell_type": "markdown",
      "metadata": {
        "id": "u3v6j55UqRZM"
      },
      "source": [
        "#3: "
      ]
    },
    {
      "cell_type": "code",
      "metadata": {
        "colab": {
          "base_uri": "https://localhost:8080/"
        },
        "id": "2_Z2CTy7vbq_",
        "outputId": "34f1b946-53c5-4992-f903-db4071627861"
      },
      "source": [
        "#Evaluar función en \"x\"\n",
        "\n",
        "f = lambda x: (x+(2/x))**2     #EDIT f(x)\n",
        "print('f(a)=',f(1))            #EDIT f(a)\n",
        "print('f(b)=',f(2))            #EDIT f(b)"
      ],
      "execution_count": null,
      "outputs": [
        {
          "output_type": "stream",
          "text": [
            "f(a)= 9.0\n",
            "f(b)= 9.0\n"
          ],
          "name": "stdout"
        }
      ]
    },
    {
      "cell_type": "code",
      "metadata": {
        "colab": {
          "base_uri": "https://localhost:8080/",
          "height": 302
        },
        "id": "PFxOzQm8qQoC",
        "outputId": "c706e26e-c75e-44d9-c12b-6fb2bff7b874"
      },
      "source": [
        "import numpy as np\n",
        "\n",
        "import matplotlib.pyplot as plt\n",
        "from matplotlib.patches import Polygon\n",
        "\n",
        "def regla_trapecios(f,a,b,n):\n",
        "    h=(b-a)/n\n",
        "    xs=np.linspace(a,b,n+1)\n",
        "    ys=f(xs)\n",
        "    r=h*(ys[0]+2*sum(ys[1:n])+ys[n])/2\n",
        "    return r\n",
        "\n",
        "# Función a integrar\n",
        "def f(x):\n",
        "    return (x+(2/x))**2                         #EDIT f(x)\n",
        "\n",
        "def grafica_trapecios(f,a,b,n):\n",
        "    x = np.linspace(a,b)\n",
        "    y = f(x)\n",
        "    fig, ax = plt.subplots()\n",
        "    ax.plot(x,y,'b',linewidth=1.7)\n",
        "    ax.set_ylim(bottom=0)\n",
        "\n",
        "    ix=np.linspace(a,b,n+1)\n",
        "    iy=f(ix)\n",
        "    patterns=('|','/','\\\\','0','.','o','*','\\\\','/','-','x','+')\n",
        "    for i in range(n):\n",
        "        verts = [(ix[i], 0), (ix[i],iy[i]),(ix[i+1],iy[i+1]),(ix[i+1],0)]\n",
        "        poly = Polygon(verts,facecolor='0.9',edgecolor='0.5',hatch=patterns[i])\n",
        "        ax.add_patch(poly)\n",
        "\n",
        "    plt.title('Regla del Trapecio $e^{x^2}$')\n",
        "    fig.savefig(\"integral_T_ex2_1.pdf\", bbox_inches='tight')\n",
        "    return plt\n",
        "\n",
        "def main():\n",
        "    a=1                                      # EDIT limite inferior\n",
        "    b=2                                     # EDIT limite superior\n",
        "    n=1     #SIEMRE n=1 número de rectángulos-trapecios\n",
        "    area=regla_trapecios(f,a,b,n)\n",
        "    print('Integral aproximada=',area)\n",
        "    g=grafica_trapecios(f,a,b,n)\n",
        "    g.show()\n",
        "\n",
        "if __name__ == \"__main__\": main()"
      ],
      "execution_count": null,
      "outputs": [
        {
          "output_type": "stream",
          "text": [
            "Integral aproximada= 9.0\n"
          ],
          "name": "stdout"
        },
        {
          "output_type": "display_data",
          "data": {
            "image/png": "[encoded data removed]",
            "text/plain": [
              "<Figure size 432x288 with 1 Axes>"
            ]
          },
          "metadata": {
            "tags": [],
            "needs_background": "light"
          }
        }
      ]
    },
    {
      "cell_type": "markdown",
      "metadata": {
        "id": "ty4r1M9bqiLO"
      },
      "source": [
        "#4: "
      ]
    },
    {
      "cell_type": "code",
      "metadata": {
        "colab": {
          "base_uri": "https://localhost:8080/"
        },
        "id": "0FebDrbIvktv",
        "outputId": "c9536d6f-254d-46c7-8b9a-a957eb5b1b8f"
      },
      "source": [
        "#Evaluar función en \"x\"\n",
        "\n",
        "f = lambda x: 0.2+25*x-200*x**2+675*x**3-900*x**4+400*x**5     #EDIT f(x)\n",
        "print('f(a)=',f(0))                                            #EDIT f(a)\n",
        "print('f(b)=',f(0.8))                                          #EDIT f(b)"
      ],
      "execution_count": null,
      "outputs": [
        {
          "output_type": "stream",
          "text": [
            "f(a)= 0.2\n",
            "f(b)= 0.23200000000005616\n"
          ],
          "name": "stdout"
        }
      ]
    },
    {
      "cell_type": "code",
      "metadata": {
        "colab": {
          "base_uri": "https://localhost:8080/",
          "height": 302
        },
        "id": "MBRxe3liqkW5",
        "outputId": "75c91f01-fbc3-4239-b802-958531e19f79"
      },
      "source": [
        "import numpy as np\n",
        "\n",
        "import matplotlib.pyplot as plt\n",
        "from matplotlib.patches import Polygon\n",
        "\n",
        "def regla_trapecios(f,a,b,n):\n",
        "    h=(b-a)/n\n",
        "    xs=np.linspace(a,b,n+1)\n",
        "    ys=f(xs)\n",
        "    r=h*(ys[0]+2*sum(ys[1:n])+ys[n])/2\n",
        "    return r\n",
        "\n",
        "# Función a integrar\n",
        "def f(x):\n",
        "    return 0.2+25*x-200*x**2+675*x**3-900*x**4+400*x**5              #EDIT f(x)\n",
        "\n",
        "def grafica_trapecios(f,a,b,n):\n",
        "    x = np.linspace(a,b)\n",
        "    y = f(x)\n",
        "    fig, ax = plt.subplots()\n",
        "    ax.plot(x,y,'b',linewidth=1.7)\n",
        "    ax.set_ylim(bottom=0)\n",
        "\n",
        "    ix=np.linspace(a,b,n+1)\n",
        "    iy=f(ix)\n",
        "    patterns=('|','/','\\\\','0','.','o','*','\\\\','/','-','x','+')\n",
        "    for i in range(n):\n",
        "        verts = [(ix[i], 0), (ix[i],iy[i]),(ix[i+1],iy[i+1]),(ix[i+1],0)]\n",
        "        poly = Polygon(verts,facecolor='0.9',edgecolor='0.5',hatch=patterns[i])\n",
        "        ax.add_patch(poly)\n",
        "\n",
        "    plt.title('Regla del Trapecio $e^{x^2}$')\n",
        "    fig.savefig(\"integral_T_ex2_1.pdf\", bbox_inches='tight')\n",
        "    return plt\n",
        "\n",
        "def main():\n",
        "    a=0                                      # EDIT limite inferior\n",
        "    b=0.8                                     # EDIT limite superior\n",
        "    n=1     #SIEMRE n=1 número de rectángulos-trapecios\n",
        "    area=regla_trapecios(f,a,b,n)\n",
        "    print('Integral aproximada=',area)\n",
        "    g=grafica_trapecios(f,a,b,n)\n",
        "    g.show()\n",
        "\n",
        "if __name__ == \"__main__\": main()"
      ],
      "execution_count": null,
      "outputs": [
        {
          "output_type": "stream",
          "text": [
            "Integral aproximada= 0.1728000000000225\n"
          ],
          "name": "stdout"
        },
        {
          "output_type": "display_data",
          "data": {
            "image/png": "[encoded data removed]",
            "text/plain": [
              "<Figure size 432x288 with 1 Axes>"
            ]
          },
          "metadata": {
            "tags": [],
            "needs_background": "light"
          }
        }
      ]
    }
  ]
}