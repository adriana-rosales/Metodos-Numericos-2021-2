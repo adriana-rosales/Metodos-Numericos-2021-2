{
  "nbformat": 4,
  "nbformat_minor": 0,
  "metadata": {
    "colab": {
      "name": "Müller",
      "provenance": [],
      "collapsed_sections": [],
      "toc_visible": true,
      "authorship_tag": "ABX9TyPRz+3yc+FG+tAd5LoOrN6W",
      "include_colab_link": true
    },
    "kernelspec": {
      "name": "python3",
      "display_name": "Python 3"
    },
    "language_info": {
      "name": "python"
    }
  },
  "cells": [
    {
      "cell_type": "markdown",
      "metadata": {
        "id": "view-in-github",
        "colab_type": "text"
      },
      "source": [
        "<a href=\"https://colab.research.google.com/github/adriana-rosales/Metodos-Numericos-2021-2/blob/main/M%C3%BCller.ipynb\" target=\"_parent\"><img src=\"https://colab.research.google.com/assets/colab-badge.svg\" alt=\"Open In Colab\"/></a>"
      ]
    },
    {
      "cell_type": "markdown",
      "metadata": {
        "id": "pSUyU_L53RTA"
      },
      "source": [
        "`NOTAS:`\n",
        "\n",
        "$$\n",
        "ln(x)⇒log(x)\n",
        "$$\n",
        "$$\n",
        "sen(x)⇒sin(x)⇒np.sin(x)\n",
        "$$\n",
        "\n",
        "$$\n",
        "⇒np.cos(x)\n",
        "$$\n",
        "\n",
        "$$\n",
        "\\pi⇒np.pi=math.pi\n",
        "$$\n",
        "\n",
        "$$\n",
        "e^{x}⇒np.exp(x)\n",
        "$$"
      ]
    },
    {
      "cell_type": "markdown",
      "metadata": {
        "id": "DoESs0t3340L"
      },
      "source": [
        "#GENERAL **➭USAR LISTING 2. ➭CALCULADORA 3,5,6**\n",
        "\n",
        "\n",
        "-**La raíz se aproxima con 3 valores x0,x1,x2 para calcular x**\n",
        "\n",
        "-Se itera hasta la presición deseada.\n",
        "\n",
        "\n",
        "$$\n",
        "x_{i+1}=\\frac{2a_0}{-a_1 \\pm \\sqrt{a_1^2-4 a_2 a_0}}\n",
        "$$\n",
        "\n",
        "\n",
        "1. `Función`\n",
        "$$\n",
        "f(x)=dato\n",
        "$$\n",
        "\n",
        "2. `Puntos iniciales x0,x1,x2`\n",
        "$$\n",
        "x_0=dato\n",
        "$$\n",
        "$$\n",
        "x_1=dato\n",
        "$$\n",
        "$$\n",
        "x_2=dato\n",
        "$$\n",
        "\n",
        "3. `Evaluar Función 1 en Puntos iniciales 2`\n",
        "\n",
        "$$\n",
        "f(x_0)=\n",
        "$$\n",
        "$$\n",
        "f(x_1)=\n",
        "$$\n",
        "$$\n",
        "f(x_2)=\n",
        "$$\n",
        "\n",
        "4. `6 cálculos`\n",
        "$$\n",
        "1: f[x_1,x_0]=\\frac{f_1-f_0}{x_1-x_0}\n",
        "$$\n",
        "$$\n",
        "2: f[x_2,x_1]=\\frac{f_2-f_1}{x_2-x_1}\n",
        "$$\n",
        "$$\n",
        "3: f[x_2,x_1,x_0]=\\frac{f[x_2,x_1]-f[x_1,x_0]}{x_2-x_0}=CALCULADORA\n",
        "$$\n",
        "$$\n",
        "4: a_2=f[x_2,x_1,x_0]\n",
        "$$\n",
        "$$\n",
        "5: a_1=f[x_2,x_1]-(x_2+x_1)a_2=CALCULADORA\n",
        "$$\n",
        "$$\n",
        "6: a_0=f_2-x_2(f[x_2-x_1]-x_1 a_2)=CALCULADORA\n",
        "$$\n",
        "5. `Iteración`\n",
        "$$\n",
        "i=1,x_2\n",
        "$$\n",
        "$$\n",
        "i=2,x_3\n",
        "$$\n",
        "$$\n",
        "i=3,x_4\n",
        "$$\n",
        "6. `Expresar ecuación CON DATOS OBTENIDOS de TABLA de iteraciones`\n",
        "\n",
        "\n",
        "**Resultado:**\n",
        "\n",
        "La raíz aproximada es ... con una precisión del orden 10^, hasta la *n* iteración\n",
        "\n",
        "$$\n",
        "|x_n-x_{n-1}|<1x10^{orden}\n",
        "$$\n",
        "\n",
        "\\begin{array}{|c|c|c|c|}\n",
        "\\hline\n",
        "Iteraciones&x_i\\\\\n",
        "\\hline\n",
        "1&-\\\\\n",
        "\\hline\n",
        "\\end{array}\n",
        "\n",
        "\n",
        "##Editar listing:\n",
        "\n",
        "* 7: `tol=`\n",
        "* 45: `EDIT f(x)`\n",
        "* 48: `EDIT (,x0,x1,tol)`\n"
      ]
    },
    {
      "cell_type": "markdown",
      "metadata": {
        "id": "riAMN3A63beR"
      },
      "source": [
        "#1:\n",
        "\n",
        "Obtener la raíz de la función:\n",
        "$$\n",
        "f(x)=cos(x)-x^2\n",
        "$$\n",
        "Puntos iniciales:\n",
        "$$\n",
        "x0=1\n",
        "$$\n",
        "$$\n",
        "x1=2\n",
        "$$\n",
        "$$\n",
        "x2=3\n",
        "$$"
      ]
    },
    {
      "cell_type": "code",
      "metadata": {
        "colab": {
          "base_uri": "https://localhost:8080/",
          "height": 368
        },
        "id": "d_DYUWFFvuer",
        "outputId": "de4c6dde-dd03-414f-b45a-a90ffe56ec19"
      },
      "source": [
        "import numpy as np\n",
        "import matplotlib.pyplot as plt\n",
        "import math\n",
        "import cmath\n",
        "\n",
        "def muller(f,x0,x1,x2,imax=100,tol=1e-8):\n",
        "    cumple=False\n",
        "    print('{:^10s} {:^10s} {:^10s} {:^10s} {:^10s} {:^10s} {:^10s} {:^10s}'.\\\n",
        "          format('x0','x1','x2','x3','f(x0)','f(x1)','f(x2)','f(x3)'))\n",
        "    k=0\n",
        "    while (not cumple and k<imax):\n",
        "        d1=(f(x1)-f(x0))/(x1-x0)\n",
        "        d2=(f(x2)-f(x1))/(x2-x1)\n",
        "        d3=(d2-d1)/(x2-x0)\n",
        "        a=d3\n",
        "        b=d1-a*(x0+x1)\n",
        "        c=f(x0)+x0*(a*x1-d1)\n",
        "        den1=-b+np.sqrt(b**2-4*a*c)\n",
        "        den2=-b-np.sqrt(b**2-4*a*c)\n",
        "        if abs(den1)>abs(den2):\n",
        "            x3=2*c/den1\n",
        "        else:\n",
        "            x3=2*c/den2\n",
        "        print('{:10.5f}{:10.5f}{:10.5f}{:10.5f}{:10.5f}{:10.5f}{:10.5f}{:10.5f}'.\\\n",
        "            format(x0,x1,x2,x3,f(x0),f(x1),f(x2),f(x3)))\n",
        "        x0=x1\n",
        "        x1=x2\n",
        "        x2=x3\n",
        "        cumple=abs(f(x3))<tol\n",
        "        k1=1\n",
        "    if k<imax:\n",
        "        return x3\n",
        "    else:\n",
        "        raise ValueError ('La función no converge')\n",
        "\n",
        "#Función a evaluar\n",
        "def f(x):\n",
        "    return np.cos(x)-x**2\n",
        "\n",
        "def main():\n",
        "    #Valores iniciales\n",
        "    x0=1\n",
        "    x1=2\n",
        "    x2=3\n",
        "    #Call\n",
        "    raiz=muller(f,x0,x1,x2,100,1e-4)\n",
        "    print('f({:e})={:e}'.format(raiz,f(raiz)))\n",
        "\n",
        "#Gráfica\n",
        "    x=np.linspace(-3,3,100)\n",
        "    y=f(x)\n",
        "\n",
        "    fig=plt.figure()\n",
        "    plt.plot(x,y)\n",
        "    plt.title('Método de Müller')\n",
        "    plt.scatter(raiz,f(raiz))\n",
        "    plt.text(raiz,f(raiz),'Raíz aproximada $x$ ='+str(raiz),color='red')\n",
        "    plt.grid()\n",
        "\n",
        "    plt.show()\n",
        "    #fig.savefig(\"muler.pdf\", bbox_inches='tight')\n",
        "\n",
        "if __name__ == \"__main__\": main()\n",
        "\n",
        "# **RESULTADO**\n",
        "# Raíces aproximadas \"x3\"\n",
        "\n",
        "# Resultado en \"ROJO\""
      ],
      "execution_count": null,
      "outputs": [
        {
          "output_type": "stream",
          "text": [
            "    x0         x1         x2         x3       f(x0)      f(x1)      f(x2)      f(x3)   \n",
            "   1.00000   2.00000   3.00000   0.84803  -0.45970  -4.41615  -9.98999  -0.05768\n",
            "   2.00000   3.00000   0.84803   0.82748  -4.41615  -9.98999  -0.05768  -0.00800\n",
            "   3.00000   0.84803   0.82748   0.82414  -9.98999  -0.05768  -0.00800  -0.00003\n",
            "f(8.241432e-01)=-2.593213e-05\n"
          ],
          "name": "stdout"
        },
        {
          "output_type": "display_data",
          "data": {
            "image/png": "[encoded data removed]",
            "text/plain": [
              "<Figure size 432x288 with 1 Axes>"
            ]
          },
          "metadata": {
            "tags": [],
            "needs_background": "light"
          }
        }
      ]
    },
    {
      "cell_type": "markdown",
      "metadata": {
        "id": "0aqx6Bev3r_3"
      },
      "source": [
        "#2:\n",
        "\n",
        "Obtener la raíz de la siguiente función, hasta obtener una precisión de 10⁻²\n",
        "$$\n",
        "f(x)=x^3+2x^2+10x-20\n",
        "$$\n",
        "Puntos iniciales:\n",
        "$$\n",
        "x0=0\n",
        "$$\n",
        "$$\n",
        "x1=1\n",
        "$$\n",
        "$$\n",
        "x2=2\n",
        "$$\n",
        "\n",
        "1. `Función`\n",
        "$$\n",
        "f(x)=dato\n",
        "$$\n",
        "\n",
        "2. `Puntos iniciales x0,x1,x2`\n",
        "$$\n",
        "x_0=dato\n",
        "$$\n",
        "$$\n",
        "x_1=dato\n",
        "$$\n",
        "$$\n",
        "x_2=dato\n",
        "$$\n",
        "\n",
        "3. `Evaluar Función 1 en Puntos iniciales 2`\n",
        "\n",
        "$$\n",
        "f(x_0)=-20\n",
        "$$\n",
        "$$\n",
        "f(x_1)=-7\n",
        "$$\n",
        "$$\n",
        "f(x_2)=16\n",
        "$$\n",
        "\n",
        "4. `6 cálculos`\n",
        "$$\n",
        "1: f[x_1,x_0]=13\n",
        "$$\n",
        "$$\n",
        "2: f[x_2,x_1]=23\n",
        "$$\n",
        "$$\n",
        "3: f[x_2,x_1,x_0]=CALCULADORA\n",
        "$$\n",
        "$$\n",
        "4: a_2=f[x_2,x_1,x_0]\n",
        "$$\n",
        "$$\n",
        "5: a_1=CALCULADORA\n",
        "$$\n",
        "$$\n",
        "6: a_0=CALCULADORA\n",
        "$$\n",
        "5. `Iteración`\n",
        "$$\n",
        "i=1,x_2\n",
        "$$\n",
        "$$\n",
        "i=2,x_3\n",
        "$$\n",
        "$$\n",
        "i=3,x_4\n",
        "$$\n",
        "6. `Expresar ecuación CON DATOS OBTENIDOS de TABLA de iteraciones`\n",
        "$$\n",
        "x_{i+1}=\\frac{2a_0}{-a_1 \\pm \\sqrt{a_1^2-4 a_2 a_0}}\n",
        "$$"
      ]
    },
    {
      "cell_type": "code",
      "metadata": {
        "colab": {
          "base_uri": "https://localhost:8080/"
        },
        "id": "YSaZ2tbA494Z",
        "outputId": "1434d119-6513-4bdd-bc6d-c44071c4e897"
      },
      "source": [
        "'EVALUAR FUNCIONES' \n",
        "\n",
        "#Evaluar función f(x) en x0\n",
        "F = lambda x: x**3+2*x**2+10*x-20              #EDIT f(x)\n",
        "print('f(x0)=', F(0))                          #EDIT \"F()\" con ⇒ x0\n",
        "\n",
        "#Evaluar función f(x) en x1\n",
        "G = lambda x: x**3+2*x**2+10*x-20              #EDIT f'(x)\n",
        "print('f(x1)=', G(1))                          #EDIT \"G()\" con ⇒ x1\n",
        "\n",
        "#Evaluar función f(x) en x2\n",
        "H = lambda x: x**3+2*x**2+10*x-20              #EDIT f'(x)\n",
        "print('f(x2)=', G(2))                          #EDIT \"H()\" con ⇒ x2"
      ],
      "execution_count": null,
      "outputs": [
        {
          "output_type": "stream",
          "text": [
            "f(x0)= -20\n",
            "f(x1)= -7\n",
            "f(x2)= 16\n"
          ],
          "name": "stdout"
        }
      ]
    },
    {
      "cell_type": "code",
      "metadata": {
        "colab": {
          "base_uri": "https://localhost:8080/"
        },
        "id": "dEq2g9YTW9Is",
        "outputId": "f54288b0-b905-46fe-e209-f28569bee698"
      },
      "source": [
        "'1:'\n",
        "\n",
        "# DATOS\n",
        "x0=0                              #EDIT x0\n",
        "x1=1                              #EDIT x1\n",
        "x2=2                              #EDIT x2\n",
        "\n",
        "fx0=-20                           #EDIT fx0 obtenido arriba\n",
        "fx1=-7                            #EDIT fx1 obtenido arriba\n",
        "fx2=16                            #EDIT fx2 obtenido arriba\n",
        "\n",
        "# CÁLCULOS\n",
        "'1:'\n",
        "fx1-=fx0\n",
        "(fx1)#Numerador\n",
        "x1-=x0\n",
        "(x1)#Denominador\n",
        "fx1/=x1\n",
        "print('f[x_1,x_0]=', fx1)#1"
      ],
      "execution_count": null,
      "outputs": [
        {
          "output_type": "stream",
          "text": [
            "f[x_1,x_0]= 13.0\n"
          ],
          "name": "stdout"
        }
      ]
    },
    {
      "cell_type": "code",
      "metadata": {
        "colab": {
          "base_uri": "https://localhost:8080/"
        },
        "id": "E-hhlt16aIwh",
        "outputId": "751ff153-a8e7-467d-c2aa-fba6334ff223"
      },
      "source": [
        "'2:'\n",
        "\n",
        "# DATOS\n",
        "x0=0                              #EDIT x0\n",
        "x1=1                              #EDIT x1\n",
        "x2=2                              #EDIT x2\n",
        "\n",
        "fx0=-20                           #EDIT fx0 obtenido arriba\n",
        "fx1=-7                            #EDIT fx1 obtenido arriba\n",
        "fx2=16                            #EDIT fx2 obtenido arriba\n",
        "\n",
        "# CÁLCULOS\n",
        "'2:'\n",
        "fx2-=fx1\n",
        "(fx2)#Numerador\n",
        "x2-=x1\n",
        "(x2)#Denominador\n",
        "fx2/=x2\n",
        "b=print('f[x_2,x_1]=', fx2)#2"
      ],
      "execution_count": null,
      "outputs": [
        {
          "output_type": "stream",
          "text": [
            "f[x_2,x_1]= 23.0\n"
          ],
          "name": "stdout"
        }
      ]
    },
    {
      "cell_type": "code",
      "metadata": {
        "colab": {
          "base_uri": "https://localhost:8080/",
          "height": 350
        },
        "id": "105NP4yS6aJZ",
        "outputId": "be316bba-2e2f-4097-fa87-0010d3acca87"
      },
      "source": [
        "import numpy as np\n",
        "import matplotlib.pyplot as plt\n",
        "import math\n",
        "import cmath\n",
        "\n",
        "def muller(f,x0,x1,x2,imax=100,tol=1e-2):                #EDIT tol=\n",
        "    cumple=False\n",
        "    print('{:^10s} {:^10s} {:^10s} {:^10s} {:^10s} {:^10s} {:^10s} {:^10s}'.\\\n",
        "          format('x0','x1','x2','x3','f(x0)','f(x1)','f(x2)','f(x3)'))\n",
        "    k=0\n",
        "    while (not cumple and k<imax):\n",
        "        d1=(f(x1)-f(x0))/(x1-x0)\n",
        "        d2=(f(x2)-f(x1))/(x2-x1)\n",
        "        d3=(d2-d1)/(x2-x0)\n",
        "        a=d3\n",
        "        b=d1-a*(x0+x1)\n",
        "        c=f(x0)+x0*(a*x1-d1)\n",
        "        den1=-b+np.sqrt(b**2-4*a*c)\n",
        "        den2=-b-np.sqrt(b**2-4*a*c)\n",
        "        if abs(den1)>abs(den2):\n",
        "            x3=2*c/den1\n",
        "        else:\n",
        "            x3=2*c/den2\n",
        "        print('{:10.5f}{:10.5f}{:10.5f}{:10.5f}{:10.5f}{:10.5f}{:10.5f}{:10.5f}'.\\\n",
        "            format(x0,x1,x2,x3,f(x0),f(x1),f(x2),f(x3)))\n",
        "        x0=x1\n",
        "        x1=x2\n",
        "        x2=x3\n",
        "        cumple=abs(f(x3))<tol\n",
        "        k1=1\n",
        "    if k<imax:\n",
        "        return x3\n",
        "    else:\n",
        "        raise ValueError ('La función no converge')\n",
        "\n",
        "#Función a evaluar\n",
        "def f(x):\n",
        "    return x**3+2*x**2+10*x-20                        #EDIT f(x)\n",
        "\n",
        "def main():\n",
        "    #Valores iniciales\n",
        "    x0=0                                              #EDIT x0\n",
        "    x1=1                                              #EDIT x1\n",
        "    x2=2                                              #EDIT x2\n",
        "    #Call\n",
        "    raiz=muller(f,x0,x1,x2,100,1e-2)                  #EDIT (,,,,tol)\n",
        "    print('f({:e})={:e}'.format(raiz,f(raiz)))\n",
        "\n",
        "#Gráfica\n",
        "    x=np.linspace(-3,3,100)\n",
        "    y=f(x)\n",
        "\n",
        "    fig=plt.figure()\n",
        "    plt.plot(x,y)\n",
        "    plt.title('Método de Müller')\n",
        "    plt.scatter(raiz,f(raiz))\n",
        "    plt.text(raiz,f(raiz),'Raíz aproximada='+str(raiz),color='red')\n",
        "    plt.grid()\n",
        "\n",
        "    plt.show()\n",
        "    #fig.savefig(\"muler.pdf\", bbox_inches='tight')\n",
        "\n",
        "if __name__ == \"__main__\": main()\n",
        "\n",
        "# **RESULTADO**\n",
        "# Raíces aproximadas \"x3\"\n",
        "\n",
        "# Resultado en \"ROJO\""
      ],
      "execution_count": null,
      "outputs": [
        {
          "output_type": "stream",
          "text": [
            "    x0         x1         x2         x3       f(x0)      f(x1)      f(x2)      f(x3)   \n",
            "   0.00000   1.00000   2.00000   1.35407 -20.00000  -7.00000  16.00000  -0.30968\n",
            "   1.00000   2.00000   1.35407   1.36865  -7.00000  16.00000  -0.30968  -0.00339\n",
            "f(1.368647e+00)=-3.393747e-03\n"
          ],
          "name": "stdout"
        },
        {
          "output_type": "display_data",
          "data": {
            "image/png": "[encoded data removed]",
            "text/plain": [
              "<Figure size 432x288 with 1 Axes>"
            ]
          },
          "metadata": {
            "tags": [],
            "needs_background": "light"
          }
        }
      ]
    }
  ]
}