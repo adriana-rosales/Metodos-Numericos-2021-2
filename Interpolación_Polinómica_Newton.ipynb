{
  "nbformat": 4,
  "nbformat_minor": 0,
  "metadata": {
    "colab": {
      "name": "Interpolación Polinómica-Newton",
      "provenance": [],
      "collapsed_sections": [],
      "authorship_tag": "ABX9TyPpZTtPJadSHTxkeSf2yBOx",
      "include_colab_link": true
    },
    "kernelspec": {
      "name": "python3",
      "display_name": "Python 3"
    },
    "language_info": {
      "name": "python"
    }
  },
  "cells": [
    {
      "cell_type": "markdown",
      "metadata": {
        "id": "view-in-github",
        "colab_type": "text"
      },
      "source": [
        "<a href=\"https://colab.research.google.com/github/adriana-rosales/Metodos-Numericos-2021-2/blob/main/Interpolaci%C3%B3n_Polin%C3%B3mica_Newton.ipynb\" target=\"_parent\"><img src=\"https://colab.research.google.com/assets/colab-badge.svg\" alt=\"Open In Colab\"/></a>"
      ]
    },
    {
      "cell_type": "markdown",
      "metadata": {
        "id": "iEtiV4ykTOxU"
      },
      "source": [
        "`NOTAS:`\n",
        "\n",
        "$$\n",
        "ln(x)⇒log(x)\n",
        "$$\n",
        "$$\n",
        "sen(x)⇒sin(x)⇒np.sin(x)\n",
        "$$\n",
        "\n",
        "$$\n",
        "⇒np.cos(x)\n",
        "$$\n",
        "\n",
        "$$\n",
        "\\pi⇒np.pi=math.pi\n",
        "$$\n",
        "\n",
        "$$\n",
        "e^{x}⇒np.exp(x)\n",
        "$$\n",
        "\n",
        "$$\n",
        "raíz(x)⇒np.sqrt(x)\n",
        "$$"
      ]
    },
    {
      "cell_type": "markdown",
      "metadata": {
        "id": "dWsFnvkgTTm9"
      },
      "source": [
        "#GENERAL **⇒Siempre EDITAR x**\n",
        "\n",
        "A partir de la forma tabular de la función, se aproxima:\n",
        "$$\n",
        "f(x)\\approx P_n(x)\n",
        "$$\n",
        "\n",
        "**Polinomio de Newton**\n",
        "\n",
        "$$\n",
        "P_n(x)=a_0+a_1(x-x_0)+a_2(x-x_0)(x-x_1)+a_3(x-x_0)(x-x_1)(x-x_2)+a_4(x-x_0)(x-x_1)(x-x_2)(x-x_3)\n",
        "$$\n",
        "\n",
        "1. `Incógnita`\n",
        "\n",
        "$$\n",
        "f(x)=\n",
        "$$\n",
        "$$\n",
        "ó\n",
        "$$\n",
        "$$\n",
        "x=\n",
        "$$\n",
        "\n",
        "2. `Grado`\n",
        "$$\n",
        "n=\n",
        "$$\n",
        "\n",
        "3. `Identificar en la tabla`\n",
        "\n",
        "$$\n",
        "x_0,x_1,x_2,x_3\\dots\n",
        "$$\n",
        "\n",
        "\\begin{array}{|c|c|c|c|}\n",
        "\\hline\n",
        "x&-\\\\\n",
        "\\hline\n",
        "f(x)&-\\\\\n",
        "\\hline\n",
        "\\end{array}\n",
        "\n",
        "4. `⇒ Tabla Diferencias Divididas (EXCEL)`\n",
        "\n",
        "5. `Identificar`\n",
        "$$\n",
        "a_0, a_1, a_2, a_3\\dots\n",
        "$$\n",
        "\n",
        "6. `Expresar Polinomio-Newton, n=`\n",
        "$$\n",
        "P_n(x)=\n",
        "$$\n",
        "7. `Evaluar`\n",
        "\n",
        "\n",
        "**Resultado:**\n",
        "\n",
        "$$\n",
        "P_n(x)=\n",
        "$$\n",
        "\n",
        "##Editar Listing:\n",
        "\n",
        "*   5: `EDIT X`\n",
        "*   6: `EDIT F(X),Y`\n",
        "* 18: `INCÓGNITA x`\n",
        "* 21: `Grado n`"
      ]
    },
    {
      "cell_type": "markdown",
      "metadata": {
        "id": "pYfJeCe7S0oZ"
      },
      "source": [
        "#1: x\n",
        "\n",
        "A partir de los datos, elaborar una tabla de Diferencias Divididas y con ella, calcular el Polinomio de Newton de grado 1 y 3, después interpolar la temperatura para una presión de 2 atm.\n",
        "\n",
        "\\begin{array}{|c|c|c|c|}\n",
        "\\hline\n",
        "x&P(atm)&1&5&20&40\\\\\n",
        "\\hline\n",
        "f(x)&T(ºC)&56.5&113&181&214.5\\\\\n",
        "\\hline\n",
        "\\end{array}\n",
        "\n",
        "\n",
        "1. `Incógnita`\n",
        "\n",
        "$$\n",
        "x=2\n",
        "$$\n",
        "\n",
        "2. `Identificar en la tabla`\n",
        "\n",
        "$$\n",
        "x_0,x_1,x_2,x_3\\dots\n",
        "$$\n",
        "\n",
        "\\begin{array}{|c|c|c|c|}\n",
        "\\hline\n",
        "x&P(atm)&1&5&20&40\\\\\n",
        "\\hline\n",
        "f(x)&T(ºC)&56.5&113&181&214.5\\\\\n",
        "\\hline\n",
        "\\end{array}\n",
        "\n",
        "3. `Grado`\n",
        "$$\n",
        "n=1\n",
        "$$\n",
        "$$\n",
        "n=3\n",
        "$$\n",
        "\n",
        "**Resultado:**\n",
        "\n",
        "$$\n",
        "P_1(x)=70.625\n",
        "$$\n",
        "\n",
        "$$\n",
        "P_3(x)=72.72538461538461\n",
        "$$"
      ]
    },
    {
      "cell_type": "code",
      "metadata": {
        "colab": {
          "base_uri": "https://localhost:8080/",
          "height": 385
        },
        "id": "E7p1Zi7kTDnD",
        "outputId": "3385c247-0514-462e-92b7-2f4e100240ea"
      },
      "source": [
        "import numpy as np\n",
        "import matplotlib.pyplot as plt\n",
        "\n",
        "x=np.array([1,5,20,40])                                 #EDIT X\n",
        "y=np.array([56.5,113,181,214.5])                        #EDIT F(x),Y               \n",
        "n=x.size                                        \n",
        "\n",
        "t=np.zeros((n,n))\n",
        "t[:,0]=y\n",
        "\n",
        "#Genera la tabla de Diferencias Divididas\n",
        "for c in range(1,n):\n",
        "    for r in range (0,n-c):\n",
        "        t[r,c]=(t[r+1,c-1]-t[r,c-1]) / (x[r+c] - x[r])\n",
        "print(t)\n",
        "\n",
        "#Calcular la Interpolación Polinomial de Newton \"xi\":\n",
        "xi= 2                                                   #INCÓGNITA\n",
        "xt= 1\n",
        "yi= t[0,0]\n",
        "n=3                                                     #GRADO n\n",
        "for k in range(0,n):                            \n",
        "    xt = xt * (xi - x[k])\n",
        "    yi = yi + t[0, k+1] * xt\n",
        "\n",
        "print('Interpolación:', yi)\n",
        "\n",
        "plt.plot(x,y,'o')\n",
        "plt.plot(xi,yi,'sr')\n",
        "plt.text(xi+0.1,yi,'Interpolación de Newton='+ str(yi))           \n",
        "plt.title('Interpolación Polinomial de Newton')           \n",
        "plt.legend(['Datos','Interpolación Newton'])             \n",
        "plt.grid(True)\n",
        "plt.show\n",
        "#Resultado 1º: TABLA de Diferencias Divididas:\n",
        "#Resultado 2º: INTERPOLACIÓN-NEWTON:"
      ],
      "execution_count": null,
      "outputs": [
        {
          "output_type": "stream",
          "text": [
            "[[ 5.65000000e+01  1.41250000e+01 -5.04824561e-01  1.08502024e-02]\n",
            " [ 1.13000000e+02  4.53333333e+00 -8.16666667e-02  0.00000000e+00]\n",
            " [ 1.81000000e+02  1.67500000e+00  0.00000000e+00  0.00000000e+00]\n",
            " [ 2.14500000e+02  0.00000000e+00  0.00000000e+00  0.00000000e+00]]\n",
            "Interpolación: 72.72538461538461\n"
          ],
          "name": "stdout"
        },
        {
          "output_type": "execute_result",
          "data": {
            "text/plain": [
              "<function matplotlib.pyplot.show>"
            ]
          },
          "metadata": {
            "tags": []
          },
          "execution_count": 8
        },
        {
          "output_type": "display_data",
          "data": {
            "image/png": "[encoded data removed]",
            "text/plain": [
              "<Figure size 432x288 with 1 Axes>"
            ]
          },
          "metadata": {
            "tags": [],
            "needs_background": "light"
          }
        }
      ]
    },
    {
      "cell_type": "markdown",
      "metadata": {
        "id": "11geGGAEGKnm"
      },
      "source": [
        "#2:  x\n",
        "\n",
        "\n",
        "Calcular la profundidad del agua en el día 3, con los siguientes datos:\n",
        "\n",
        "\\begin{array}{|c|c|c|c|}\n",
        "\\hline\n",
        "x&día&1&4&8&13&18\\\\\n",
        "\\hline\n",
        "f(x)&profundidad&1.1&1.5&12.8&15.3&15.5\\\\\n",
        "\\hline\n",
        "\\end{array}\n",
        "\n",
        "\n",
        "1. `Incógnita`\n",
        "\n",
        "$$\n",
        "x=3\n",
        "$$\n",
        "\n",
        "2. `Identificar en la tabla`\n",
        "\n",
        "$$\n",
        "x_0,x_1\\dots\n",
        "$$\n",
        "\\begin{array}{|c|c|c|c|}\n",
        "\\hline\n",
        "x&1&4\\\\\n",
        "\\hline\n",
        "f(x)&1.1&1.5\\\\\n",
        "\\hline\n",
        "\\end{array}\n",
        "\n",
        "4. `Grado`\n",
        "$$\n",
        "n=1\n",
        "$$\n",
        "\n",
        "\n",
        "**Resultado:**\n",
        "\n",
        "$$\n",
        "P_n(x)= 1.3666666666666667\n",
        "$$"
      ]
    },
    {
      "cell_type": "code",
      "metadata": {
        "colab": {
          "base_uri": "https://localhost:8080/",
          "height": 489
        },
        "id": "3M5LEuCkpAwH",
        "outputId": "90f32950-30d6-4816-f968-dc2c3444189a"
      },
      "source": [
        "import numpy as np\n",
        "import matplotlib.pyplot as plt\n",
        "\n",
        "x=np.array([1,4,8,13,18])                               #EDIT X\n",
        "y=np.array([1.1,1.5,12.8,15.3,15.5])                    #EDIT Y               \n",
        "n=x.size                                        \n",
        "\n",
        "t=np.zeros((n,n))\n",
        "t[:,0]=y\n",
        "\n",
        "#Genera la tabla de Diferencias Divididas\n",
        "for c in range(1,n):\n",
        "    for r in range (0,n-c):\n",
        "        t[r,c]=(t[r+1,c-1]-t[r,c-1]) / (x[r+c] - x[r])\n",
        "print(t)\n",
        "\n",
        "#Calcular la Interpolación Polinomial de Newton \"xi\":\n",
        "xi= 3                                                   #INCÓGNITA\n",
        "xt= 1\n",
        "yi= t[0,0]\n",
        "n= 1                                                    #GRADO n\n",
        "for k in range(0,n):                            \n",
        "    xt = xt * (xi - x[k])\n",
        "    yi = yi + t[0, k+1] * xt\n",
        "\n",
        "print('Interpolación:', yi)\n",
        "\n",
        "plt.plot(x,y,'o')\n",
        "plt.plot(xi,yi,'sr')\n",
        "plt.text(xi+0.1,yi,'Interpolación'+ str(yi))           \n",
        "plt.title('Interpolación Polinomial de Newton')           \n",
        "plt.legend(['Datos','Interpolación Newton'])             \n",
        "plt.grid(True)\n",
        "plt.show\n",
        "#Resultado 1º: TABLA de Diferencias Divididas:\n",
        "#Resultado 2º: INTERPOLACIÓN-NEWTON:"
      ],
      "execution_count": null,
      "outputs": [
        {
          "output_type": "stream",
          "text": [
            "[[ 1.10000000e+00  1.33333333e-01  3.84523810e-01 -5.35714286e-02\n",
            "   4.04341737e-03]\n",
            " [ 1.50000000e+00  2.82500000e+00 -2.58333333e-01  1.51666667e-02\n",
            "   0.00000000e+00]\n",
            " [ 1.28000000e+01  5.00000000e-01 -4.60000000e-02  0.00000000e+00\n",
            "   0.00000000e+00]\n",
            " [ 1.53000000e+01  4.00000000e-02  0.00000000e+00  0.00000000e+00\n",
            "   0.00000000e+00]\n",
            " [ 1.55000000e+01  0.00000000e+00  0.00000000e+00  0.00000000e+00\n",
            "   0.00000000e+00]]\n",
            "Interpolación: 1.3666666666666667\n"
          ],
          "name": "stdout"
        },
        {
          "output_type": "execute_result",
          "data": {
            "text/plain": [
              "<function matplotlib.pyplot.show>"
            ]
          },
          "metadata": {
            "tags": []
          },
          "execution_count": 11
        },
        {
          "output_type": "display_data",
          "data": {
            "image/png": "[encoded data removed]",
            "text/plain": [
              "<Figure size 432x288 with 1 Axes>"
            ]
          },
          "metadata": {
            "tags": [],
            "needs_background": "light"
          }
        }
      ]
    },
    {
      "cell_type": "markdown",
      "metadata": {
        "id": "qFT5s9g0uD36"
      },
      "source": [
        "#3: Ordinario A"
      ]
    },
    {
      "cell_type": "code",
      "metadata": {
        "colab": {
          "base_uri": "https://localhost:8080/",
          "height": 489
        },
        "id": "CvFpOwchuFaC",
        "outputId": "d6d88edf-ddc6-48f8-9716-fa5e7dc07a45"
      },
      "source": [
        "import numpy as np\n",
        "import matplotlib.pyplot as plt\n",
        "\n",
        "x=np.array([100,200,400,800,1500])                      #EDIT X\n",
        "y=np.array([9.93,19.72,43.86,101.73,209.45])            #EDIT F(x),Y               \n",
        "n=x.size                                        \n",
        "\n",
        "t=np.zeros((n,n))\n",
        "t[:,0]=y\n",
        "\n",
        "#Genera la tabla de Diferencias Divididas\n",
        "for c in range(1,n):\n",
        "    for r in range (0,n-c):\n",
        "        t[r,c]=(t[r+1,c-1]-t[r,c-1]) / (x[r+c] - x[r])\n",
        "print(t)\n",
        "\n",
        "#Calcular la Interpolación Polinomial de Newton \"xi\":\n",
        "xi= 1000                                                #INCÓGNITA\n",
        "xt= 1\n",
        "yi= t[0,0]\n",
        "n=2                                                     #GRADO n\n",
        "for k in range(0,n):                            \n",
        "    xt = xt * (xi - x[k])\n",
        "    yi = yi + t[0, k+1] * xt\n",
        "\n",
        "print('Interpolación:', yi)\n",
        "\n",
        "plt.plot(x,y,'o')\n",
        "plt.plot(xi,yi,'sr')\n",
        "plt.text(xi+0.1,yi,'Interpolación de Newton='+ str(yi))           \n",
        "plt.title('Interpolación Polinomial de Newton')           \n",
        "plt.legend(['Datos','Interpolación Newton'])             \n",
        "plt.grid(True)\n",
        "plt.show\n",
        "#Resultado 1º: TABLA de Diferencias Divididas:\n",
        "#Resultado 2º: INTERPOLACIÓN-NEWTON:"
      ],
      "execution_count": null,
      "outputs": [
        {
          "output_type": "stream",
          "text": [
            "[[ 9.93000000e+00  9.79000000e-02  7.60000000e-05 -5.14880952e-08\n",
            "   1.94228391e-11]\n",
            " [ 1.97200000e+01  1.20700000e-01  3.99583333e-05 -2.42961205e-08\n",
            "   0.00000000e+00]\n",
            " [ 4.38600000e+01  1.44675000e-01  8.37337662e-06  0.00000000e+00\n",
            "   0.00000000e+00]\n",
            " [ 1.01730000e+02  1.53885714e-01  0.00000000e+00  0.00000000e+00\n",
            "   0.00000000e+00]\n",
            " [ 2.09450000e+02  0.00000000e+00  0.00000000e+00  0.00000000e+00\n",
            "   0.00000000e+00]]\n",
            "Interpolación: 152.76000000000002\n"
          ],
          "name": "stdout"
        },
        {
          "output_type": "execute_result",
          "data": {
            "text/plain": [
              "<function matplotlib.pyplot.show>"
            ]
          },
          "metadata": {
            "tags": []
          },
          "execution_count": 19
        },
        {
          "output_type": "display_data",
          "data": {
            "image/png": "[encoded data removed]",
            "text/plain": [
              "<Figure size 432x288 with 1 Axes>"
            ]
          },
          "metadata": {
            "tags": [],
            "needs_background": "light"
          }
        }
      ]
    },
    {
      "cell_type": "markdown",
      "metadata": {
        "id": "6rWUnouZIW4J"
      },
      "source": [
        "#ORDINARIO B"
      ]
    },
    {
      "cell_type": "code",
      "metadata": {
        "colab": {
          "base_uri": "https://localhost:8080/",
          "height": 590
        },
        "id": "nnl7rn20Iacv",
        "outputId": "4de61ced-4fdd-469d-844a-7ab7ec8d0f7f"
      },
      "source": [
        "import numpy as np\n",
        "import matplotlib.pyplot as plt\n",
        "\n",
        "x=np.array([1,2,3,5,7,8])                      #EDIT X\n",
        "y=np.array([3,6,19,99,291,44])                 #EDIT F(x),Y               \n",
        "n=x.size                                        \n",
        "\n",
        "t=np.zeros((n,n))\n",
        "t[:,0]=y\n",
        "\n",
        "#Genera la tabla de Diferencias Divididas\n",
        "for c in range(1,n):\n",
        "    for r in range (0,n-c):\n",
        "        t[r,c]=(t[r+1,c-1]-t[r,c-1]) / (x[r+c] - x[r])\n",
        "print(t)\n",
        "\n",
        "#Calcular la Interpolación Polinomial de Newton \"xi\":\n",
        "xi= 2.5                                                #INCÓGNITA\n",
        "xt= 1\n",
        "yi= t[0,0]\n",
        "n=5                                                     #GRADO n\n",
        "for k in range(0,n):                            \n",
        "    xt = xt * (xi - x[k])\n",
        "    yi = yi + t[0, k+1] * xt\n",
        "\n",
        "print('Interpolación:', yi)\n",
        "\n",
        "plt.plot(x,y,'o')\n",
        "plt.plot(xi,yi,'sr')\n",
        "plt.text(xi+0.1,yi,'Interpolación de Newton='+ str(yi))           \n",
        "plt.title('Interpolación Polinomial de Newton')           \n",
        "plt.legend(['Datos','Interpolación Newton'])             \n",
        "plt.grid(True)\n",
        "plt.show\n",
        "\n",
        "#1º Resultado: TABLA de Diferencias Divididas:\n",
        "#2º Resultado: INTERPOLACIÓN-NEWTON:"
      ],
      "execution_count": null,
      "outputs": [
        {
          "output_type": "stream",
          "text": [
            "[[   3.            3.            5.            1.            0.\n",
            "    -0.63492063]\n",
            " [   6.           13.            9.            1.           -4.44444444\n",
            "     0.        ]\n",
            " [  19.           40.           14.          -25.66666667    0.\n",
            "     0.        ]\n",
            " [  99.           96.         -114.33333333    0.            0.\n",
            "     0.        ]\n",
            " [ 291.         -247.            0.            0.            0.\n",
            "     0.        ]\n",
            " [  44.            0.            0.            0.            0.\n",
            "     0.        ]]\n",
            "Interpolación: 13.553571428571427\n"
          ],
          "name": "stdout"
        },
        {
          "output_type": "execute_result",
          "data": {
            "text/plain": [
              "<function matplotlib.pyplot.show>"
            ]
          },
          "metadata": {
            "tags": []
          },
          "execution_count": 6
        },
        {
          "output_type": "display_data",
          "data": {
            "image/png": "[encoded data removed]",
            "text/plain": [
              "<Figure size 432x288 with 1 Axes>"
            ]
          },
          "metadata": {
            "tags": [],
            "needs_background": "light"
          }
        }
      ]
    }
  ]
}