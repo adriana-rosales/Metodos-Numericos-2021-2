{
  "nbformat": 4,
  "nbformat_minor": 0,
  "metadata": {
    "colab": {
      "name": "Gauss-Jordan",
      "provenance": [],
      "collapsed_sections": [],
      "authorship_tag": "ABX9TyPfP3+HSABw41s2CwmUT0/U",
      "include_colab_link": true
    },
    "kernelspec": {
      "name": "python3",
      "display_name": "Python 3"
    },
    "language_info": {
      "name": "python"
    }
  },
  "cells": [
    {
      "cell_type": "markdown",
      "metadata": {
        "id": "view-in-github",
        "colab_type": "text"
      },
      "source": [
        "<a href=\"https://colab.research.google.com/github/adriana-rosales/Metodos-Numericos-2021-2/blob/main/Gauss_Jordan.ipynb\" target=\"_parent\"><img src=\"https://colab.research.google.com/assets/colab-badge.svg\" alt=\"Open In Colab\"/></a>"
      ]
    },
    {
      "cell_type": "markdown",
      "metadata": {
        "id": "Za5riCqihZTw"
      },
      "source": [
        "#**SOLUCIONADOR GAUSS-JORDAN:**\n",
        "\n",
        "http://es.onlinemschool.com/math/assistance/equation/gaus/"
      ]
    },
    {
      "cell_type": "markdown",
      "metadata": {
        "id": "bZjkzGQZdhqw"
      },
      "source": [
        "#1: Libro **5x5**"
      ]
    },
    {
      "cell_type": "code",
      "metadata": {
        "colab": {
          "base_uri": "https://localhost:8080/"
        },
        "id": "8MWFyb1CKIKK",
        "outputId": "3bd9fe15-8749-4ebb-c9fc-8107edf4429b"
      },
      "source": [
        "import numpy as np\n",
        "\n",
        "def gaussJordan(a,b):\n",
        "    n,_=np.shape(a)\n",
        "    A=np.c_[a,b]\n",
        "    for i in range(n):\n",
        "        for j in range(n):\n",
        "            # Si el término ya es cero continua con la siguiente\n",
        "            if (A[j,i]!=0 and A[i,i]!=0 and i!=j):\n",
        "                # Factor de reducción\n",
        "                f=A[j,i]/A[i,i]\n",
        "                A[j,i+1:n+1]=A[j,i+1:n+1]-f*A[i,i+1:n+1]\n",
        "    # aplica la sustitución inversa\n",
        "    x=np.zeros(n)\n",
        "    for i in range(n):\n",
        "        x[i]=A[i,n]/A[i,i]\n",
        "\n",
        "    return x\n",
        "\n",
        "def main():                                           #EDIT Matrix a,b\n",
        "    a=np.array([[55.8,20.4,17.1,18.5,19.2],\\\n",
        "                [7.8,52.1,12.3,13.9,18.5],\\\n",
        "                [16.4,11.5,46.1,11.5,21.3],\\\n",
        "                [11.7,9.2,14.1,47.0,10.4],\\\n",
        "                [8.3,6.8,10.4,9.1,30.6]])\n",
        "    b=np.array([2500,2000,2500,2000,1000])\n",
        "    n,c=np.shape(a)\n",
        "    r=np.linalg.matrix_rank(a)\n",
        "    ab=np.c_[a,b]\n",
        "    ra=np.linalg.matrix_rank(ab)\n",
        "\n",
        "    print('rango(A)={} rango(Ab)={} n={}'.format(r,ra,n))\n",
        "\n",
        "    if (r==ra==n):\n",
        "        print('Solucion única=')\n",
        "        x=gaussJordan(a,b)\n",
        "        #x=np.linalg.solve(a,b)\n",
        "        print(x)\n",
        "\n",
        "    if (r==ra<n):\n",
        "        print('Múltiples soluciones=')\n",
        "\n",
        "    if (r<ra):\n",
        "        print('Sin solución=')\n",
        "\n",
        "if __name__ == \"__main__\": main()\n",
        "\n",
        "# RESULTADO:\n",
        "\n",
        "# Solución única= [17.65270678 19.67904691 35.15143662 22.69415361  4.82265608]"
      ],
      "execution_count": null,
      "outputs": [
        {
          "output_type": "stream",
          "text": [
            "rango(A)=5 rango(Ab)=5 n=5\n",
            "Solucion única=\n",
            "[17.65270678 19.67904691 35.15143662 22.69415361  4.82265608]\n"
          ],
          "name": "stdout"
        }
      ]
    },
    {
      "cell_type": "markdown",
      "metadata": {
        "id": "JuIQW4NCdnMV"
      },
      "source": [
        "#2: Ordinario A **3x3**"
      ]
    },
    {
      "cell_type": "code",
      "metadata": {
        "colab": {
          "base_uri": "https://localhost:8080/"
        },
        "id": "aoKDfT8vdo-8",
        "outputId": "3a4f8a8a-80c5-4ef9-9a66-26da47cefb88"
      },
      "source": [
        "import numpy as np\n",
        "\n",
        "def gaussJordan(a,b):\n",
        "    n,_=np.shape(a)\n",
        "    A=np.c_[a,b]\n",
        "    for i in range(n):\n",
        "        for j in range(n):\n",
        "            # Si el término ya es cero continua con la siguiente\n",
        "            if (A[j,i]!=0 and A[i,i]!=0 and i!=j):\n",
        "                # Factor de reducción\n",
        "                f=A[j,i]/A[i,i]\n",
        "                A[j,i+1:n+1]=A[j,i+1:n+1]-f*A[i,i+1:n+1]\n",
        "    # aplica la sustitución inversa\n",
        "    x=np.zeros(n)\n",
        "    for i in range(n):\n",
        "        x[i]=A[i,n]/A[i,i]\n",
        "\n",
        "    return x\n",
        "\n",
        "def main():                                        #EDIT Matrix a,b\n",
        "    a=np.array([[0.876543,0.617341,0.589973],\\\n",
        "                [0.61231,0.784461,0.827742],\\\n",
        "                [0.317321,0.446779,0.476349]])\n",
        "    b=np.array([0.863257,0.820647,0.450098])\n",
        "    n,c=np.shape(a)\n",
        "    r=np.linalg.matrix_rank(a)\n",
        "    ab=np.c_[a,b]\n",
        "    ra=np.linalg.matrix_rank(ab)\n",
        "\n",
        "    print('rango(A)={} rango(Ab)={} n={}'.format(r,ra,n))\n",
        "\n",
        "    if (r==ra==n):\n",
        "        print('Solución única=')\n",
        "        x=gaussJordan(a,b)\n",
        "        #x=np.linalg.solve(a,b)\n",
        "        print(x)\n",
        "\n",
        "    if (r==ra<n):\n",
        "        print('Múltiples soluciones=')\n",
        "\n",
        "    if (r<ra):\n",
        "        print('Sin solución=')\n",
        "\n",
        "if __name__ == \"__main__\": main()\n",
        "\n",
        "# RESULTADO:\n",
        "\n",
        "# Solución única= [0.62822234 0.03174855 0.49662175]"
      ],
      "execution_count": null,
      "outputs": [
        {
          "output_type": "stream",
          "text": [
            "rango(A)=3 rango(Ab)=3 n=3\n",
            "Solución única=\n",
            "[0.62822234 0.03174855 0.49662175]\n"
          ],
          "name": "stdout"
        }
      ]
    },
    {
      "cell_type": "markdown",
      "metadata": {
        "id": "Daq2-MtEYZPv"
      },
      "source": [
        "#3: **3x3**"
      ]
    },
    {
      "cell_type": "code",
      "metadata": {
        "colab": {
          "base_uri": "https://localhost:8080/"
        },
        "id": "JfLt7Tq6XrQv",
        "outputId": "f36b55db-a7b4-47e5-831d-58ca6811d6b7"
      },
      "source": [
        "import numpy as np\n",
        "\n",
        "def gaussJordan(a,b):\n",
        "    n,_=np.shape(a)\n",
        "    A=np.c_[a,b]\n",
        "    for i in range(n):\n",
        "        for j in range(n):\n",
        "            # Si el término ya es cero continua con la siguiente\n",
        "            if (A[j,i]!=0 and A[i,i]!=0 and i!=j):\n",
        "                # Factor de reducción\n",
        "                f=A[j,i]/A[i,i]\n",
        "                A[j,i+1:n+1]=A[j,i+1:n+1]-f*A[i,i+1:n+1]\n",
        "    # aplica la sustitución inversa\n",
        "    x=np.zeros(n)\n",
        "    for i in range(n):\n",
        "        x[i]=A[i,n]/A[i,i]\n",
        "\n",
        "    return x\n",
        "\n",
        "def main():                                           #EDIT Matrix a,b\n",
        "    a=np.array([[1,-1,3],\\\n",
        "                [1,1,1],\\\n",
        "                [2,2,-1]])\n",
        "    b=np.array([13,11,7])\n",
        "    n,c=np.shape(a)\n",
        "    r=np.linalg.matrix_rank(a)\n",
        "    ab=np.c_[a,b]\n",
        "    ra=np.linalg.matrix_rank(ab)\n",
        "\n",
        "    print('rango(A)={} rango(Ab)={} n={}'.format(r,ra,n))\n",
        "\n",
        "    if (r==ra==n):\n",
        "        print('Solucion única=')\n",
        "        x=gaussJordan(a,b)\n",
        "        #x=np.linalg.solve(a,b)\n",
        "        print(x)\n",
        "\n",
        "    if (r==ra<n):\n",
        "        print('Múltiples soluciones=')\n",
        "\n",
        "    if (r<ra):\n",
        "        print('Sin solución=')\n",
        "\n",
        "if __name__ == \"__main__\": main()\n",
        "\n",
        "# RESULTADO:\n",
        "\n",
        "# Solución única= [2. 4. 5.]"
      ],
      "execution_count": null,
      "outputs": [
        {
          "output_type": "stream",
          "text": [
            "rango(A)=3 rango(Ab)=3 n=3\n",
            "Solucion única=\n",
            "[2. 4. 5.]\n"
          ],
          "name": "stdout"
        }
      ]
    },
    {
      "cell_type": "markdown",
      "metadata": {
        "id": "G-zEWyhHV-yl"
      },
      "source": [
        "#4: **4x4**"
      ]
    },
    {
      "cell_type": "code",
      "metadata": {
        "colab": {
          "base_uri": "https://localhost:8080/"
        },
        "id": "0aJ7rLDjWG0o",
        "outputId": "1b8ba3be-6b89-4b0f-d4ad-25abcc3788fc"
      },
      "source": [
        "import numpy as np\n",
        "\n",
        "def gaussJordan(a,b):\n",
        "    n,_=np.shape(a)\n",
        "    A=np.c_[a,b]\n",
        "    for i in range(n):\n",
        "        for j in range(n):\n",
        "            # Si el término ya es cero continua con la siguiente\n",
        "            if (A[j,i]!=0 and A[i,i]!=0 and i!=j):\n",
        "                # Factor de reducción\n",
        "                f=A[j,i]/A[i,i]\n",
        "                A[j,i+1:n+1]=A[j,i+1:n+1]-f*A[i,i+1:n+1]\n",
        "    # aplica la sustitución inversa\n",
        "    x=np.zeros(n)\n",
        "    for i in range(n):\n",
        "        x[i]=A[i,n]/A[i,i]\n",
        "\n",
        "    return x\n",
        "\n",
        "def main():                                        #EDIT Matrix a,b\n",
        "    a=np.array([[1,-1,0,0],\\\n",
        "                [0,1,1,0],\\\n",
        "                [0,0,1,2],\\\n",
        "                [2,0,0,-3]])\n",
        "    b=np.array([-6,3,4,5])\n",
        "    n,c=np.shape(a)\n",
        "    r=np.linalg.matrix_rank(a)\n",
        "    ab=np.c_[a,b]\n",
        "    ra=np.linalg.matrix_rank(ab)\n",
        "\n",
        "    print('rango(A)={} rango(Ab)={} n={}'.format(r,ra,n))\n",
        "\n",
        "    if (r==ra==n):\n",
        "        print('Solución única=')\n",
        "        x=gaussJordan(a,b)\n",
        "        #x=np.linalg.solve(a,b)\n",
        "        print(x)\n",
        "\n",
        "    if (r==ra<n):\n",
        "        print('Múltiples soluciones=')\n",
        "\n",
        "    if (r<ra):\n",
        "        print('Sin solución=')\n",
        "\n",
        "if __name__ == \"__main__\": main()\n",
        "\n",
        "# RESULTADO:\n",
        "\n",
        "# Solución única= [ 31.  37. -34.  19.]"
      ],
      "execution_count": null,
      "outputs": [
        {
          "output_type": "stream",
          "text": [
            "rango(A)=4 rango(Ab)=4 n=4\n",
            "Solución única=\n",
            "[ 31.  37. -34.  19.]\n"
          ],
          "name": "stdout"
        }
      ]
    },
    {
      "cell_type": "markdown",
      "metadata": {
        "id": "-w0rcCIZbDjC"
      },
      "source": [
        "#5: **4x4** ❗️"
      ]
    },
    {
      "cell_type": "code",
      "metadata": {
        "colab": {
          "base_uri": "https://localhost:8080/"
        },
        "id": "kFptZtjTbFdF",
        "outputId": "2af71de1-2e59-4ea2-d69e-4b006a1224f7"
      },
      "source": [
        "import numpy as np\n",
        "\n",
        "def gaussJordan(a,b):\n",
        "    n,_=np.shape(a)\n",
        "    A=np.c_[a,b]\n",
        "    for i in range(n):\n",
        "        for j in range(n):\n",
        "            # Si el término ya es cero continua con la siguiente\n",
        "            if (A[j,i]!=0 and A[i,i]!=0 and i!=j):\n",
        "                # Factor de reducción\n",
        "                f=A[j,i]/A[i,i]\n",
        "                A[j,i+1:n+1]=A[j,i+1:n+1]-f*A[i,i+1:n+1]\n",
        "    # aplica la sustitución inversa\n",
        "    x=np.zeros(n)\n",
        "    for i in range(n):\n",
        "        x[i]=A[i,n]/A[i,i]\n",
        "\n",
        "    return x\n",
        "\n",
        "def main():                                           #EDIT Matrix a,b\n",
        "    a=np.array([[3,-1,1,2],\\\n",
        "                [-2,1,-1,-1],\\\n",
        "                [6,-3,2,5],\\\n",
        "                [4,2,3,0]])\n",
        "    b=np.array([2,-1,4,1])\n",
        "    n,c=np.shape(a)\n",
        "    r=np.linalg.matrix_rank(a)\n",
        "    ab=np.c_[a,b]\n",
        "    ra=np.linalg.matrix_rank(ab)\n",
        "\n",
        "    print('rango(A)={} rango(Ab)={} n={}'.format(r,ra,n))\n",
        "\n",
        "    if (r==ra==n):\n",
        "        print('Solucion única=')\n",
        "        x=gaussJordan(a,b)\n",
        "        #x=np.linalg.solve(a,b)\n",
        "        print(x)\n",
        "\n",
        "    if (r==ra<n):\n",
        "        print('Múltiples soluciones=')\n",
        "\n",
        "    if (r<ra):\n",
        "        print('Sin solución=')\n",
        "\n",
        "if __name__ == \"__main__\": main()\n",
        "\n",
        "# RESULTADO MAL\n",
        "\n",
        "# Solución CORRECTA(EXCEL)= [1  0 -1  0]"
      ],
      "execution_count": null,
      "outputs": [
        {
          "output_type": "stream",
          "text": [
            "rango(A)=4 rango(Ab)=4 n=4\n",
            "Solucion única=\n",
            "[0.33333333        nan        nan 0.5       ]\n"
          ],
          "name": "stdout"
        },
        {
          "output_type": "stream",
          "text": [
            "/usr/local/lib/python3.7/dist-packages/ipykernel_launcher.py:16: RuntimeWarning: invalid value encountered in long_scalars\n",
            "  app.launch_new_instance()\n"
          ],
          "name": "stderr"
        }
      ]
    },
    {
      "cell_type": "markdown",
      "metadata": {
        "id": "QN686JGydAqW"
      },
      "source": [
        "#6: **4x4**"
      ]
    },
    {
      "cell_type": "code",
      "metadata": {
        "colab": {
          "base_uri": "https://localhost:8080/"
        },
        "id": "soEqM2cHdEqn",
        "outputId": "c329937a-7ff6-48a3-b62b-e202d117eca2"
      },
      "source": [
        "import numpy as np\n",
        "\n",
        "def gaussJordan(a,b):\n",
        "    n,_=np.shape(a)\n",
        "    A=np.c_[a,b]\n",
        "    for i in range(n):\n",
        "        for j in range(n):\n",
        "            # Si el término ya es cero continua con la siguiente\n",
        "            if (A[j,i]!=0 and A[i,i]!=0 and i!=j):\n",
        "                # Factor de reducción\n",
        "                f=A[j,i]/A[i,i]\n",
        "                A[j,i+1:n+1]=A[j,i+1:n+1]-f*A[i,i+1:n+1]\n",
        "    # aplica la sustitución inversa\n",
        "    x=np.zeros(n)\n",
        "    for i in range(n):\n",
        "        x[i]=A[i,n]/A[i,i]\n",
        "\n",
        "    return x\n",
        "\n",
        "def main():                                           #EDIT Matrix a,b\n",
        "    a=np.array([[0.07,0.18,0.15,0.24],\\\n",
        "                [0.03,0.25,0.1,0.65],\\\n",
        "                [0.55,0.41,0.55,0.09],\\\n",
        "                [0.35,0.16,0.2,0.02]])\n",
        "    b=np.array([0.1,0.2,0.4,0.3])\n",
        "    n,c=np.shape(a)\n",
        "    r=np.linalg.matrix_rank(a)\n",
        "    ab=np.c_[a,b]\n",
        "    ra=np.linalg.matrix_rank(ab)\n",
        "\n",
        "    print('rango(A)={} rango(Ab)={} n={}'.format(r,ra,n))\n",
        "\n",
        "    if (r==ra==n):\n",
        "        print('Solucion única=')\n",
        "        x=gaussJordan(a,b)\n",
        "        #x=np.linalg.solve(a,b)\n",
        "        print(x)\n",
        "\n",
        "    if (r==ra<n):\n",
        "        print('Múltiples soluciones=')\n",
        "\n",
        "    if (r<ra):\n",
        "        print('Sin solución=')\n",
        "\n",
        "if __name__ == \"__main__\": main()\n",
        "\n",
        "# RESULTADO MAL\n",
        "\n",
        "# Solución única= [1  0 -1  0]"
      ],
      "execution_count": null,
      "outputs": [
        {
          "output_type": "stream",
          "text": [
            "rango(A)=4 rango(Ab)=4 n=4\n",
            "Solucion única=\n",
            "[ 1.00828729  0.50414365 -0.68508287  0.17265193]\n"
          ],
          "name": "stdout"
        }
      ]
    },
    {
      "cell_type": "markdown",
      "metadata": {
        "id": "bif6OwwZeKdX"
      },
      "source": [
        "#7: **4x4** ❗️"
      ]
    },
    {
      "cell_type": "code",
      "metadata": {
        "colab": {
          "base_uri": "https://localhost:8080/"
        },
        "id": "2731eWI2eNZn",
        "outputId": "5c2c769d-d5d3-4acc-e84a-a86a09efc66d"
      },
      "source": [
        "import numpy as np\n",
        "\n",
        "def gaussJordan(a,b):\n",
        "    n,_=np.shape(a)\n",
        "    A=np.c_[a,b]\n",
        "    for i in range(n):\n",
        "        for j in range(n):\n",
        "            # Si el término ya es cero continua con la siguiente\n",
        "            if (A[j,i]!=0 and A[i,i]!=0 and i!=j):\n",
        "                # Factor de reducción\n",
        "                f=A[j,i]/A[i,i]\n",
        "                A[j,i+1:n+1]=A[j,i+1:n+1]-f*A[i,i+1:n+1]\n",
        "    # aplica la sustitución inversa\n",
        "    x=np.zeros(n)\n",
        "    for i in range(n):\n",
        "        x[i]=A[i,n]/A[i,i]\n",
        "\n",
        "    return x\n",
        "\n",
        "def main():                                           #EDIT Matrix a,b\n",
        "    a=np.array([[16,6,4,1],\\\n",
        "                [1,-8,1,1],\\\n",
        "                [16,2,-4,1],\\\n",
        "                [9,8,-3,1]])\n",
        "    b=np.array([-36,-64,-4,-64])\n",
        "    n,c=np.shape(a)\n",
        "    r=np.linalg.matrix_rank(a)\n",
        "    ab=np.c_[a,b]\n",
        "    ra=np.linalg.matrix_rank(ab)\n",
        "\n",
        "    print('rango(A)={} rango(Ab)={} n={}'.format(r,ra,n))\n",
        "\n",
        "    if (r==ra==n):\n",
        "        print('Solucion única=')\n",
        "        x=gaussJordan(a,b)\n",
        "        #x=np.linalg.solve(a,b)\n",
        "        print(x)\n",
        "\n",
        "    if (r==ra<n):\n",
        "        print('Múltiples soluciones=')\n",
        "\n",
        "    if (r<ra):\n",
        "        print('Sin solución=')\n",
        "\n",
        "if __name__ == \"__main__\": main()\n",
        "\n",
        "# RESULTADO MAL\n",
        "\n",
        "# Solución CORRECTA (EXCEL)= [4  -4  -8  -92]"
      ],
      "execution_count": null,
      "outputs": [
        {
          "output_type": "stream",
          "text": [
            "rango(A)=4 rango(Ab)=4 n=4\n",
            "Solucion única=\n",
            "[-3.125  7.625 -7.75    -inf]\n"
          ],
          "name": "stdout"
        },
        {
          "output_type": "stream",
          "text": [
            "/usr/local/lib/python3.7/dist-packages/ipykernel_launcher.py:16: RuntimeWarning: divide by zero encountered in long_scalars\n",
            "  app.launch_new_instance()\n"
          ],
          "name": "stderr"
        }
      ]
    },
    {
      "cell_type": "markdown",
      "metadata": {
        "id": "nCUZFWy0e596"
      },
      "source": [
        "#8: **4x4** ❗️"
      ]
    },
    {
      "cell_type": "code",
      "metadata": {
        "colab": {
          "base_uri": "https://localhost:8080/"
        },
        "id": "QnRVBcGse71l",
        "outputId": "e55097d0-18de-4102-e514-3e924d1eeb99"
      },
      "source": [
        "import numpy as np\n",
        "\n",
        "def gaussJordan(a,b):\n",
        "    n,_=np.shape(a)\n",
        "    A=np.c_[a,b]\n",
        "    for i in range(n):\n",
        "        for j in range(n):\n",
        "            # Si el término ya es cero continua con la siguiente\n",
        "            if (A[j,i]!=0 and A[i,i]!=0 and i!=j):\n",
        "                # Factor de reducción\n",
        "                f=A[j,i]/A[i,i]\n",
        "                A[j,i+1:n+1]=A[j,i+1:n+1]-f*A[i,i+1:n+1]\n",
        "    # aplica la sustitución inversa\n",
        "    x=np.zeros(n)\n",
        "    for i in range(n):\n",
        "        x[i]=A[i,n]/A[i,i]\n",
        "\n",
        "    return x\n",
        "\n",
        "def main():                                           #EDIT Matrix a,b\n",
        "    a=np.array([[1,-2,2,-3],\\\n",
        "                [3,4,-1,1],\\\n",
        "                [2,-3,2,-1],\\\n",
        "                [1,1,-3,-2]])\n",
        "    b=np.array([15,-6,17,-7])\n",
        "    n,c=np.shape(a)\n",
        "    r=np.linalg.matrix_rank(a)\n",
        "    ab=np.c_[a,b]\n",
        "    ra=np.linalg.matrix_rank(ab)\n",
        "\n",
        "    print('rango(A)={} rango(Ab)={} n={}'.format(r,ra,n))\n",
        "\n",
        "    if (r==ra==n):\n",
        "        print('Solucion única=')\n",
        "        x=gaussJordan(a,b)\n",
        "        #x=np.linalg.solve(a,b)\n",
        "        print(x)\n",
        "\n",
        "    if (r==ra<n):\n",
        "        print('Múltiples soluciones=')\n",
        "\n",
        "    if (r<ra):\n",
        "        print('Sin solución=')\n",
        "\n",
        "if __name__ == \"__main__\": main()\n",
        "\n",
        "# RESULTADO MAL\n",
        "\n",
        "# Solución CORRECTA (EXCEL)= [2  -2  3 -1 ]"
      ],
      "execution_count": null,
      "outputs": [
        {
          "output_type": "stream",
          "text": [
            "rango(A)=4 rango(Ab)=4 n=4\n",
            "Solucion única=\n",
            "[ 3.  -1.6  3.  -0.8]\n"
          ],
          "name": "stdout"
        }
      ]
    },
    {
      "cell_type": "markdown",
      "metadata": {
        "id": "TWoPn71wgKoL"
      },
      "source": [
        "#9: **4x4** ❗️"
      ]
    },
    {
      "cell_type": "code",
      "metadata": {
        "colab": {
          "base_uri": "https://localhost:8080/"
        },
        "id": "9ASFJGEwgMse",
        "outputId": "246bd0b0-bbc8-4ec2-f752-bfb2286c9bbe"
      },
      "source": [
        "import numpy as np\n",
        "\n",
        "def gaussJordan(a,b):\n",
        "    n,_=np.shape(a)\n",
        "    A=np.c_[a,b]\n",
        "    for i in range(n):\n",
        "        for j in range(n):\n",
        "            # Si el término ya es cero continua con la siguiente\n",
        "            if (A[j,i]!=0 and A[i,i]!=0 and i!=j):\n",
        "                # Factor de reducción\n",
        "                f=A[j,i]/A[i,i]\n",
        "                A[j,i+1:n+1]=A[j,i+1:n+1]-f*A[i,i+1:n+1]\n",
        "    # aplica la sustitución inversa\n",
        "    x=np.zeros(n)\n",
        "    for i in range(n):\n",
        "        x[i]=A[i,n]/A[i,i]\n",
        "\n",
        "    return x\n",
        "\n",
        "def main():                                           #EDIT Matrix a,b\n",
        "    a=np.array([[1,2,-1,1],\\\n",
        "                [2,-1,2,3],\\\n",
        "                [-1,3,3,-2],\\\n",
        "                [3,-2,1,1]])\n",
        "    b=np.array([0,7,17,-2])\n",
        "    n,c=np.shape(a)\n",
        "    r=np.linalg.matrix_rank(a)\n",
        "    ab=np.c_[a,b]\n",
        "    ra=np.linalg.matrix_rank(ab)\n",
        "\n",
        "    print('rango(A)={} rango(Ab)={} n={}'.format(r,ra,n))\n",
        "\n",
        "    if (r==ra==n):\n",
        "        print('Solucion única=')\n",
        "        x=gaussJordan(a,b)\n",
        "        #x=np.linalg.solve(a,b)\n",
        "        print(x)\n",
        "\n",
        "    if (r==ra<n):\n",
        "        print('Múltiples soluciones=')\n",
        "\n",
        "    if (r<ra):\n",
        "        print('Sin solución=')\n",
        "\n",
        "if __name__ == \"__main__\": main()\n",
        "\n",
        "# RESULTADO MAL\n",
        "\n",
        "# Solución CORRECTA (EXCEL)= [-1  2 4 1]"
      ],
      "execution_count": null,
      "outputs": [
        {
          "output_type": "stream",
          "text": [
            "rango(A)=4 rango(Ab)=4 n=4\n",
            "Solucion única=\n",
            "[0.         2.         4.         1.66666667]\n"
          ],
          "name": "stdout"
        }
      ]
    },
    {
      "cell_type": "markdown",
      "metadata": {
        "id": "JX5keSmlhtnH"
      },
      "source": [
        "#10: **3x3** ❗️\n",
        "\n"
      ]
    },
    {
      "cell_type": "code",
      "metadata": {
        "colab": {
          "base_uri": "https://localhost:8080/"
        },
        "id": "wKhLrC4nhwCZ",
        "outputId": "faa33bcc-c8fa-4da7-f7a5-bff28610920b"
      },
      "source": [
        "import numpy as np\n",
        "\n",
        "def gaussJordan(a,b):\n",
        "    n,_=np.shape(a)\n",
        "    A=np.c_[a,b]\n",
        "    for i in range(n):\n",
        "        for j in range(n):\n",
        "            # Si el término ya es cero continua con la siguiente\n",
        "            if (A[j,i]!=0 and A[i,i]!=0 and i!=j):\n",
        "                # Factor de reducción\n",
        "                f=A[j,i]/A[i,i]\n",
        "                A[j,i+1:n+1]=A[j,i+1:n+1]-f*A[i,i+1:n+1]\n",
        "    # aplica la sustitución inversa\n",
        "    x=np.zeros(n)\n",
        "    for i in range(n):\n",
        "        x[i]=A[i,n]/A[i,i]\n",
        "\n",
        "    return x\n",
        "\n",
        "def main():                                           #EDIT Matrix a,b\n",
        "    a=np.array([[2,3,1],\\\n",
        "                [3,-2,-4],\\\n",
        "                [5,-1,-1]])\n",
        "    b=np.array([1,-3,4])\n",
        "    n,c=np.shape(a)\n",
        "    r=np.linalg.matrix_rank(a)\n",
        "    ab=np.c_[a,b]\n",
        "    ra=np.linalg.matrix_rank(ab)\n",
        "\n",
        "    print('rango(A)={} rango(Ab)={} n={}'.format(r,ra,n))\n",
        "\n",
        "    if (r==ra==n):\n",
        "        print('Solucion única=')\n",
        "        x=gaussJordan(a,b)\n",
        "        #x=np.linalg.solve(a,b)\n",
        "        print(x)\n",
        "\n",
        "    if (r==ra<n):\n",
        "        print('Múltiples soluciones=')\n",
        "\n",
        "    if (r<ra):\n",
        "        print('Sin solución=')\n",
        "\n",
        "if __name__ == \"__main__\": main()\n",
        "\n",
        "# RESULTADO MAL:\n",
        "\n",
        "# Solución CORRECTA= [1  -1  2]"
      ],
      "execution_count": null,
      "outputs": [
        {
          "output_type": "stream",
          "text": [
            "rango(A)=3 rango(Ab)=3 n=3\n",
            "Solucion única=\n",
            "[ 0.5 -1.   2. ]\n"
          ],
          "name": "stdout"
        }
      ]
    },
    {
      "cell_type": "markdown",
      "metadata": {
        "id": "c-fmi00viX-B"
      },
      "source": [
        "#11: **3x3** "
      ]
    },
    {
      "cell_type": "code",
      "metadata": {
        "colab": {
          "base_uri": "https://localhost:8080/"
        },
        "id": "J6EpPYOyia-t",
        "outputId": "51145d17-8307-4955-d211-03deb9a20c2d"
      },
      "source": [
        "import numpy as np\n",
        "\n",
        "def gaussJordan(a,b):\n",
        "    n,_=np.shape(a)\n",
        "    A=np.c_[a,b]\n",
        "    for i in range(n):\n",
        "        for j in range(n):\n",
        "            # Si el término ya es cero continua con la siguiente\n",
        "            if (A[j,i]!=0 and A[i,i]!=0 and i!=j):\n",
        "                # Factor de reducción\n",
        "                f=A[j,i]/A[i,i]\n",
        "                A[j,i+1:n+1]=A[j,i+1:n+1]-f*A[i,i+1:n+1]\n",
        "    # aplica la sustitución inversa\n",
        "    x=np.zeros(n)\n",
        "    for i in range(n):\n",
        "        x[i]=A[i,n]/A[i,i]\n",
        "\n",
        "    return x\n",
        "\n",
        "def main():                                           #EDIT Matrix a,b\n",
        "    a=np.array([[3,2,4],\\\n",
        "                [5,-1,-3],\\\n",
        "                [4,3,1]])\n",
        "    b=np.array([1,-7,2])\n",
        "    n,c=np.shape(a)\n",
        "    r=np.linalg.matrix_rank(a)\n",
        "    ab=np.c_[a,b]\n",
        "    ra=np.linalg.matrix_rank(ab)\n",
        "\n",
        "    print('rango(A)={} rango(Ab)={} n={}'.format(r,ra,n))\n",
        "\n",
        "    if (r==ra==n):\n",
        "        print('Solucion única=')\n",
        "        x=gaussJordan(a,b)\n",
        "        #x=np.linalg.solve(a,b)\n",
        "        print(x)\n",
        "\n",
        "    if (r==ra<n):\n",
        "        print('Múltiples soluciones=')\n",
        "\n",
        "    if (r<ra):\n",
        "        print('Sin solución=')\n",
        "\n",
        "if __name__ == \"__main__\": main()\n",
        "\n",
        "# RESULTADO:\n",
        "\n",
        "# Solución única= [-1.  2. -0.]"
      ],
      "execution_count": null,
      "outputs": [
        {
          "output_type": "stream",
          "text": [
            "rango(A)=3 rango(Ab)=3 n=3\n",
            "Solucion única=\n",
            "[-1.  2. -0.]\n"
          ],
          "name": "stdout"
        }
      ]
    }
  ]
}