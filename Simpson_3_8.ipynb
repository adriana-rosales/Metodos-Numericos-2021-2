{
  "nbformat": 4,
  "nbformat_minor": 0,
  "metadata": {
    "colab": {
      "name": "Simpson 3/8",
      "provenance": [],
      "collapsed_sections": [],
      "authorship_tag": "ABX9TyMRQccLyJWuVPzVidKSju8p",
      "include_colab_link": true
    },
    "kernelspec": {
      "name": "python3",
      "display_name": "Python 3"
    },
    "language_info": {
      "name": "python"
    }
  },
  "cells": [
    {
      "cell_type": "markdown",
      "metadata": {
        "id": "view-in-github",
        "colab_type": "text"
      },
      "source": [
        "<a href=\"https://colab.research.google.com/github/adriana-rosales/Metodos-Numericos-2021-2/blob/main/Simpson_3_8.ipynb\" target=\"_parent\"><img src=\"https://colab.research.google.com/assets/colab-badge.svg\" alt=\"Open In Colab\"/></a>"
      ]
    },
    {
      "cell_type": "markdown",
      "metadata": {
        "id": "izUW-ft81cEn"
      },
      "source": [
        "# **⇒n=3. ⇒USAR LISTING 2. ⇒Calcular A MANO: x1,x2, E%**"
      ]
    },
    {
      "cell_type": "markdown",
      "metadata": {
        "id": "gkFbH_qALwtx"
      },
      "source": [
        "#1: Libro"
      ]
    },
    {
      "cell_type": "code",
      "metadata": {
        "id": "XgHs8xs3BJPU",
        "colab": {
          "base_uri": "https://localhost:8080/",
          "height": 298
        },
        "outputId": "a1cd82d0-c7cb-4c9e-8696-6ad470a1b2a1"
      },
      "source": [
        "import numpy as np\n",
        "from scipy.interpolate import lagrange\n",
        "import matplotlib.pyplot as plt\n",
        "from matplotlib.patches import Polygon\n",
        "\n",
        "def regla_simpson13(f,a,b,n):\n",
        "    h=(b-a)/n\n",
        "    xs=np.linspace(a,b,n+1)\n",
        "    ys=f(xs)\n",
        "    r=3*h*(ys[0]+3*sum(ys[1:n-1:3])+3*sum(ys[2:n:3])+2*sum(ys[3:n-2:3])+ys[n])/8\n",
        "    return r\n",
        "\n",
        "# Función a integrar\n",
        "def f(x):\n",
        "    return (9+4*np.cos(0.4*x)**2)*(5*np.exp(-0.5*x)+2*np.exp(0.15*x))   #EDIT f(x)\n",
        "\n",
        "def grafica_trapecios(f,a,b,n):\n",
        "    x = np.linspace(a,b)\n",
        "    y = f(x)\n",
        "    fig, ax = plt.subplots()\n",
        "    ax.plot(x,y,'b',linewidth=1.7)\n",
        "    ax.set_ylim(bottom=0)\n",
        "\n",
        "    h=(b-a)/n\n",
        "    x0,x1,x2,x3=a,a+h,a+2*h,a+3*h\n",
        "    i=0\n",
        "    patterns=('|','/','\\\\','0','.','o','*','\\\\','/','-','x','+')\n",
        "    for i in range(0,n,3):\n",
        "        xx=np.array([x0,x1,x2,x3])\n",
        "        yy=np.array([f(x0),f(x1),f(x2),f(x3)])\n",
        "        pol=lagrange(xx,yy)\n",
        "\n",
        "        ix=np.linspace(x0,x1)\n",
        "        iy=pol(ix)\n",
        "        verts=[(x0,0),*zip(ix,iy),(x1,0)]\n",
        "        poly=Polygon(verts,facecolor='0.9',edgecolor='0.5',hatch=patterns[i])\n",
        "        ax.add_patch(poly)\n",
        "\n",
        "        ix=np.linspace(x1,x2)\n",
        "        iy=pol(ix)\n",
        "        verts=[(x1,0),*zip(ix,iy),(x2,0)]\n",
        "        poly=Polygon(verts,facecolor='0.9',edgecolor='0.5',hatch=patterns[i])\n",
        "        ax.add_patch(poly)\n",
        "\n",
        "        ix=np.linspace(x2,x3)\n",
        "        iy=pol(ix)\n",
        "        verts=[(x2,0),*zip(ix,iy),(x3,0)]\n",
        "        poly=Polygon(verts,facecolor='0.9',edgecolor='0.5',hatch=patterns[i])\n",
        "        ax.add_patch(poly)\n",
        "\n",
        "        x0,x1,x2,x3=x3,x3+h,x3+2*h,x3+3*h\n",
        "\n",
        "    plt.title('Regla de Simpson 3/8')\n",
        "    fig.savefig(\"int_simpson38.pdf\", bbox_inches='tight')\n",
        "    return plt\n",
        "\n",
        "def main():\n",
        "    a=2                                 #limite inferior\n",
        "    b=8                                 #limite superior\n",
        "    n=3                                 #número de subintervalos MÚLTIPLO DE 3\n",
        "    area=regla_simpson13(f,a,b,n)\n",
        "    print('Integral aproximada=',area)\n",
        "    g=grafica_trapecios(f,a,b,n)\n",
        "    g.show()\n",
        "\n",
        "if __name__ == \"__main__\": main()"
      ],
      "execution_count": null,
      "outputs": [
        {
          "output_type": "stream",
          "text": [
            "Integral aproximada= 320.293339144601\n"
          ],
          "name": "stdout"
        },
        {
          "output_type": "display_data",
          "data": {
            "image/png": "[encoded data removed]",
            "text/plain": [
              "<Figure size 432x288 with 1 Axes>"
            ]
          },
          "metadata": {
            "tags": [],
            "needs_background": "light"
          }
        }
      ]
    },
    {
      "cell_type": "markdown",
      "metadata": {
        "id": "eE7R004H1TPf"
      },
      "source": [
        "#2:"
      ]
    },
    {
      "cell_type": "code",
      "metadata": {
        "colab": {
          "base_uri": "https://localhost:8080/"
        },
        "id": "BPoQtdYR1tBz",
        "outputId": "78b3e491-844c-4f3b-978c-172d81f54675"
      },
      "source": [
        "#Evaluar función en \"x\"\n",
        "\n",
        "f = lambda x: 0.2+25*x-200*x**2+675*x**3-900*x**4+400*x**5     #EDIT f(x)\n",
        "print('f(a)=',f(0))                                            #EDIT f(a)\n",
        "print('f(b)=',f(0.8))                                          #EDIT f(b)\n",
        "\n",
        "\n",
        "# PRIMERO SE CALCULA \"A MANO x1 y x2\". Luego, se calcula f(x1) y f(x2):\n",
        "\n",
        "print('f(x1)=',f(0.2666))                                         #EDIT f(x1)\n",
        "print('f(x2)=',f(0.5333))                                         #EDIT f(x2)"
      ],
      "execution_count": null,
      "outputs": [
        {
          "output_type": "stream",
          "text": [
            "f(a)= 0.2\n",
            "f(b)= 0.23200000000005616\n",
            "f(x1)= 1.4324457382717641\n",
            "f(x2)= 3.4870652128434827\n"
          ],
          "name": "stdout"
        }
      ]
    },
    {
      "cell_type": "code",
      "metadata": {
        "colab": {
          "base_uri": "https://localhost:8080/",
          "height": 298
        },
        "id": "Qx7pdyXG1Ukz",
        "outputId": "dfdb2b37-0cff-4a1c-8a27-014e2f791c3a"
      },
      "source": [
        "import numpy as np\n",
        "from scipy.interpolate import lagrange\n",
        "import matplotlib.pyplot as plt\n",
        "from matplotlib.patches import Polygon\n",
        "\n",
        "def regla_simpson13(f,a,b,n):\n",
        "    h=(b-a)/n\n",
        "    xs=np.linspace(a,b,n+1)\n",
        "    ys=f(xs)\n",
        "    r=3*h*(ys[0]+3*sum(ys[1:n-1:3])+3*sum(ys[2:n:3])+2*sum(ys[3:n-2:3])+ys[n])/8\n",
        "    return r\n",
        "\n",
        "# Función a integrar\n",
        "def f(x):\n",
        "    return 0.2+25*x-200*x**2+675*x**3-900*x**4+400*x**5          #EDIT f(x)\n",
        "\n",
        "def grafica_trapecios(f,a,b,n):\n",
        "    x = np.linspace(a,b)\n",
        "    y = f(x)\n",
        "    fig, ax = plt.subplots()\n",
        "    ax.plot(x,y,'b',linewidth=1.7)\n",
        "    ax.set_ylim(bottom=0)\n",
        "\n",
        "    h=(b-a)/n\n",
        "    x0,x1,x2,x3=a,a+h,a+2*h,a+3*h\n",
        "    i=0\n",
        "    patterns=('|','/','\\\\','0','.','o','*','\\\\','/','-','x','+')\n",
        "    for i in range(0,n,3):\n",
        "        xx=np.array([x0,x1,x2,x3])\n",
        "        yy=np.array([f(x0),f(x1),f(x2),f(x3)])\n",
        "        pol=lagrange(xx,yy)\n",
        "\n",
        "        ix=np.linspace(x0,x1)\n",
        "        iy=pol(ix)\n",
        "        verts=[(x0,0),*zip(ix,iy),(x1,0)]\n",
        "        poly=Polygon(verts,facecolor='0.9',edgecolor='0.5',hatch=patterns[i])\n",
        "        ax.add_patch(poly)\n",
        "\n",
        "        ix=np.linspace(x1,x2)\n",
        "        iy=pol(ix)\n",
        "        verts=[(x1,0),*zip(ix,iy),(x2,0)]\n",
        "        poly=Polygon(verts,facecolor='0.9',edgecolor='0.5',hatch=patterns[i])\n",
        "        ax.add_patch(poly)\n",
        "\n",
        "        ix=np.linspace(x2,x3)\n",
        "        iy=pol(ix)\n",
        "        verts=[(x2,0),*zip(ix,iy),(x3,0)]\n",
        "        poly=Polygon(verts,facecolor='0.9',edgecolor='0.5',hatch=patterns[i])\n",
        "        ax.add_patch(poly)\n",
        "\n",
        "        x0,x1,x2,x3=x3,x3+h,x3+2*h,x3+3*h\n",
        "\n",
        "    plt.title('Regla de Simpson 3/8')\n",
        "    fig.savefig(\"int_simpson38.pdf\", bbox_inches='tight')\n",
        "    return plt\n",
        "\n",
        "def main():\n",
        "    a=0                                 #limite inferior\n",
        "    b=0.8                               #limite superior\n",
        "    n=3                                 #número de subintervalos MÚLTIPLO DE 3\n",
        "    area=regla_simpson13(f,a,b,n)\n",
        "    print('Integral aproximada=',area)\n",
        "    g=grafica_trapecios(f,a,b,n)\n",
        "    g.show()\n",
        "\n",
        "if __name__ == \"__main__\": main()"
      ],
      "execution_count": null,
      "outputs": [
        {
          "output_type": "stream",
          "text": [
            "Integral aproximada= 1.519170370370378\n"
          ],
          "name": "stdout"
        },
        {
          "output_type": "display_data",
          "data": {
            "image/png": "[encoded data removed]",
            "text/plain": [
              "<Figure size 432x288 with 1 Axes>"
            ]
          },
          "metadata": {
            "tags": [],
            "needs_background": "light"
          }
        }
      ]
    },
    {
      "cell_type": "markdown",
      "metadata": {
        "id": "RcwaW_L51VV0"
      },
      "source": [
        "#3: "
      ]
    },
    {
      "cell_type": "code",
      "metadata": {
        "colab": {
          "base_uri": "https://localhost:8080/"
        },
        "id": "zHFzaDEQ1uW7",
        "outputId": "9a47d657-cd85-439c-b075-946c1d51c675"
      },
      "source": [
        "#Evaluar función en \"x\"\n",
        "\n",
        "f = lambda x: (1-x-4*x**3+2*x**5)                            #EDIT f(x)\n",
        "print('f(a)=',f(-2))                                         #EDIT f(a)\n",
        "print('f(b)=',f(4))                                          #EDIT f(b)\n",
        "\n",
        "\n",
        "# PRIMERO SE CALCULA \"A MANO x1 y x2\". Luego, se calcula f(x1) y f(x2):\n",
        "\n",
        "print('f(x1)=',f(0))                                         #EDIT f(x1)\n",
        "print('f(x2)=',f(2))                                         #EDIT f(x2)"
      ],
      "execution_count": null,
      "outputs": [
        {
          "output_type": "stream",
          "text": [
            "f(a)= -29\n",
            "f(b)= 1789\n",
            "f(x1)= 1\n",
            "f(x2)= 31\n"
          ],
          "name": "stdout"
        }
      ]
    },
    {
      "cell_type": "code",
      "metadata": {
        "colab": {
          "base_uri": "https://localhost:8080/",
          "height": 298
        },
        "id": "HeVGQvKv1hms",
        "outputId": "636c6937-7159-4bcd-e82b-4fae3d1f16c6"
      },
      "source": [
        "import numpy as np\n",
        "from scipy.interpolate import lagrange\n",
        "import matplotlib.pyplot as plt\n",
        "from matplotlib.patches import Polygon\n",
        "\n",
        "def regla_simpson13(f,a,b,n):\n",
        "    h=(b-a)/n\n",
        "    xs=np.linspace(a,b,n+1)\n",
        "    ys=f(xs)\n",
        "    r=3*h*(ys[0]+3*sum(ys[1:n-1:3])+3*sum(ys[2:n:3])+2*sum(ys[3:n-2:3])+ys[n])/8\n",
        "    return r\n",
        "\n",
        "# Función a integrar\n",
        "def f(x):\n",
        "    return (1-x-4*x**3+2*x**5)                                 #EDIT f(x)\n",
        "\n",
        "def grafica_trapecios(f,a,b,n):\n",
        "    x = np.linspace(a,b)\n",
        "    y = f(x)\n",
        "    fig, ax = plt.subplots()\n",
        "    ax.plot(x,y,'b',linewidth=1.7)\n",
        "    ax.set_ylim(bottom=0)\n",
        "\n",
        "    h=(b-a)/n\n",
        "    x0,x1,x2,x3=a,a+h,a+2*h,a+3*h\n",
        "    i=0\n",
        "    patterns=('|','/','\\\\','0','.','o','*','\\\\','/','-','x','+')\n",
        "    for i in range(0,n,3):\n",
        "        xx=np.array([x0,x1,x2,x3])\n",
        "        yy=np.array([f(x0),f(x1),f(x2),f(x3)])\n",
        "        pol=lagrange(xx,yy)\n",
        "\n",
        "        ix=np.linspace(x0,x1)\n",
        "        iy=pol(ix)\n",
        "        verts=[(x0,0),*zip(ix,iy),(x1,0)]\n",
        "        poly=Polygon(verts,facecolor='0.9',edgecolor='0.5',hatch=patterns[i])\n",
        "        ax.add_patch(poly)\n",
        "\n",
        "        ix=np.linspace(x1,x2)\n",
        "        iy=pol(ix)\n",
        "        verts=[(x1,0),*zip(ix,iy),(x2,0)]\n",
        "        poly=Polygon(verts,facecolor='0.9',edgecolor='0.5',hatch=patterns[i])\n",
        "        ax.add_patch(poly)\n",
        "\n",
        "        ix=np.linspace(x2,x3)\n",
        "        iy=pol(ix)\n",
        "        verts=[(x2,0),*zip(ix,iy),(x3,0)]\n",
        "        poly=Polygon(verts,facecolor='0.9',edgecolor='0.5',hatch=patterns[i])\n",
        "        ax.add_patch(poly)\n",
        "\n",
        "        x0,x1,x2,x3=x3,x3+h,x3+2*h,x3+3*h\n",
        "\n",
        "    plt.title('Regla de Simpson 3/8')\n",
        "    fig.savefig(\"int_simpson38.pdf\", bbox_inches='tight')\n",
        "    return plt\n",
        "\n",
        "def main():\n",
        "    a=-2                                #limite inferior\n",
        "    b=4                                 #limite superior\n",
        "    n=3                                 #número de subintervalos MÚLTIPLO DE 3\n",
        "    area=regla_simpson13(f,a,b,n)\n",
        "    print('Integral aproximada=',area)\n",
        "    g=grafica_trapecios(f,a,b,n)\n",
        "    g.show()\n",
        "\n",
        "if __name__ == \"__main__\": main()"
      ],
      "execution_count": null,
      "outputs": [
        {
          "output_type": "stream",
          "text": [
            "Integral aproximada= 1392.0\n"
          ],
          "name": "stdout"
        },
        {
          "output_type": "display_data",
          "data": {
            "image/png": "[encoded data removed]",
            "text/plain": [
              "<Figure size 432x288 with 1 Axes>"
            ]
          },
          "metadata": {
            "tags": [],
            "needs_background": "light"
          }
        }
      ]
    }
  ]
}