{
  "nbformat": 4,
  "nbformat_minor": 0,
  "metadata": {
    "colab": {
      "name": "Diferencias Divididas",
      "provenance": [],
      "collapsed_sections": [],
      "authorship_tag": "ABX9TyOCG84jLhXOoZQcyYRDzrZ2",
      "include_colab_link": true
    },
    "kernelspec": {
      "name": "python3",
      "display_name": "Python 3"
    },
    "language_info": {
      "name": "python"
    }
  },
  "cells": [
    {
      "cell_type": "markdown",
      "metadata": {
        "id": "view-in-github",
        "colab_type": "text"
      },
      "source": [
        "<a href=\"https://colab.research.google.com/github/adriana-rosales/Metodos-Numericos-2021-2/blob/main/Diferencias_Divididas.ipynb\" target=\"_parent\"><img src=\"https://colab.research.google.com/assets/colab-badge.svg\" alt=\"Open In Colab\"/></a>"
      ]
    },
    {
      "cell_type": "markdown",
      "metadata": {
        "id": "oNftfq1Hu7Vf"
      },
      "source": [
        "#GENERAL\n",
        "\n",
        "**Aproximación de derivadas** cuando se tiene un **conjunto de datos**, en lugar de la forma analítica de f(x)\n",
        "\n",
        "\n",
        "##Editar Listing:\n",
        "\n",
        "*   5: `EDIT X`\n",
        "*   6: `EDIT F(X),Y`"
      ]
    },
    {
      "cell_type": "markdown",
      "metadata": {
        "id": "oXoD6QSkvqaS"
      },
      "source": [
        "#1: x\n",
        "\n",
        "A partir de los datos, elaborar una tabla de Diferencias Divididas.\n",
        "\n",
        "\\begin{array}{|c|c|c|c|}\n",
        "\\hline\n",
        "x&1&5&20&40\\\\\n",
        "\\hline\n",
        "f(x)&56.5&113&181&214.5\\\\\n",
        "\\hline\n",
        "\\end{array}\n"
      ]
    },
    {
      "cell_type": "code",
      "metadata": {
        "colab": {
          "base_uri": "https://localhost:8080/"
        },
        "id": "1uY-pFuduzk_",
        "outputId": "a663eb6a-ba6d-433c-dda9-8cbca38e73da"
      },
      "source": [
        "import numpy as np\n",
        "import matplotlib.pyplot as plt\n",
        "\n",
        "x=np.array([1,5,20,40])                                #EDIT X\n",
        "y=np.array([56.5,113,181,214.5])                       #EDIT F(x),Y               \n",
        "n=x.size                                        \n",
        "\n",
        "t=np.zeros((n,n))\n",
        "t[:,0]=y\n",
        "\n",
        "#Genera la tabla de Diferencias Divididas\n",
        "for c in range(1,n):\n",
        "    for r in range (0,n-c):\n",
        "        t[r,c]=(t[r+1,c-1]-t[r,c-1]) / (x[r+c] - x[r])\n",
        "print(t)"
      ],
      "execution_count": null,
      "outputs": [
        {
          "output_type": "stream",
          "text": [
            "[[ 5.65000000e+01  1.41250000e+01 -5.04824561e-01  1.08502024e-02]\n",
            " [ 1.13000000e+02  4.53333333e+00 -8.16666667e-02  0.00000000e+00]\n",
            " [ 1.81000000e+02  1.67500000e+00  0.00000000e+00  0.00000000e+00]\n",
            " [ 2.14500000e+02  0.00000000e+00  0.00000000e+00  0.00000000e+00]]\n"
          ],
          "name": "stdout"
        }
      ]
    },
    {
      "cell_type": "markdown",
      "metadata": {
        "id": "XqoANdozFQFQ"
      },
      "source": [
        "#ORDINARIO B"
      ]
    },
    {
      "cell_type": "code",
      "metadata": {
        "colab": {
          "base_uri": "https://localhost:8080/"
        },
        "id": "qT8Des_WFPfq",
        "outputId": "56b511b7-51e5-492f-96d2-6f58f4485acc"
      },
      "source": [
        "import numpy as np\n",
        "import matplotlib.pyplot as plt\n",
        "\n",
        "x=np.array([1,2,3,5,7,8])                                #EDIT X\n",
        "y=np.array([3,6,19,99,291,44])                       #EDIT F(x),Y               \n",
        "n=x.size                                        \n",
        "\n",
        "t=np.zeros((n,n))\n",
        "t[:,0]=y\n",
        "\n",
        "#Genera la tabla de Diferencias Divididas\n",
        "for c in range(1,n):\n",
        "    for r in range (0,n-c):\n",
        "        t[r,c]=(t[r+1,c-1]-t[r,c-1]) / (x[r+c] - x[r])\n",
        "print(t)"
      ],
      "execution_count": null,
      "outputs": [
        {
          "output_type": "stream",
          "text": [
            "[[   3.            3.            5.            1.            0.\n",
            "    -0.63492063]\n",
            " [   6.           13.            9.            1.           -4.44444444\n",
            "     0.        ]\n",
            " [  19.           40.           14.          -25.66666667    0.\n",
            "     0.        ]\n",
            " [  99.           96.         -114.33333333    0.            0.\n",
            "     0.        ]\n",
            " [ 291.         -247.            0.            0.            0.\n",
            "     0.        ]\n",
            " [  44.            0.            0.            0.            0.\n",
            "     0.        ]]\n"
          ],
          "name": "stdout"
        }
      ]
    }
  ]
}