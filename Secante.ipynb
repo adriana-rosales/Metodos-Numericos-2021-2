{
  "nbformat": 4,
  "nbformat_minor": 0,
  "metadata": {
    "colab": {
      "name": "Secante",
      "provenance": [],
      "collapsed_sections": [],
      "authorship_tag": "ABX9TyP1Ws5JoY3FXPBkpcSaGgwH",
      "include_colab_link": true
    },
    "kernelspec": {
      "name": "python3",
      "display_name": "Python 3"
    },
    "language_info": {
      "name": "python"
    }
  },
  "cells": [
    {
      "cell_type": "markdown",
      "metadata": {
        "id": "view-in-github",
        "colab_type": "text"
      },
      "source": [
        "<a href=\"https://colab.research.google.com/github/adriana-rosales/Metodos-Numericos-2021-2/blob/main/Secante.ipynb\" target=\"_parent\"><img src=\"https://colab.research.google.com/assets/colab-badge.svg\" alt=\"Open In Colab\"/></a>"
      ]
    },
    {
      "cell_type": "markdown",
      "metadata": {
        "id": "a8t2U6qQeD73"
      },
      "source": [
        "`NOTAS:`\n",
        "\n",
        "$$\n",
        "ln(x)⇒log(x)\n",
        "$$\n",
        "$$\n",
        "sen(x)⇒sin(x)⇒np.sin(x)\n",
        "$$\n",
        "\n",
        "$$\n",
        "⇒np.cos(x)\n",
        "$$\n",
        "\n",
        "$$\n",
        "\\pi⇒np.pi=math.pi\n",
        "$$\n",
        "\n",
        "$$\n",
        "e^{x}⇒np.exp(x)\n",
        "$$"
      ]
    },
    {
      "cell_type": "markdown",
      "metadata": {
        "id": "tcU3-eMaecTY"
      },
      "source": [
        "#GENERAL **➭USAR LISTING 2.**\n",
        "\n",
        "\n",
        "-Para funciones no derivables.\n",
        "\n",
        "-**La raíz se aproxima con 2 valores x₀,x₁ para calcular x₂**\n",
        "\n",
        "-Se itera hasta la presición deseada.\n",
        "\n",
        "$$\n",
        "I_{1}=x_0-\\frac{f(x_0)(x_0-x_{-1})}{f(x_0)-f(x_{-1})}\n",
        "$$\n",
        "\n",
        "1. `Función`\n",
        "$$\n",
        "f(x)=dato\n",
        "$$\n",
        "\n",
        "2. `Puntos iniciales`\n",
        "$$\n",
        "x_0=dato\n",
        "$$\n",
        "$$\n",
        "x_{-1}=dato\n",
        "$$\n",
        "\n",
        "3. `Evaluar Función 1 en Puntos iniciales 2`\n",
        "$$\n",
        "f(x_0)=\n",
        "$$\n",
        "$$\n",
        "f(x_{-1})=\n",
        "$$\n",
        "\n",
        "6. `Iteración-aproximación`\n",
        "\n",
        "$$\n",
        "i=0-n\n",
        "$$\n",
        "\n",
        "7. `*Orden`\n",
        "$$\n",
        "10^{orden}\n",
        "$$\n",
        "\n",
        "\n",
        "8. `Expresar ecuación CON DATOS OBTENIDOS de TABLA de iteraciones`\n",
        "\n",
        "Primera iteración\n",
        "\n",
        "$$\n",
        "I_{1}=x_0-\\frac{f(x_0)(x_0-x_{-1})}{f(x_0)-f(x_{-1})}\n",
        "$$\n",
        "\n",
        "Segunda iteración\n",
        "\n",
        "$$\n",
        "I_{2}=x_1-\\frac{f(x_1)(x_1-x_{0})}{f(x_1)-f(x_{0})}\n",
        "$$\n",
        "\n",
        "Tercera iteración\n",
        "\n",
        "$$\n",
        "I_{3}=x_2-\\frac{f(x_2)(x_2-x_{1})}{f(x_2)-f(x_{1})}\n",
        "$$\n",
        "\n",
        "**Resultado:**\n",
        "\n",
        "La raíz aproximada es ... con una presición del orden 10^, hasta la *n* iteración\n",
        "\n",
        "$$\n",
        "|x_n-x_{n-1}|<1x10^{orden}\n",
        "$$\n",
        "\n",
        "\\begin{array}{|c|c|c|c|}\n",
        "\\hline\n",
        "Iteraciones&x_i\\\\\n",
        "\\hline\n",
        "1&-\\\\\n",
        "\\hline\n",
        "\\end{array}\n",
        "\n",
        "\n",
        "##Editar listing:\n",
        "\n",
        "* 26: `EDIT f(x)`\n",
        "*   27: `EDIT f(x)`\n",
        "*   31: `EDIT x0`\n",
        "* 32: `EDIT x1`\n",
        "* 34: `EDIT (,,,,tol)`\n"
      ]
    },
    {
      "cell_type": "code",
      "metadata": {
        "colab": {
          "base_uri": "https://localhost:8080/"
        },
        "id": "5datLVG6d-if",
        "outputId": "f68d7a5d-d6ec-4434-d118-08bdf032975f"
      },
      "source": [
        "#3: EVALUAR FUNCIONES:\n",
        "\n",
        "#Evaluar función f(x) en x0\n",
        "F = lambda x: -2*x**6-1.5*x**4+10*x+2          #EDIT f(x)\n",
        "print('f(x0)=', F(0))                          #EDIT \"F()\"\n",
        "\n",
        "#Evaluar función f(x) en x_(-1)\n",
        "G = lambda x: -2*x**6-1.5*x**4+10*x+2          #EDIT f(x)\n",
        "print('f(x_{-1})=', G(1))                      #EDIT \"G()\" "
      ],
      "execution_count": null,
      "outputs": [
        {
          "output_type": "stream",
          "text": [
            "f(x0)= 2.0\n",
            "f(x_{-1})= 8.5\n"
          ],
          "name": "stdout"
        }
      ]
    },
    {
      "cell_type": "markdown",
      "metadata": {
        "id": "5jyfrtt60MFP"
      },
      "source": [
        "#1: Libro"
      ]
    },
    {
      "cell_type": "code",
      "metadata": {
        "colab": {
          "base_uri": "https://localhost:8080/",
          "height": 437
        },
        "id": "iAd7vDOXt-KK",
        "outputId": "34e88da8-d9a9-4a29-d36e-18cdf619a7f9"
      },
      "source": [
        "import numpy as np\n",
        "import matplotlib.pyplot as plt\n",
        "import math\n",
        "import cmath\n",
        "\n",
        "def secante(f,x0,x1,imax=100,tol=1e-8):\n",
        "    cumple=False\n",
        "    print('{:^10s} {:^10s} {:^10s} {:^10s} {:^10s} {:^10s}'.\\\n",
        "          format('x0','x1','x','f(x0)','f(x1)','f(x)'))\n",
        "    k=0\n",
        "    while (not cumple and k<imax):\n",
        "      x=x1-f(x1)*(x0-x1)/(f(x0)-f(x1))\n",
        "      print('{:10.5f}{:10.5f}{:10.5f}{:10.5f}{:10.5f}{:10.5f}'.\\\n",
        "            format(x0,x1,x,f(x0),f(x1),f(x)))\n",
        "      x0=x1\n",
        "      x1=x\n",
        "      cumple=abs(f(x))<tol\n",
        "      k+=1\n",
        "    if k<imax:\n",
        "      return x\n",
        "    else:\n",
        "      raise ValueError ('La funcion no converge')\n",
        "\n",
        "#Función a evaluar\n",
        "def f(v):\n",
        "    R=0.158\n",
        "    Pc=4600\n",
        "    Tc=191\n",
        "    a=0.427*R**2*Tc**(2.5)/Pc\n",
        "    b=0.0866*Tc/Pc\n",
        "    p=6000\n",
        "    T=270\n",
        "    return R*T/(v-b)-a/(v*(v+b)*np.sqrt(T))-p\n",
        "  \n",
        "def main():\n",
        "    #Valores iniciales\n",
        "    x0=0.006\n",
        "    x1=0.007\n",
        "    #Call\n",
        "    raiz=secante(f,x0,x1,100,1e-4)\n",
        "    print('f({:e})={:e}'.format(raiz,f(raiz)))\n",
        "\n",
        "    x=np.linspace(0.005,0.02,100)\n",
        "    y=f(x)\n",
        "\n",
        "    fig=plt.figure()\n",
        "    plt.plot(x,y)\n",
        "    plt.title('Volumen de Metano')\n",
        "    plt.scatter(raiz,f(raiz))\n",
        "    plt.text(raiz,f(raiz),'Raíz='+str(raiz),color='red')\n",
        "    plt.grid()\n",
        "\n",
        "    plt.show()\n",
        "    fig.savefig(\"secante.pdf\",bbox_inches='tight')\n",
        "\n",
        "if __name__ == \"__main__\": main()"
      ],
      "execution_count": null,
      "outputs": [
        {
          "output_type": "stream",
          "text": [
            "    x0         x1         x        f(x0)      f(x1)       f(x)   \n",
            "   0.00600   0.00700   0.0081310508.856295572.876542664.46574\n",
            "   0.00700   0.00813   0.009165572.876542664.465741054.06532\n",
            "   0.00813   0.00916   0.009842664.465741054.06532 293.73962\n",
            "   0.00916   0.00984   0.010101054.06532 293.73962  43.03442\n",
            "   0.00984   0.01010   0.01015 293.73962  43.03442   2.04305\n",
            "   0.01010   0.01015   0.01015  43.03442   2.04305   0.01491\n",
            "   0.01015   0.01015   0.01015   2.04305   0.01491   0.00001\n",
            "f(1.014907e-02)=5.203538e-06\n"
          ],
          "name": "stdout"
        },
        {
          "output_type": "display_data",
          "data": {
            "image/png": "[encoded data removed]",
            "text/plain": [
              "<Figure size 432x288 with 1 Axes>"
            ]
          },
          "metadata": {
            "tags": [],
            "needs_background": "light"
          }
        }
      ]
    },
    {
      "cell_type": "markdown",
      "metadata": {
        "id": "es3ISPCazv96"
      },
      "source": [
        "#2:\n",
        "\n",
        "Calcular la raíz de la siguiente función, con una precisión de 10⁻³\n",
        "$$\n",
        "f(x)=e^{-x}-x\n",
        "$$\n",
        "Los valores de entrada son:\n",
        "\n",
        "$$\n",
        "x_{-1}=0\n",
        "$$\n",
        "$$\n",
        "x_0=1\n",
        "$$\n",
        "\n",
        "\n",
        "\n",
        "1. `Función`\n",
        "$$\n",
        "f(x)=e^{-x}-x\n",
        "$$\n",
        "\n",
        "2. `Puntos iniciales`\n",
        "\n",
        "$$\n",
        "x_{-1}=0\n",
        "$$\n",
        "$$\n",
        "x_0=1\n",
        "$$\n",
        "\n",
        "\n",
        "3. `Evaluar Función 1 en Puntos iniciales 2`\n",
        "\n",
        "$$\n",
        "f(x_{-1})=1\n",
        "$$\n",
        "$$\n",
        "f(x_0)=-0.6321205588285577\n",
        "$$\n",
        "\n",
        "6. `Iteración-aproximación`\n",
        "\n",
        "$$\n",
        "i=0-n\n",
        "$$\n",
        "\n",
        "7. `*Orden`\n",
        "$$\n",
        "10^{-3}\n",
        "$$\n",
        "\n",
        "8. `Expresar ecuación CON DATOS OBTENIDOS de TABLA de iteraciones`"
      ]
    },
    {
      "cell_type": "code",
      "metadata": {
        "colab": {
          "base_uri": "https://localhost:8080/"
        },
        "id": "EilsGff11ADP",
        "outputId": "1f4e2af6-8117-4c59-c01c-41e93fa32695"
      },
      "source": [
        "#3: EVALUAR FUNCIONES:\n",
        "\n",
        "#Evaluar función f(x) en x0\n",
        "F = lambda x: np.exp(-x)-x                     #EDIT f(x)\n",
        "print('f(x_{-1})=', F(0))                          #EDIT \"F()\"\n",
        "\n",
        "#Evaluar función f(x) en x1\n",
        "G = lambda x: np.exp(-x)-x                     #EDIT f'(x)\n",
        "print('f(x0)=', G(1))                         #EDIT \"G()\"    "
      ],
      "execution_count": null,
      "outputs": [
        {
          "output_type": "stream",
          "text": [
            "f(x_{-1})= 1.0\n",
            "f(x0)= -0.6321205588285577\n"
          ],
          "name": "stdout"
        }
      ]
    },
    {
      "cell_type": "code",
      "metadata": {
        "colab": {
          "base_uri": "https://localhost:8080/",
          "height": 368
        },
        "id": "VrTq52Rl1mqO",
        "outputId": "5ca6a340-d96a-428f-d07a-20b60ccd00bf"
      },
      "source": [
        "import numpy as np\n",
        "import matplotlib.pyplot as plt\n",
        "import math\n",
        "import cmath\n",
        "\n",
        "def secante(f,x0,x1,imax=100,tol=1e-3):\n",
        "    cumple=False\n",
        "    print('{:^10s} {:^10s} {:^10s} {:^10s} {:^10s} {:^10s}'.\\\n",
        "          format('x0','x1','iter: x','f(x0)','f(x1)','f(x)'))\n",
        "    k=0\n",
        "    while (not cumple and k<imax):\n",
        "      x=x1-f(x1)*(x0-x1)/(f(x0)-f(x1))\n",
        "      print('{:10.5f}{:10.5f}{:10.5f}{:10.5f}{:10.5f}{:10.5f}'.\\\n",
        "            format(x0,x1,x,f(x0),f(x1),f(x)))\n",
        "      x0=x1\n",
        "      x1=x\n",
        "      cumple=abs(f(x))<tol\n",
        "      k+=1\n",
        "    if k<imax:\n",
        "      return x\n",
        "    else:\n",
        "      raise ValueError ('La función no converge')\n",
        "\n",
        "#Función a evaluar\n",
        "def f(x):\n",
        "    np.exp(-x)-x                                #EDIT f(x)\n",
        "    return np.exp(-x)-x                         #EDIT f(x)\n",
        "\n",
        "def main():\n",
        "    #Valores iniciales\n",
        "    x0=0                                        #EDIT x0\n",
        "    x1=1                                        #EDIT x1\n",
        "    #Call\n",
        "    raiz=secante(f,x0,x1,100,1e-3)              #EDIT (,,,,tol)\n",
        "    print('f({:e})={:e}'.format(raiz,f(raiz)))\n",
        "\n",
        "#Gráfica\n",
        "    x=np.linspace(-10,10,100)\n",
        "    y=f(x)\n",
        "\n",
        "    fig=plt.figure()\n",
        "    plt.plot(x,y)\n",
        "    plt.title('Método de la secante') \n",
        "    plt.scatter(raiz,f(raiz))\n",
        "    plt.text(raiz,f(raiz),'Raíz aproximada='+str(raiz),color='red')\n",
        "    plt.grid()\n",
        "\n",
        "    plt.show()\n",
        "    fig.savefig(\"secante.pdf\",bbox_inches='tight')\n",
        "\n",
        "if __name__ == \"__main__\": main()\n",
        "\n",
        "#1º Resultado: TABLA de iteraciones (iter:x)\n",
        "\n",
        "#RESULTADO EN \"ROJO\""
      ],
      "execution_count": null,
      "outputs": [
        {
          "output_type": "stream",
          "text": [
            "    x0         x1      iter: x     f(x0)      f(x1)       f(x)   \n",
            "   0.00000   1.00000   0.61270   1.00000  -0.63212  -0.07081\n",
            "   1.00000   0.61270   0.56384  -0.63212  -0.07081   0.00518\n",
            "   0.61270   0.56384   0.56717  -0.07081   0.00518  -0.00004\n",
            "f(5.671704e-01)=-4.241924e-05\n"
          ],
          "name": "stdout"
        },
        {
          "output_type": "display_data",
          "data": {
            "image/png": "[encoded data removed]",
            "text/plain": [
              "<Figure size 432x288 with 1 Axes>"
            ]
          },
          "metadata": {
            "tags": [],
            "needs_background": "light"
          }
        }
      ]
    },
    {
      "cell_type": "markdown",
      "metadata": {
        "id": "IgPFRC_778ER"
      },
      "source": [
        "#3:\n",
        "\n",
        "Encontrar una raíz de la siguiente función, con una presicicón de 10⁻³\n",
        "$$\n",
        "f(x)=x^3+2x^2+10x-20\n",
        "$$\n",
        "Con valores iniciales:\n",
        "$$\n",
        "x_0=0\n",
        "$$\n",
        "$$\n",
        "x_1=1\n",
        "$$\n",
        "\n",
        "\n",
        "1. `Función`\n",
        "$$\n",
        "f(x)=x^3+2x^2+10x-20\n",
        "$$\n",
        "\n",
        "2. `Puntos iniciales`\n",
        "$$\n",
        "x_0=0\n",
        "$$\n",
        "$$\n",
        "x_1=1\n",
        "$$\n",
        "\n",
        "3. `Evaluar Función 1 en Puntos iniciales 2`\n",
        "$$\n",
        "f(x_0)=-20\n",
        "$$\n",
        "$$\n",
        "f(x_{-1})=-7\n",
        "$$\n",
        "\n",
        "6. `Iteración-aproximación`\n",
        "\n",
        "$$\n",
        "i=0-n\n",
        "$$\n",
        "\n",
        "7. `*Orden`\n",
        "$$\n",
        "10^{-3}\n",
        "$$\n",
        "\n",
        "8. `Expresar ecuación CON DATOS OBTENIDOS de TABLA de iteraciones`"
      ]
    },
    {
      "cell_type": "code",
      "metadata": {
        "colab": {
          "base_uri": "https://localhost:8080/"
        },
        "id": "p1FgIS80868t",
        "outputId": "3b3362c7-9a1c-4600-f473-2b2190ceb19b"
      },
      "source": [
        "#3: EVALUAR FUNCIONES:\n",
        "\n",
        "#Evaluar función f(x) en x0\n",
        "F = lambda x: x**3+2*x**2+10*x-20              #EDIT f(x)\n",
        "print('f(x0)=', F(0))                          #EDIT \"F()\"\n",
        "\n",
        "#Evaluar función f(x) en x1\n",
        "G = lambda x: x**3+2*x**2+10*x-20              #EDIT f'(x)\n",
        "print('f(x1)=', G(1))                         #EDIT \"G()\"   "
      ],
      "execution_count": null,
      "outputs": [
        {
          "output_type": "stream",
          "text": [
            "f(x0)= -20\n",
            "f(x1)= -7\n"
          ],
          "name": "stdout"
        }
      ]
    },
    {
      "cell_type": "code",
      "metadata": {
        "colab": {
          "base_uri": "https://localhost:8080/",
          "height": 402
        },
        "id": "rZp1gMAF9WPm",
        "outputId": "de27037d-6e5d-436b-9158-1ccf23e48265"
      },
      "source": [
        "import numpy as np\n",
        "import matplotlib.pyplot as plt\n",
        "import math\n",
        "import cmath\n",
        "\n",
        "def secante(f,x0,x1,imax=100,tol=1e-3):\n",
        "    cumple=False\n",
        "    print('{:^10s} {:^10s} {:^10s} {:^10s} {:^10s} {:^10s}'.\\\n",
        "          format('x0','x1','iter: x','f(x0)','f(x1)','f(x)'))\n",
        "    k=0\n",
        "    while (not cumple and k<imax):\n",
        "      x=x1-f(x1)*(x0-x1)/(f(x0)-f(x1))\n",
        "      print('{:10.5f}{:10.5f}{:10.5f}{:10.5f}{:10.5f}{:10.5f}'.\\\n",
        "            format(x0,x1,x,f(x0),f(x1),f(x)))\n",
        "      x0=x1\n",
        "      x1=x\n",
        "      cumple=abs(f(x))<tol\n",
        "      k+=1\n",
        "    if k<imax:\n",
        "      return x\n",
        "    else:\n",
        "      raise ValueError ('La función no converge')\n",
        "\n",
        "#Función a evaluar\n",
        "def f(x):\n",
        "    x**3+2*x**2+10*x-20                         #EDIT f(x)\n",
        "    return x**3+2*x**2+10*x-20                  #EDIT f(x)\n",
        "\n",
        "def main():\n",
        "    #Valores iniciales\n",
        "    x0=1                                        #EDIT x0\n",
        "    x1=0                                        #EDIT x1\n",
        "    #Call\n",
        "    raiz=secante(f,x0,x1,100,1e-5)              #EDIT (,,,,tol)\n",
        "    print('f({:e})={:e}'.format(raiz,f(raiz)))\n",
        "\n",
        "#Gráfica\n",
        "    x=np.linspace(-10,10,100)\n",
        "    y=f(x)\n",
        "\n",
        "    fig=plt.figure()\n",
        "    plt.plot(x,y)\n",
        "    plt.title('Método de la secante') \n",
        "    plt.scatter(raiz,f(raiz))\n",
        "    plt.text(raiz,f(raiz),'Raíz aproximada='+str(raiz),color='red')\n",
        "    plt.grid()\n",
        "\n",
        "    plt.show()\n",
        "    fig.savefig(\"secante.pdf\",bbox_inches='tight')\n",
        "\n",
        "if __name__ == \"__main__\": main()\n",
        "\n",
        "#1º Resultado: TABLA de iteraciones (iter:x)\n",
        "\n",
        "#RESULTADO EN \"ROJO\""
      ],
      "execution_count": null,
      "outputs": [
        {
          "output_type": "stream",
          "text": [
            "    x0         x1      iter: x     f(x0)      f(x1)       f(x)   \n",
            "   1.00000   0.00000   1.53846  -7.00000 -20.00000   3.75967\n",
            "   0.00000   1.53846   1.29502 -20.00000   3.75967  -1.52382\n",
            "   1.53846   1.29502   1.36523   3.75967  -1.52382  -0.07539\n",
            "   1.29502   1.36523   1.36889  -1.52382  -0.07539   0.00163\n",
            "   1.36523   1.36889   1.36881  -0.07539   0.00163  -0.00000\n",
            "f(1.368808e+00)=-1.686143e-06\n"
          ],
          "name": "stdout"
        },
        {
          "output_type": "display_data",
          "data": {
            "image/png": "[encoded data removed]",
            "text/plain": [
              "<Figure size 432x288 with 1 Axes>"
            ]
          },
          "metadata": {
            "tags": [],
            "needs_background": "light"
          }
        }
      ]
    },
    {
      "cell_type": "markdown",
      "metadata": {
        "id": "JE9-epIE9QOg"
      },
      "source": [
        "#ORDINARIO B"
      ]
    },
    {
      "cell_type": "code",
      "metadata": {
        "colab": {
          "base_uri": "https://localhost:8080/"
        },
        "id": "m0cfadaU9Q9i",
        "outputId": "7e0481cd-1653-4ca6-f34e-1dfc8bc9516c"
      },
      "source": [
        "#3: EVALUAR FUNCIONES:\n",
        "\n",
        "#Evaluar función f(x) en x0\n",
        "F = lambda x: -2*x**6-1.5*x**4+10*x+2          #EDIT f(x)\n",
        "print('f(x0)=', F(0))                          #EDIT \"F()\"\n",
        "\n",
        "#Evaluar función f(x) en x_(-1)\n",
        "G = lambda x: -2*x**6-1.5*x**4+10*x+2          #EDIT f(x)\n",
        "print('f(x_{-1})=', G(1))                      #EDIT \"G()\" "
      ],
      "execution_count": null,
      "outputs": [
        {
          "output_type": "stream",
          "text": [
            "f(x0)= 2.0\n",
            "f(x_{-1})= 8.5\n"
          ],
          "name": "stdout"
        }
      ]
    },
    {
      "cell_type": "code",
      "metadata": {
        "colab": {
          "base_uri": "https://localhost:8080/",
          "height": 414
        },
        "id": "bxlKslbc9XFT",
        "outputId": "5afa8f42-0abe-4a29-fb6f-741892006d3b"
      },
      "source": [
        "import numpy as np\n",
        "import matplotlib.pyplot as plt\n",
        "import math\n",
        "import cmath\n",
        "\n",
        "def secante(f,x0,x1,imax=100,tol=1e-5):\n",
        "    cumple=False\n",
        "    print('{:^10s} {:^10s} {:^10s} {:^10s} {:^10s} {:^10s}'.\\\n",
        "          format('x0','x1','iter: x','f(x0)','f(x1)','f(x)'))\n",
        "    k=0\n",
        "    while (not cumple and k<imax):\n",
        "      x=x1-f(x1)*(x0-x1)/(f(x0)-f(x1))\n",
        "      print('{:10.6f}{:10.6f}{:10.6f}{:10.6f}{:10.6f}{:10.6f}'.\\\n",
        "            format(x0,x1,x,f(x0),f(x1),f(x)))\n",
        "      x0=x1\n",
        "      x1=x\n",
        "      cumple=abs(f(x))<tol\n",
        "      k+=1\n",
        "    if k<imax:\n",
        "      return x\n",
        "    else:\n",
        "      raise ValueError ('La función no converge')\n",
        "\n",
        "#Función a evaluar\n",
        "def f(x):\n",
        "    -2*x**6-1.5*x**4+10*x+2                                #EDIT f(x)\n",
        "    return -2*x**6-1.5*x**4+10*x+2                         #EDIT f(x)\n",
        "\n",
        "def main():\n",
        "    #Valores iniciales\n",
        "    x0=1                                        #EDIT x0=x_(x-1)\n",
        "    x1=0                                        #EDIT x1=x0\n",
        "    #Call\n",
        "    raiz=secante(f,x0,x1,100,1e-5)              #EDIT (,,,,tol)\n",
        "    print('f({:e})={:e}'.format(raiz,f(raiz)))\n",
        "\n",
        "#Gráfica\n",
        "    x=np.linspace(-10,10,100)\n",
        "    y=f(x)\n",
        "\n",
        "    fig=plt.figure()\n",
        "    plt.plot(x,y)\n",
        "    plt.title('Método de la secante') \n",
        "    plt.scatter(raiz,f(raiz))\n",
        "    plt.text(raiz,f(raiz),'Raíz aproximada='+str(raiz),color='red')\n",
        "    plt.grid()\n",
        "\n",
        "    plt.show()\n",
        "    fig.savefig(\"secante.pdf\",bbox_inches='tight')\n",
        "\n",
        "if __name__ == \"__main__\": main()\n",
        "\n",
        "#1º Resultado: TABLA de iteraciones (iter:x)\n",
        "\n",
        "#RESULTADO EN \"ROJO\""
      ],
      "execution_count": null,
      "outputs": [
        {
          "output_type": "stream",
          "text": [
            "    x0         x1      iter: x     f(x0)      f(x1)       f(x)   \n",
            "  1.000000  0.000000 -0.307692  8.500000  2.000000 -1.092065\n",
            "  0.000000 -0.307692 -0.199021  2.000000 -1.092065  0.007317\n",
            " -0.307692 -0.199021 -0.199744 -1.092065  0.007317  0.000047\n",
            " -0.199021 -0.199744 -0.199749  0.007317  0.000047 -0.000000\n",
            "f(-1.997485e-01)=-1.385604e-09\n"
          ],
          "name": "stdout"
        },
        {
          "output_type": "display_data",
          "data": {
            "image/png": "[encoded data removed]",
            "text/plain": [
              "<Figure size 432x288 with 1 Axes>"
            ]
          },
          "metadata": {
            "tags": [],
            "needs_background": "light"
          }
        }
      ]
    }
  ]
}