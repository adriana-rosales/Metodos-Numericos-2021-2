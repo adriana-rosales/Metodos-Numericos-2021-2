{
  "nbformat": 4,
  "nbformat_minor": 0,
  "metadata": {
    "colab": {
      "name": "Cuad. Gauss 2 pts.*",
      "provenance": [],
      "collapsed_sections": [],
      "authorship_tag": "ABX9TyN6Xk5KU6nsga1P1jV4a9pp",
      "include_colab_link": true
    },
    "kernelspec": {
      "name": "python3",
      "display_name": "Python 3"
    },
    "language_info": {
      "name": "python"
    }
  },
  "cells": [
    {
      "cell_type": "markdown",
      "metadata": {
        "id": "view-in-github",
        "colab_type": "text"
      },
      "source": [
        "<a href=\"https://colab.research.google.com/github/adriana-rosales/Metodos-Numericos-2021-2/blob/main/Cuad_Gauss_2_pts_.ipynb\" target=\"_parent\"><img src=\"https://colab.research.google.com/assets/colab-badge.svg\" alt=\"Open In Colab\"/></a>"
      ]
    },
    {
      "cell_type": "markdown",
      "metadata": {
        "id": "436wsIi35IdU"
      },
      "source": [
        "# **⇒USAR LISTING 2. ⇒Calcular A MANO: (b-a/2), (a+b/2), E%**"
      ]
    },
    {
      "cell_type": "markdown",
      "metadata": {
        "id": "ybSavdU0Q3B5"
      },
      "source": [
        "#1: Libro"
      ]
    },
    {
      "cell_type": "code",
      "metadata": {
        "colab": {
          "base_uri": "https://localhost:8080/",
          "height": 298
        },
        "id": "HaH1GpbJNoQ0",
        "outputId": "6b36789e-114f-459e-c7b1-bdcdf1066b30"
      },
      "source": [
        "import numpy as np\n",
        "from scipy.interpolate import lagrange\n",
        "import matplotlib.pyplot as plt\n",
        "from matplotlib.patches import Polygon\n",
        "\n",
        "def cuadratura2(f,a,b):\n",
        "    x1=(b-a)/2*(-1/np.sqrt(3))+(a+b)/2\n",
        "    x2=(b-a)/2*(1/np.sqrt(3))+(a+b)/2\n",
        "    r=(b-a)/2*(f(x1)+f(x2))\n",
        "    return r\n",
        "\n",
        "# Función a integrar\n",
        "def f(x):\n",
        "    return 2.41+0.057195*x-4.3e-6*x**2                    #EDIT f(x)\n",
        "\n",
        "def grafica_cuadratura2(f,a,b):\n",
        "    x = np.linspace(a,b)\n",
        "    y = f(x)\n",
        "    fig, ax = plt.subplots()\n",
        "    ax.plot(x,y,'b',linewidth=1.7)\n",
        "    ax.set_ylim(bottom=0)\n",
        "\n",
        "    x1=(b-a)/2*(-1/np.sqrt(3))+(a+b)/2\n",
        "    x2=(b-a)/2*(1/np.sqrt(3))+(a+b)/2\n",
        "\n",
        "    linea=lagrange(np.array([x1,x2]),np.array([f(x1),f(x2)]))\n",
        "\n",
        "    ax.plot(np.array([x1,x1]),np.array([0,f(x1)]),'--g')\n",
        "    ax.plot(np.array([x2,x2]),np.array([0,f(x2)]),'--g')\n",
        "\n",
        "    ax.set_ylim(bottom=0)\n",
        "    plt.title('Cuadratura')\n",
        "\n",
        "    #Make the shaded region\n",
        "    patterns=('|','/','\\\\','0','.','o','*','\\\\','/','-','x','+')\n",
        "\n",
        "    verts=[(a,0),(a,linea(a)),(b,linea(b)),(b,0)]\n",
        "    poly=Polygon(verts,facecolor='0.9',edgecolor='0.1',hatch=patterns[0])\n",
        "    ax.add_patch(poly)\n",
        "\n",
        "\n",
        "    plt.title('Cuadratura de Gauss-Legendre 2 puntos')\n",
        "    fig.savefig(\"int_cuadratura2.pdf\", bbox_inches='tight')\n",
        "    return plt\n",
        "\n",
        "def main():\n",
        "    a=300+273.15                                         #limite inferior\n",
        "    b=600+273.15                                         #limite superior\n",
        "    area=cuadratura2(f,a,b)\n",
        "    print('Integral aproximada=',area)\n",
        "    g=grafica_cuadratura2(f,a,b)\n",
        "    g.show()\n",
        "\n",
        "if __name__ == \"__main__\": main()"
      ],
      "execution_count": null,
      "outputs": [
        {
          "output_type": "stream",
          "text": [
            "Integral aproximada= 12446.894034975\n"
          ],
          "name": "stdout"
        },
        {
          "output_type": "display_data",
          "data": {
            "image/png": "[encoded data removed]",
            "text/plain": [
              "<Figure size 432x288 with 1 Axes>"
            ]
          },
          "metadata": {
            "tags": [],
            "needs_background": "light"
          }
        }
      ]
    },
    {
      "cell_type": "markdown",
      "metadata": {
        "id": "W0nWD6Qx4vfG"
      },
      "source": [
        "#2: "
      ]
    },
    {
      "cell_type": "code",
      "metadata": {
        "colab": {
          "base_uri": "https://localhost:8080/",
          "height": 298
        },
        "id": "aEsiAq3z41VO",
        "outputId": "97bab8f5-57fe-49ef-d8a7-877997f45c08"
      },
      "source": [
        "import numpy as np\n",
        "from scipy.interpolate import lagrange\n",
        "import matplotlib.pyplot as plt\n",
        "from matplotlib.patches import Polygon\n",
        "\n",
        "def cuadratura2(f,a,b):\n",
        "    x1=(b-a)/2*(-1/np.sqrt(3))+(a+b)/2\n",
        "    x2=(b-a)/2*(1/np.sqrt(3))+(a+b)/2\n",
        "    r=(b-a)/2*(f(x1)+f(x2))\n",
        "    return r\n",
        "\n",
        "# Función a integrar\n",
        "def f(x):\n",
        "    return 0.2+25*x-200*x**2+675*x**3-900*x**4+400*x**5  #EDIT f(x)                            #EDIT f(x)\n",
        "\n",
        "def grafica_cuadratura2(f,a,b):\n",
        "    x = np.linspace(a,b)\n",
        "    y = f(x)\n",
        "    fig, ax = plt.subplots()\n",
        "    ax.plot(x,y,'b',linewidth=1.7)\n",
        "    ax.set_ylim(bottom=0)\n",
        "\n",
        "    x1=(b-a)/2*(-1/np.sqrt(3))+(a+b)/2\n",
        "    x2=(b-a)/2*(1/np.sqrt(3))+(a+b)/2\n",
        "\n",
        "    linea=lagrange(np.array([x1,x2]),np.array([f(x1),f(x2)]))\n",
        "\n",
        "    ax.plot(np.array([x1,x1]),np.array([0,f(x1)]),'--g')\n",
        "    ax.plot(np.array([x2,x2]),np.array([0,f(x2)]),'--g')\n",
        "\n",
        "    ax.set_ylim(bottom=0)\n",
        "    plt.title('Cuadratura')\n",
        "\n",
        "    #Make the shaded region\n",
        "    patterns=('|','/','\\\\','0','.','o','*','\\\\','/','-','x','+')\n",
        "\n",
        "    verts=[(a,0),(a,linea(a)),(b,linea(b)),(b,0)]\n",
        "    poly=Polygon(verts,facecolor='0.9',edgecolor='0.1',hatch=patterns[0])\n",
        "    ax.add_patch(poly)\n",
        "\n",
        "\n",
        "    plt.title('Cuadratura de Gauss-Legendre 2 puntos')\n",
        "    fig.savefig(\"int_cuadratura2.pdf\", bbox_inches='tight')\n",
        "    return plt\n",
        "\n",
        "def main():\n",
        "    a=0                                          #limite inferior\n",
        "    b=0.8                                        #limite superior\n",
        "    area=cuadratura2(f,a,b)\n",
        "    print('Integral aproximada=',area)\n",
        "    g=grafica_cuadratura2(f,a,b)\n",
        "    g.show()\n",
        "\n",
        "if __name__ == \"__main__\": main()"
      ],
      "execution_count": null,
      "outputs": [
        {
          "output_type": "stream",
          "text": [
            "Integral aproximada= 1.8225777777777772\n"
          ],
          "name": "stdout"
        },
        {
          "output_type": "display_data",
          "data": {
            "image/png": "[encoded data removed]",
            "text/plain": [
              "<Figure size 432x288 with 1 Axes>"
            ]
          },
          "metadata": {
            "tags": [],
            "needs_background": "light"
          }
        }
      ]
    },
    {
      "cell_type": "markdown",
      "metadata": {
        "id": "SNm_B_HnPlKv"
      },
      "source": [
        "#3: "
      ]
    },
    {
      "cell_type": "code",
      "metadata": {
        "colab": {
          "base_uri": "https://localhost:8080/",
          "height": 298
        },
        "id": "dXd9JajcPmiM",
        "outputId": "c5a802c0-2c37-4da8-ca06-ee7a39ec84c5"
      },
      "source": [
        "import numpy as np\n",
        "from scipy.interpolate import lagrange\n",
        "import matplotlib.pyplot as plt\n",
        "from matplotlib.patches import Polygon\n",
        "\n",
        "def cuadratura2(f,a,b):\n",
        "    x1=(b-a)/2*(-1/np.sqrt(3))+(a+b)/2\n",
        "    x2=(b-a)/2*(1/np.sqrt(3))+(a+b)/2\n",
        "    r=(b-a)/2*(f(x1)+f(x2))\n",
        "    return r\n",
        "\n",
        "# Función a integrar\n",
        "def f(x):\n",
        "    return np.exp(-x)                            #EDIT f(x)\n",
        "\n",
        "def grafica_cuadratura2(f,a,b):\n",
        "    x = np.linspace(a,b)\n",
        "    y = f(x)\n",
        "    fig, ax = plt.subplots()\n",
        "    ax.plot(x,y,'b',linewidth=1.7)\n",
        "    ax.set_ylim(bottom=0)\n",
        "\n",
        "    x1=(b-a)/2*(-1/np.sqrt(3))+(a+b)/2\n",
        "    x2=(b-a)/2*(1/np.sqrt(3))+(a+b)/2\n",
        "\n",
        "    linea=lagrange(np.array([x1,x2]),np.array([f(x1),f(x2)]))\n",
        "\n",
        "    ax.plot(np.array([x1,x1]),np.array([0,f(x1)]),'--g')\n",
        "    ax.plot(np.array([x2,x2]),np.array([0,f(x2)]),'--g')\n",
        "\n",
        "    ax.set_ylim(bottom=0)\n",
        "    plt.title('Cuadratura')\n",
        "\n",
        "    #Make the shaded region\n",
        "    patterns=('|','/','\\\\','0','.','o','*','\\\\','/','-','x','+')\n",
        "\n",
        "    verts=[(a,0),(a,linea(a)),(b,linea(b)),(b,0)]\n",
        "    poly=Polygon(verts,facecolor='0.9',edgecolor='0.1',hatch=patterns[0])\n",
        "    ax.add_patch(poly)\n",
        "\n",
        "\n",
        "    plt.title('Cuadratura de Gauss-Legendre 2 puntos')\n",
        "    fig.savefig(\"int_cuadratura2.pdf\", bbox_inches='tight')\n",
        "    return plt\n",
        "\n",
        "def main():\n",
        "    a=0                                          #limite inferior\n",
        "    b=5                                          #limite superior\n",
        "    area=cuadratura2(f,a,b)\n",
        "    print('Integral aproximada=',area)\n",
        "    g=grafica_cuadratura2(f,a,b)\n",
        "    g.show()\n",
        "\n",
        "if __name__ == \"__main__\": main()"
      ],
      "execution_count": null,
      "outputs": [
        {
          "output_type": "stream",
          "text": [
            "Integral aproximada= 0.9175249566138549\n"
          ],
          "name": "stdout"
        },
        {
          "output_type": "display_data",
          "data": {
            "image/png": "[encoded data removed]",
            "text/plain": [
              "<Figure size 432x288 with 1 Axes>"
            ]
          },
          "metadata": {
            "tags": [],
            "needs_background": "light"
          }
        }
      ]
    },
    {
      "cell_type": "markdown",
      "metadata": {
        "id": "B3_wK2We4xx-"
      },
      "source": [
        "#4:"
      ]
    },
    {
      "cell_type": "code",
      "metadata": {
        "colab": {
          "base_uri": "https://localhost:8080/",
          "height": 298
        },
        "id": "7jiTbqmR5bFI",
        "outputId": "c00ca2a0-c24e-4e3b-f984-04520c56f85a"
      },
      "source": [
        "import numpy as np\n",
        "from scipy.interpolate import lagrange\n",
        "import matplotlib.pyplot as plt\n",
        "from matplotlib.patches import Polygon\n",
        "\n",
        "def cuadratura2(f,a,b):\n",
        "    x1=(b-a)/2*(-1/np.sqrt(3))+(a+b)/2\n",
        "    x2=(b-a)/2*(1/np.sqrt(3))+(a+b)/2\n",
        "    r=(b-a)/2*(f(x1)+f(x2))\n",
        "    return r\n",
        "\n",
        "# Función a integrar\n",
        "def f(x):\n",
        "    return np.exp(np.cos(2*np.pi*x))                            #EDIT f(x)\n",
        "\n",
        "def grafica_cuadratura2(f,a,b):\n",
        "    x = np.linspace(a,b)\n",
        "    y = f(x)\n",
        "    fig, ax = plt.subplots()\n",
        "    ax.plot(x,y,'b',linewidth=1.7)\n",
        "    ax.set_ylim(bottom=0)\n",
        "\n",
        "    x1=(b-a)/2*(-1/np.sqrt(3))+(a+b)/2\n",
        "    x2=(b-a)/2*(1/np.sqrt(3))+(a+b)/2\n",
        "\n",
        "    linea=lagrange(np.array([x1,x2]),np.array([f(x1),f(x2)]))\n",
        "\n",
        "    ax.plot(np.array([x1,x1]),np.array([0,f(x1)]),'--g')\n",
        "    ax.plot(np.array([x2,x2]),np.array([0,f(x2)]),'--g')\n",
        "\n",
        "    ax.set_ylim(bottom=0)\n",
        "    plt.title('Cuadratura')\n",
        "\n",
        "    #Make the shaded region\n",
        "    patterns=('|','/','\\\\','0','.','o','*','\\\\','/','-','x','+')\n",
        "\n",
        "    verts=[(a,0),(a,linea(a)),(b,linea(b)),(b,0)]\n",
        "    poly=Polygon(verts,facecolor='0.9',edgecolor='0.1',hatch=patterns[0])\n",
        "    ax.add_patch(poly)\n",
        "\n",
        "\n",
        "    plt.title('Cuadratura de Gauss-Legendre 2 puntos')\n",
        "    fig.savefig(\"int_cuadratura2.pdf\", bbox_inches='tight')\n",
        "    return plt\n",
        "\n",
        "def main():\n",
        "    a=0                                          #limite inferior\n",
        "    b=1                                          #limite superior\n",
        "    area=cuadratura2(f,a,b)\n",
        "    print('Integral aproximada=',area)\n",
        "    g=grafica_cuadratura2(f,a,b)\n",
        "    g.show()\n",
        "\n",
        "if __name__ == \"__main__\": main()"
      ],
      "execution_count": null,
      "outputs": [
        {
          "output_type": "stream",
          "text": [
            "Integral aproximada= 1.2720356795934773\n"
          ],
          "name": "stdout"
        },
        {
          "output_type": "display_data",
          "data": {
            "image/png": "[encoded data removed]",
            "text/plain": [
              "<Figure size 432x288 with 1 Axes>"
            ]
          },
          "metadata": {
            "tags": [],
            "needs_background": "light"
          }
        }
      ]
    },
    {
      "cell_type": "markdown",
      "metadata": {
        "id": "fPUJ4VSM80mi"
      },
      "source": [
        "#5: \n"
      ]
    },
    {
      "cell_type": "code",
      "metadata": {
        "colab": {
          "base_uri": "https://localhost:8080/",
          "height": 298
        },
        "id": "D_E2RaSe82Sx",
        "outputId": "f95f34a7-de3f-4549-a6ba-386e15f84e18"
      },
      "source": [
        "import numpy as np\n",
        "from scipy.interpolate import lagrange\n",
        "import matplotlib.pyplot as plt\n",
        "from matplotlib.patches import Polygon\n",
        "\n",
        "def cuadratura2(f,a,b):\n",
        "    x1=(b-a)/2*(-1/np.sqrt(3))+(a+b)/2\n",
        "    x2=(b-a)/2*(1/np.sqrt(3))+(a+b)/2\n",
        "    r=(b-a)/2*(f(x1)+f(x2))\n",
        "    return r\n",
        "\n",
        "# Función a integrar\n",
        "def f(x):\n",
        "    return (np.exp(x)*np.sin(x))/(1+x**2)         #EDIT f(x)                            #EDIT f(x)\n",
        "\n",
        "def grafica_cuadratura2(f,a,b):\n",
        "    x = np.linspace(a,b)\n",
        "    y = f(x)\n",
        "    fig, ax = plt.subplots()\n",
        "    ax.plot(x,y,'b',linewidth=1.7)\n",
        "    ax.set_ylim(bottom=0)\n",
        "\n",
        "    x1=(b-a)/2*(-1/np.sqrt(3))+(a+b)/2\n",
        "    x2=(b-a)/2*(1/np.sqrt(3))+(a+b)/2\n",
        "\n",
        "    linea=lagrange(np.array([x1,x2]),np.array([f(x1),f(x2)]))\n",
        "\n",
        "    ax.plot(np.array([x1,x1]),np.array([0,f(x1)]),'--g')\n",
        "    ax.plot(np.array([x2,x2]),np.array([0,f(x2)]),'--g')\n",
        "\n",
        "    ax.set_ylim(bottom=0)\n",
        "    plt.title('Cuadratura')\n",
        "\n",
        "    #Make the shaded region\n",
        "    patterns=('|','/','\\\\','0','.','o','*','\\\\','/','-','x','+')\n",
        "\n",
        "    verts=[(a,0),(a,linea(a)),(b,linea(b)),(b,0)]\n",
        "    poly=Polygon(verts,facecolor='0.9',edgecolor='0.1',hatch=patterns[0])\n",
        "    ax.add_patch(poly)\n",
        "\n",
        "\n",
        "    plt.title('Cuadratura de Gauss-Legendre 2 puntos')\n",
        "    fig.savefig(\"int_cuadratura2.pdf\", bbox_inches='tight')\n",
        "    return plt\n",
        "\n",
        "def main():\n",
        "    a=0                                          #limite inferior\n",
        "    b=3                                          #limite superior\n",
        "    area=cuadratura2(f,a,b)\n",
        "    print('Integral aproximada=',area)\n",
        "    g=grafica_cuadratura2(f,a,b)\n",
        "    g.show()\n",
        "\n",
        "if __name__ == \"__main__\": main()"
      ],
      "execution_count": null,
      "outputs": [
        {
          "output_type": "stream",
          "text": [
            "Integral aproximada= 2.8906480004893247\n"
          ],
          "name": "stdout"
        },
        {
          "output_type": "display_data",
          "data": {
            "image/png": "[encoded data removed]",
            "text/plain": [
              "<Figure size 432x288 with 1 Axes>"
            ]
          },
          "metadata": {
            "tags": [],
            "needs_background": "light"
          }
        }
      ]
    },
    {
      "cell_type": "markdown",
      "metadata": {
        "id": "Tx6pqcWmWIUY"
      },
      "source": [
        "#ORDINARIO B"
      ]
    },
    {
      "cell_type": "code",
      "metadata": {
        "colab": {
          "base_uri": "https://localhost:8080/",
          "height": 298
        },
        "id": "lYmcXKqqVyJo",
        "outputId": "10eb6958-241d-4293-ea55-58a1cdb15958"
      },
      "source": [
        "import numpy as np\n",
        "from scipy.interpolate import lagrange\n",
        "import matplotlib.pyplot as plt\n",
        "from matplotlib.patches import Polygon\n",
        "\n",
        "def cuadratura2(f,a,b):\n",
        "    x1=(b-a)/2*(-1/np.sqrt(3))+(a+b)/2\n",
        "    x2=(b-a)/2*(1/np.sqrt(3))+(a+b)/2\n",
        "    r=(b-a)/2*(f(x1)+f(x2))\n",
        "    return r\n",
        "\n",
        "# Función a integrar\n",
        "def f(x):\n",
        "    return (x**3)/(x-np.sin(x))                   #EDIT f(x)\n",
        "\n",
        "def grafica_cuadratura2(f,a,b):\n",
        "    x = np.linspace(a,b)\n",
        "    y = f(x)\n",
        "    fig, ax = plt.subplots()\n",
        "    ax.plot(x,y,'b',linewidth=1.7)\n",
        "    ax.set_ylim(bottom=0)\n",
        "\n",
        "    x1=(b-a)/2*(-1/np.sqrt(3))+(a+b)/2\n",
        "    x2=(b-a)/2*(1/np.sqrt(3))+(a+b)/2\n",
        "\n",
        "    linea=lagrange(np.array([x1,x2]),np.array([f(x1),f(x2)]))\n",
        "\n",
        "    ax.plot(np.array([x1,x1]),np.array([0,f(x1)]),'--g')\n",
        "    ax.plot(np.array([x2,x2]),np.array([0,f(x2)]),'--g')\n",
        "\n",
        "    ax.set_ylim(bottom=0)\n",
        "    plt.title('Cuadratura')\n",
        "\n",
        "    #Make the shaded region\n",
        "    patterns=('|','/','\\\\','0','.','o','*','\\\\','/','-','x','+')\n",
        "\n",
        "    verts=[(a,0),(a,linea(a)),(b,linea(b)),(b,0)]\n",
        "    poly=Polygon(verts,facecolor='0.9',edgecolor='0.1',hatch=patterns[0])\n",
        "    ax.add_patch(poly)\n",
        "\n",
        "\n",
        "    plt.title('Cuadratura de Gauss-Legendre 2 puntos')\n",
        "    fig.savefig(\"int_cuadratura2.pdf\", bbox_inches='tight')\n",
        "    return plt\n",
        "\n",
        "def main():\n",
        "    a=-2                                         #limite inferior\n",
        "    b=3                                          #limite superior\n",
        "    area=cuadratura2(f,a,b)\n",
        "    print('Integral aproximada=',area)\n",
        "    g=grafica_cuadratura2(f,a,b)\n",
        "    g.show()\n",
        "\n",
        "if __name__ == \"__main__\": main()"
      ],
      "execution_count": null,
      "outputs": [
        {
          "output_type": "stream",
          "text": [
            "Integral aproximada= 33.81488471562412\n"
          ],
          "name": "stdout"
        },
        {
          "output_type": "display_data",
          "data": {
            "image/png": "[encoded data removed]",
            "text/plain": [
              "<Figure size 432x288 with 1 Axes>"
            ]
          },
          "metadata": {
            "tags": [],
            "needs_background": "light"
          }
        }
      ]
    },
    {
      "cell_type": "markdown",
      "metadata": {
        "id": "NKMSmecG_xU-"
      },
      "source": [
        "#7: xe^ex\n",
        "\n",
        "\n",
        "$$\n",
        "f(x)=∫_1^3 xe^{e^x} dx\n",
        "$$"
      ]
    },
    {
      "cell_type": "code",
      "metadata": {
        "id": "rP--h609_5aI"
      },
      "source": [
        "import numpy as np\n",
        "from scipy.interpolate import lagrange\n",
        "import matplotlib.pyplot as plt\n",
        "from matplotlib.patches import Polygon\n",
        "\n",
        "def cuadratura2(f,a,b):\n",
        "    x1=(b-a)/2*(-1/np.sqrt(3))+(a+b)/2\n",
        "    x2=(b-a)/2*(1/np.sqrt(3))+(a+b)/2\n",
        "    r=(b-a)/2*(f(x1)+f(x2))\n",
        "    return r\n",
        "\n",
        "# Función a integrar\n",
        "def f(x):\n",
        "    return x*np.exp(np.exp(x))                   #EDIT f(x)\n",
        "\n",
        "def grafica_cuadratura2(f,a,b):\n",
        "    x = np.linspace(a,b)\n",
        "    y = f(x)\n",
        "    fig, ax = plt.subplots()\n",
        "    ax.plot(x,y,'b',linewidth=1.7)\n",
        "    ax.set_ylim(bottom=0)\n",
        "\n",
        "    x1=(b-a)/2*(-1/np.sqrt(3))+(a+b)/2\n",
        "    x2=(b-a)/2*(1/np.sqrt(3))+(a+b)/2\n",
        "\n",
        "    linea=lagrange(np.array([x1,x2]),np.array([f(x1),f(x2)]))\n",
        "\n",
        "    ax.plot(np.array([x1,x1]),np.array([0,f(x1)]),'--g')\n",
        "    ax.plot(np.array([x2,x2]),np.array([0,f(x2)]),'--g')\n",
        "\n",
        "    ax.set_ylim(bottom=0)\n",
        "    plt.title('Cuadratura')\n",
        "\n",
        "    #Make the shaded region\n",
        "    patterns=('|','/','\\\\','0','.','o','*','\\\\','/','-','x','+')\n",
        "\n",
        "    verts=[(a,0),(a,linea(a)),(b,linea(b)),(b,0)]\n",
        "    poly=Polygon(verts,facecolor='0.9',edgecolor='0.1',hatch=patterns[0])\n",
        "    ax.add_patch(poly)\n",
        "\n",
        "\n",
        "    plt.title('Cuadratura de Gauss-Legendre 2 puntos')\n",
        "    fig.savefig(\"int_cuadratura2.pdf\", bbox_inches='tight')\n",
        "    return plt\n",
        "\n",
        "def main():\n",
        "    a=1                                         #limite inferior\n",
        "    b=3                                          #limite superior\n",
        "    area=cuadratura2(f,a,b)\n",
        "    print('Integral aproximada=',area)\n",
        "    g=grafica_cuadratura2(f,a,b)\n",
        "    g.show()\n",
        "\n",
        "if __name__ == \"__main__\": main()"
      ],
      "execution_count": null,
      "outputs": []
    }
  ]
}