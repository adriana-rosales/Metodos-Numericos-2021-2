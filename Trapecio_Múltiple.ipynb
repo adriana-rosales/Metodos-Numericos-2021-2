{
  "nbformat": 4,
  "nbformat_minor": 0,
  "metadata": {
    "colab": {
      "name": "Trapecio Múltiple",
      "provenance": [],
      "collapsed_sections": [],
      "authorship_tag": "ABX9TyOkcgT8rjOTEht1B3pIlM0S",
      "include_colab_link": true
    },
    "kernelspec": {
      "name": "python3",
      "display_name": "Python 3"
    },
    "language_info": {
      "name": "python"
    }
  },
  "cells": [
    {
      "cell_type": "markdown",
      "metadata": {
        "id": "view-in-github",
        "colab_type": "text"
      },
      "source": [
        "<a href=\"https://colab.research.google.com/github/adriana-rosales/Metodos-Numericos-2021-2/blob/main/Trapecio_M%C3%BAltiple.ipynb\" target=\"_parent\"><img src=\"https://colab.research.google.com/assets/colab-badge.svg\" alt=\"Open In Colab\"/></a>"
      ]
    },
    {
      "cell_type": "markdown",
      "metadata": {
        "id": "xHklVfG3rdSl"
      },
      "source": [
        "# **⇒n=2. ⇒USAR LISTING 2. ⇒Calcular A MANO: x1, E%**"
      ]
    },
    {
      "cell_type": "markdown",
      "metadata": {
        "id": "goH5L0o3HCrs"
      },
      "source": [
        "#1: Libro"
      ]
    },
    {
      "cell_type": "code",
      "metadata": {
        "colab": {
          "base_uri": "https://localhost:8080/",
          "height": 302
        },
        "id": "AA8Gk0DHBC9G",
        "outputId": "d00fbbb5-ad1b-4164-930f-c6f1271bfc45"
      },
      "source": [
        "import numpy as np\n",
        "\n",
        "import matplotlib.pyplot as plt\n",
        "from matplotlib.patches import Polygon\n",
        "\n",
        "def regla_trapecios(f,a,b,n):\n",
        "    h=(b-a)/n\n",
        "    xs=np.linspace(a,b,n+1)\n",
        "    ys=f(xs)\n",
        "    r=h*(ys[0]+2*sum(ys[1:n])+ys[n])/2\n",
        "    return r\n",
        "\n",
        "# Función a integrar\n",
        "def f(x):\n",
        "    return np.exp(x**2)                 #EDIT f(x)\n",
        "\n",
        "def grafica_trapecios(f,a,b,n):\n",
        "    x = np.linspace(a,b)\n",
        "    y = f(x)\n",
        "    fig, ax = plt.subplots()\n",
        "    ax.plot(x,y,'b',linewidth=1.7)\n",
        "    ax.set_ylim(bottom=0)\n",
        "\n",
        "    ix=np.linspace(a,b,n+1)\n",
        "    iy=f(ix)\n",
        "    patterns=('|','/','\\\\','0','.','o','*','\\\\','/','-','x','+')\n",
        "    for i in range(n):\n",
        "        verts = [(ix[i], 0), (ix[i],iy[i]),(ix[i+1],iy[i+1]),(ix[i+1],0)]\n",
        "        poly = Polygon(verts,facecolor='0.9',edgecolor='0.5',hatch=patterns[i])\n",
        "        ax.add_patch(poly)\n",
        "\n",
        "    plt.title('Regla del Trapecio $e^{x^2}$')\n",
        "    fig.savefig(\"integral_T_ex2_1.pdf\", bbox_inches='tight')\n",
        "    return plt\n",
        "\n",
        "def main():\n",
        "    a=0                                 #limite inferior\n",
        "    b=1                                 #limite superior\n",
        "    n=2                                 #número de rectángulos-trapecios\n",
        "    area=regla_trapecios(f,a,b,n)\n",
        "    print('Integral aproximada=',area)\n",
        "    g=grafica_trapecios(f,a,b,n)\n",
        "    g.show()\n",
        "\n",
        "if __name__ == \"__main__\": main()"
      ],
      "execution_count": null,
      "outputs": [
        {
          "output_type": "stream",
          "text": [
            "Integral aproximada= 1.571583165458632\n"
          ],
          "name": "stdout"
        },
        {
          "output_type": "display_data",
          "data": {
            "image/png": "[encoded data removed]",
            "text/plain": [
              "<Figure size 432x288 with 1 Axes>"
            ]
          },
          "metadata": {
            "tags": [],
            "needs_background": "light"
          }
        }
      ]
    },
    {
      "cell_type": "markdown",
      "metadata": {
        "id": "NqHolcACwF7I"
      },
      "source": [
        "#2: "
      ]
    },
    {
      "cell_type": "code",
      "metadata": {
        "colab": {
          "base_uri": "https://localhost:8080/"
        },
        "id": "CzxF84cEx1HT",
        "outputId": "8b58f33d-8fb8-4d8b-83a4-8ff79a1fbe12"
      },
      "source": [
        "#Evaluar función en \"x\"\n",
        "\n",
        "f = lambda x: 1-np.exp(-2*x)                                   #EDIT f(x)\n",
        "print('f(a)=',f(0))                                            #EDIT f(a)\n",
        "print('f(b)=',f(3))                                            #EDIT f(b)\n",
        "\n",
        "\n",
        "# PRIMERO SE CALCULA \"A MANO x1\". Luego, f(x):\n",
        "\n",
        "print('f(x1)=',f(1.5))                                         #EDIT f(b)"
      ],
      "execution_count": null,
      "outputs": [
        {
          "output_type": "stream",
          "text": [
            "f(a)= 0.0\n",
            "f(b)= 0.9975212478233336\n",
            "f(x1)= 0.950212931632136\n"
          ],
          "name": "stdout"
        }
      ]
    },
    {
      "cell_type": "code",
      "metadata": {
        "colab": {
          "base_uri": "https://localhost:8080/",
          "height": 302
        },
        "id": "EFEWND8TwHvE",
        "outputId": "03fd3381-2d09-442d-d10f-417967c9c964"
      },
      "source": [
        "import numpy as np\n",
        "\n",
        "import matplotlib.pyplot as plt\n",
        "from matplotlib.patches import Polygon\n",
        "\n",
        "def regla_trapecios(f,a,b,n):\n",
        "    h=(b-a)/n\n",
        "    xs=np.linspace(a,b,n+1)\n",
        "    ys=f(xs)\n",
        "    r=h*(ys[0]+2*sum(ys[1:n])+ys[n])/2\n",
        "    return r\n",
        "\n",
        "# Función a integrar\n",
        "def f(x):\n",
        "    return 1-np.exp(-2*x)                 #EDIT f(x)\n",
        "\n",
        "def grafica_trapecios(f,a,b,n):\n",
        "    x = np.linspace(a,b)\n",
        "    y = f(x)\n",
        "    fig, ax = plt.subplots()\n",
        "    ax.plot(x,y,'b',linewidth=1.7)\n",
        "    ax.set_ylim(bottom=0)\n",
        "\n",
        "    ix=np.linspace(a,b,n+1)\n",
        "    iy=f(ix)\n",
        "    patterns=('|','/','\\\\','0','.','o','*','\\\\','/','-','x','+')\n",
        "    for i in range(n):\n",
        "        verts = [(ix[i], 0), (ix[i],iy[i]),(ix[i+1],iy[i+1]),(ix[i+1],0)]\n",
        "        poly = Polygon(verts,facecolor='0.9',edgecolor='0.5',hatch=patterns[i])\n",
        "        ax.add_patch(poly)\n",
        "\n",
        "    plt.title('Regla del Trapecio $e^{x^2}$')\n",
        "    fig.savefig(\"integral_T_ex2_1.pdf\", bbox_inches='tight')\n",
        "    return plt\n",
        "\n",
        "def main():\n",
        "    a=3                                 #limite inferior\n",
        "    b=0                                 #limite superior\n",
        "    n=2                                 #número de rectángulos-trapecios\n",
        "    area=regla_trapecios(f,a,b,n)\n",
        "    print('Integral aproximada=',area)\n",
        "    g=grafica_trapecios(f,a,b,n)\n",
        "    g.show()\n",
        "\n",
        "if __name__ == \"__main__\": main()"
      ],
      "execution_count": null,
      "outputs": [
        {
          "output_type": "stream",
          "text": [
            "Integral aproximada= -2.1734603333157043\n"
          ],
          "name": "stdout"
        },
        {
          "output_type": "display_data",
          "data": {
            "image/png": "[encoded data removed]",
            "text/plain": [
              "<Figure size 432x288 with 1 Axes>"
            ]
          },
          "metadata": {
            "tags": [],
            "needs_background": "light"
          }
        }
      ]
    },
    {
      "cell_type": "markdown",
      "metadata": {
        "id": "tQVChfOEwbZU"
      },
      "source": [
        "#3: "
      ]
    },
    {
      "cell_type": "code",
      "metadata": {
        "colab": {
          "base_uri": "https://localhost:8080/"
        },
        "id": "Ed0k1J04xOBh",
        "outputId": "11825a85-dcbd-4957-f308-2618b7807da1"
      },
      "source": [
        "#Evaluar función en \"x\"\n",
        "\n",
        "f = lambda x: 0.2+25*x-200*x**2+675*x**3-900*x**4+400*x**5                                     #EDIT f(x)\n",
        "print('f(a)=',f(0))                                            #EDIT f(a)\n",
        "print('f(b)=',f(0.8))                                          #EDIT f(b)\n",
        "\n",
        "\n",
        "# PRIMERO SE CALCULA \"A MANO x1\". Luego, f(x):\n",
        "\n",
        "print('f(x1)=',f(0.4))                                         #EDIT f(b)"
      ],
      "execution_count": null,
      "outputs": [
        {
          "output_type": "stream",
          "text": [
            "f(a)= 0.2\n",
            "f(b)= 0.23200000000005616\n",
            "f(x1)= 2.4560000000000004\n"
          ],
          "name": "stdout"
        }
      ]
    },
    {
      "cell_type": "code",
      "metadata": {
        "colab": {
          "base_uri": "https://localhost:8080/",
          "height": 302
        },
        "id": "hDjHzbZCwcst",
        "outputId": "0693e463-48e8-4122-dd5e-e8c8f2809365"
      },
      "source": [
        "import numpy as np\n",
        "\n",
        "import matplotlib.pyplot as plt\n",
        "from matplotlib.patches import Polygon\n",
        "\n",
        "def regla_trapecios(f,a,b,n):\n",
        "    h=(b-a)/n\n",
        "    xs=np.linspace(a,b,n+1)\n",
        "    ys=f(xs)\n",
        "    r=h*(ys[0]+2*sum(ys[1:n])+ys[n])/2\n",
        "    return r\n",
        "\n",
        "# Función a integrar\n",
        "def f(x):\n",
        "    return 0.2+25*x-200*x**2+675*x**3-900*x**4+400*x**5              #EDIT f(x)\n",
        "\n",
        "def grafica_trapecios(f,a,b,n):\n",
        "    x = np.linspace(a,b)\n",
        "    y = f(x)\n",
        "    fig, ax = plt.subplots()\n",
        "    ax.plot(x,y,'b',linewidth=1.7)\n",
        "    ax.set_ylim(bottom=0)\n",
        "\n",
        "    ix=np.linspace(a,b,n+1)\n",
        "    iy=f(ix)\n",
        "    patterns=('|','/','\\\\','0','.','o','*','\\\\','/','-','x','+')\n",
        "    for i in range(n):\n",
        "        verts = [(ix[i], 0), (ix[i],iy[i]),(ix[i+1],iy[i+1]),(ix[i+1],0)]\n",
        "        poly = Polygon(verts,facecolor='0.9',edgecolor='0.5',hatch=patterns[i])\n",
        "        ax.add_patch(poly)\n",
        "\n",
        "    plt.title('Regla del Trapecio $e^{x^2}$')\n",
        "    fig.savefig(\"integral_T_ex2_1.pdf\", bbox_inches='tight')\n",
        "    return plt\n",
        "\n",
        "def main():\n",
        "    a=0                                                    #limite inferior\n",
        "    b=0.8                                                  #limite superior\n",
        "    n=2   #número de rectángulos-trapecios\n",
        "    area=regla_trapecios(f,a,b,n)\n",
        "    print('Integral aproximada=',area)\n",
        "    g=grafica_trapecios(f,a,b,n)\n",
        "    g.show()\n",
        "\n",
        "if __name__ == \"__main__\": main()"
      ],
      "execution_count": null,
      "outputs": [
        {
          "output_type": "stream",
          "text": [
            "Integral aproximada= 1.0688000000000115\n"
          ],
          "name": "stdout"
        },
        {
          "output_type": "display_data",
          "data": {
            "image/png": "[encoded data removed]",
            "text/plain": [
              "<Figure size 432x288 with 1 Axes>"
            ]
          },
          "metadata": {
            "tags": [],
            "needs_background": "light"
          }
        }
      ]
    },
    {
      "cell_type": "markdown",
      "metadata": {
        "id": "NF_9A7b5wvKO"
      },
      "source": [
        "#4:"
      ]
    },
    {
      "cell_type": "code",
      "metadata": {
        "colab": {
          "base_uri": "https://localhost:8080/"
        },
        "id": "sY9hU5pkxEI0",
        "outputId": "f045fa3c-72b2-45e5-c020-c4e3483d680b"
      },
      "source": [
        "#Evaluar función en \"x\"\n",
        "\n",
        "f = lambda x: (x+(2/x))**2                                     #EDIT f(x)\n",
        "print('f(a)=',f(1))                                            #EDIT f(a)\n",
        "print('f(b)=',f(2))                                            #EDIT f(b)\n",
        "\n",
        "\n",
        "# PRIMERO SE CALCULA \"A MANO x1\". Luego, f(x):\n",
        "\n",
        "print('f(x1)=',f(1.5))                                         #EDIT f(b)"
      ],
      "execution_count": null,
      "outputs": [
        {
          "output_type": "stream",
          "text": [
            "f(a)= 9.0\n",
            "f(b)= 9.0\n",
            "f(x1)= 8.027777777777777\n"
          ],
          "name": "stdout"
        }
      ]
    },
    {
      "cell_type": "code",
      "metadata": {
        "colab": {
          "base_uri": "https://localhost:8080/",
          "height": 302
        },
        "id": "Y9Ia6obVwsv_",
        "outputId": "dda3ef11-1c46-4f12-86d4-6341cd9e6bbe"
      },
      "source": [
        "import numpy as np\n",
        "\n",
        "import matplotlib.pyplot as plt\n",
        "from matplotlib.patches import Polygon\n",
        "\n",
        "def regla_trapecios(f,a,b,n):\n",
        "    h=(b-a)/n\n",
        "    xs=np.linspace(a,b,n+1)\n",
        "    ys=f(xs)\n",
        "    r=h*(ys[0]+2*sum(ys[1:n])+ys[n])/2\n",
        "    return r\n",
        "\n",
        "# Función a integrar\n",
        "def f(x):\n",
        "    return (x+(2/x))**2                                       #EDIT f(x)\n",
        "\n",
        "def grafica_trapecios(f,a,b,n):\n",
        "    x = np.linspace(a,b)\n",
        "    y = f(x)\n",
        "    fig, ax = plt.subplots()\n",
        "    ax.plot(x,y,'b',linewidth=1.7)\n",
        "    ax.set_ylim(bottom=0)\n",
        "\n",
        "    ix=np.linspace(a,b,n+1)\n",
        "    iy=f(ix)\n",
        "    patterns=('|','/','\\\\','0','.','o','*','\\\\','/','-','x','+')\n",
        "    for i in range(n):\n",
        "        verts = [(ix[i], 0), (ix[i],iy[i]),(ix[i+1],iy[i+1]),(ix[i+1],0)]\n",
        "        poly = Polygon(verts,facecolor='0.9',edgecolor='0.5',hatch=patterns[i])\n",
        "        ax.add_patch(poly)\n",
        "\n",
        "    plt.title('Regla del Trapecio $e^{x^2}$')\n",
        "    fig.savefig(\"integral_T_ex2_1.pdf\", bbox_inches='tight')\n",
        "    return plt\n",
        "\n",
        "def main():\n",
        "    a=1                                                    #limite inferior\n",
        "    b=2                                                  #limite superior\n",
        "    n=2   #número de rectángulos-trapecios\n",
        "    area=regla_trapecios(f,a,b,n)\n",
        "    print('Integral aproximada=',area)\n",
        "    g=grafica_trapecios(f,a,b,n)\n",
        "    g.show()\n",
        "\n",
        "if __name__ == \"__main__\": main()"
      ],
      "execution_count": null,
      "outputs": [
        {
          "output_type": "stream",
          "text": [
            "Integral aproximada= 8.51388888888889\n"
          ],
          "name": "stdout"
        },
        {
          "output_type": "display_data",
          "data": {
            "image/png": "[encoded data removed]",
            "text/plain": [
              "<Figure size 432x288 with 1 Axes>"
            ]
          },
          "metadata": {
            "tags": [],
            "needs_background": "light"
          }
        }
      ]
    }
  ]
}