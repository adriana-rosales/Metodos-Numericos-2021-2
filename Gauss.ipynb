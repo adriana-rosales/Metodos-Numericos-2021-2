{
  "nbformat": 4,
  "nbformat_minor": 0,
  "metadata": {
    "colab": {
      "name": "Gauss",
      "provenance": [],
      "collapsed_sections": [],
      "authorship_tag": "ABX9TyNKAmxovP5tfI2e4nyoShOj",
      "include_colab_link": true
    },
    "kernelspec": {
      "name": "python3",
      "display_name": "Python 3"
    },
    "language_info": {
      "name": "python"
    }
  },
  "cells": [
    {
      "cell_type": "markdown",
      "metadata": {
        "id": "view-in-github",
        "colab_type": "text"
      },
      "source": [
        "<a href=\"https://colab.research.google.com/github/adriana-rosales/Metodos-Numericos-2021-2/blob/main/Gauss.ipynb\" target=\"_parent\"><img src=\"https://colab.research.google.com/assets/colab-badge.svg\" alt=\"Open In Colab\"/></a>"
      ]
    },
    {
      "cell_type": "markdown",
      "metadata": {
        "id": "pmmHlX8FZHEC"
      },
      "source": [
        "#1: Libro"
      ]
    },
    {
      "cell_type": "code",
      "metadata": {
        "id": "ss2MMWavAX81",
        "colab": {
          "base_uri": "https://localhost:8080/"
        },
        "outputId": "720ca06d-2b0a-42f8-9c8f-fa1855c36c89"
      },
      "source": [
        "import numpy as np\n",
        "\n",
        "def gauss(a,b):\n",
        "    n,_=np.shape(a)\n",
        "    A=np.c_[a,b]\n",
        "    for i in range(n-1):\n",
        "        for j in range(i+1,n):\n",
        "            # Si el término ya es cero continúa con la siguiente\n",
        "            if (A[j,i]!=0 and A[i,i]!=0):\n",
        "                # factor de reduccion\n",
        "                f=A[j,i]/A[i,i]\n",
        "                A[j,i+1:n+1]=A[j,i+1:n+1]-f*A[i,i+1:n+1]\n",
        "    # aplica la sustitución inversa\n",
        "    x=np.zeros(n)\n",
        "    for i in range(n-1,-1,-1):\n",
        "        x[i]=(A[i,n]-np.dot(A[i,i+1:n],x[i+1:n]))/A[i,i]\n",
        "      \n",
        "    return x\n",
        "\n",
        "def main():                                          #EDIT Matrix a,b\n",
        "    a=np.array([[55.8,20.4,17.1,18.5,19.2],\\\n",
        "                [7.8,52.1,12.3,13.9,18.5],\\\n",
        "                [16.4,11.5,46.1,11.5,21.3],\\\n",
        "                [11.7,9.2,14.1,47.0,10.4],\\\n",
        "                [8.3,6.8,10.4,9.1,30.6]])\n",
        "    b=np.array([2500,2000,2500,2000,1000])\n",
        "    n,c=np.shape(a)\n",
        "    r=np.linalg.matrix_rank(a)\n",
        "    ab=np.c_[a,b]\n",
        "    ra=np.linalg.matrix_rank(ab)\n",
        "\n",
        "    print('rango(A)={} rango(Ab)={} n={}'.format(r,ra,n))\n",
        "\n",
        "    if (r==ra==n):\n",
        "        print('Solucion única=')\n",
        "        x=gauss(a,b)\n",
        "        #x=np.linalg.solve(a,b)\n",
        "        print(x)\n",
        "\n",
        "    if (r==ra<n):\n",
        "        print('Múltiples soluciones=')\n",
        "\n",
        "    if (r<ra):\n",
        "        print('Sin solución=')\n",
        "\n",
        "if __name__ == \"__main__\": main()\n",
        "\n",
        "# RESULTADO:\n",
        "\n",
        "# Solución única= [17.65270678 19.67904691 35.15143662 22.69415361  4.82265608]"
      ],
      "execution_count": null,
      "outputs": [
        {
          "output_type": "stream",
          "text": [
            "rango(A)=5 rango(Ab)=5 n=5\n",
            "Solucion única=\n",
            "[17.65270678 19.67904691 35.15143662 22.69415361  4.82265608]\n"
          ],
          "name": "stdout"
        }
      ]
    },
    {
      "cell_type": "markdown",
      "metadata": {
        "id": "aKPsDXRijkdZ"
      },
      "source": [
        "#2: **3x3** ❗️"
      ]
    },
    {
      "cell_type": "code",
      "metadata": {
        "colab": {
          "base_uri": "https://localhost:8080/"
        },
        "id": "FnlOPQUajnfa",
        "outputId": "15324b4d-4463-4701-f785-17ed86581bdf"
      },
      "source": [
        "import numpy as np\n",
        "\n",
        "def gauss(a,b):\n",
        "    n,_=np.shape(a)\n",
        "    A=np.c_[a,b]\n",
        "    for i in range(n-1):\n",
        "        for j in range(i+1,n):\n",
        "            # Si el término ya es cero continúa con la siguiente\n",
        "            if (A[j,i]!=0 and A[i,i]!=0):\n",
        "                # factor de reduccion\n",
        "                f=A[j,i]/A[i,i]\n",
        "                A[j,i+1:n+1]=A[j,i+1:n+1]-f*A[i,i+1:n+1]\n",
        "    # aplica la sustitución inversa\n",
        "    x=np.zeros(n)\n",
        "    for i in range(n-1,-1,-1):\n",
        "        x[i]=(A[i,n]-np.dot(A[i,i+1:n],x[i+1:n]))/A[i,i]\n",
        "      \n",
        "    return x\n",
        "\n",
        "def main():                                          #EDIT Matrix a,b\n",
        "    a=np.array([[3,-1,-1],\\\n",
        "                [-1,3,1],\\\n",
        "                [2,1,4]])\n",
        "    b=np.array([1,3,7])\n",
        "    n,c=np.shape(a)\n",
        "    r=np.linalg.matrix_rank(a)\n",
        "    ab=np.c_[a,b]\n",
        "    ra=np.linalg.matrix_rank(ab)\n",
        "\n",
        "    print('rango(A)={} rango(Ab)={} n={}'.format(r,ra,n))\n",
        "\n",
        "    if (r==ra==n):\n",
        "        print('Solucion única=')\n",
        "        x=gauss(a,b)\n",
        "        #x=np.linalg.solve(a,b)\n",
        "        print(x)\n",
        "\n",
        "    if (r==ra<n):\n",
        "        print('Múltiples soluciones=')\n",
        "\n",
        "    if (r<ra):\n",
        "        print('Sin solución=')\n",
        "\n",
        "if __name__ == \"__main__\": main()\n",
        "\n",
        "# RESULTADO MAL:\n",
        "\n",
        "# Solución CORRECTA: [1 1 1]"
      ],
      "execution_count": null,
      "outputs": [
        {
          "output_type": "stream",
          "text": [
            "rango(A)=3 rango(Ab)=3 n=3\n",
            "Solucion única=\n",
            "[1.16666667 1.5        1.        ]\n"
          ],
          "name": "stdout"
        }
      ]
    },
    {
      "cell_type": "markdown",
      "metadata": {
        "id": "ExVYPa5ekqqI"
      },
      "source": [
        "#3: **3x3**❗️"
      ]
    },
    {
      "cell_type": "code",
      "metadata": {
        "colab": {
          "base_uri": "https://localhost:8080/"
        },
        "id": "W1adKF6Dkst8",
        "outputId": "76835154-9db8-4445-ea93-c235a1afffe2"
      },
      "source": [
        "import numpy as np\n",
        "\n",
        "def gauss(a,b):\n",
        "    n,_=np.shape(a)\n",
        "    A=np.c_[a,b]\n",
        "    for i in range(n-1):\n",
        "        for j in range(i+1,n):\n",
        "            # Si el término ya es cero continúa con la siguiente\n",
        "            if (A[j,i]!=0 and A[i,i]!=0):\n",
        "                # factor de reduccion\n",
        "                f=A[j,i]/A[i,i]\n",
        "                A[j,i+1:n+1]=A[j,i+1:n+1]-f*A[i,i+1:n+1]\n",
        "    # aplica la sustitución inversa\n",
        "    x=np.zeros(n)\n",
        "    for i in range(n-1,-1,-1):\n",
        "        x[i]=(A[i,n]-np.dot(A[i,i+1:n],x[i+1:n]))/A[i,i]\n",
        "      \n",
        "    return x\n",
        "\n",
        "def main():                                          #EDIT Matrix a,b\n",
        "    a=np.array([[2 ,1,-1],\\\n",
        "                [5,2,2],\\\n",
        "                [3,1,1]])\n",
        "    b=np.array([1,-4,5])\n",
        "    n,c=np.shape(a)\n",
        "    r=np.linalg.matrix_rank(a)\n",
        "    ab=np.c_[a,b]\n",
        "    ra=np.linalg.matrix_rank(ab)\n",
        "\n",
        "    print('rango(A)={} rango(Ab)={} n={}'.format(r,ra,n))\n",
        "\n",
        "    if (r==ra==n):\n",
        "        print('Solucion única=')\n",
        "        x=gauss(a,b)\n",
        "        #x=np.linalg.solve(a,b)\n",
        "        print(x)\n",
        "\n",
        "    if (r==ra<n):\n",
        "        print('Múltiples soluciones=')\n",
        "\n",
        "    if (r<ra):\n",
        "        print('Sin solución=')\n",
        "\n",
        "if __name__ == \"__main__\": main()\n",
        "\n",
        "# RESULTADO MAL:\n",
        "\n",
        "# Solución CORRECTA: [14  -32 -5]"
      ],
      "execution_count": null,
      "outputs": [
        {
          "output_type": "stream",
          "text": [
            "rango(A)=3 rango(Ab)=3 n=3\n",
            "Solucion única=\n",
            "[ inf -inf  1.5]\n"
          ],
          "name": "stdout"
        },
        {
          "output_type": "stream",
          "text": [
            "/usr/local/lib/python3.7/dist-packages/ipykernel_launcher.py:16: RuntimeWarning: divide by zero encountered in double_scalars\n",
            "  app.launch_new_instance()\n"
          ],
          "name": "stderr"
        }
      ]
    },
    {
      "cell_type": "markdown",
      "metadata": {
        "id": "T6MhEWwtlRTP"
      },
      "source": [
        "#4: **4x4**❗️"
      ]
    },
    {
      "cell_type": "code",
      "metadata": {
        "colab": {
          "base_uri": "https://localhost:8080/"
        },
        "id": "WMIXOOjRl1Yx",
        "outputId": "948e26ab-6be4-4670-cf6c-9c73760f6b06"
      },
      "source": [
        "import numpy as np\n",
        "\n",
        "def gauss(a,b):\n",
        "    n,_=np.shape(a)\n",
        "    A=np.c_[a,b]\n",
        "    for i in range(n-1):\n",
        "        for j in range(i+1,n):\n",
        "            # Si el término ya es cero continúa con la siguiente\n",
        "            if (A[j,i]!=0 and A[i,i]!=0):\n",
        "                # factor de reduccion\n",
        "                f=A[j,i]/A[i,i]\n",
        "                A[j,i+1:n+1]=A[j,i+1:n+1]-f*A[i,i+1:n+1]\n",
        "    # aplica la sustitución inversa\n",
        "    x=np.zeros(n)\n",
        "    for i in range(n-1,-1,-1):\n",
        "        x[i]=(A[i,n]-np.dot(A[i,i+1:n],x[i+1:n]))/A[i,i]\n",
        "      \n",
        "    return x\n",
        "\n",
        "def main():                                          #EDIT Matrix a,b\n",
        "    a=np.array([[10,-1,2,0],\\\n",
        "                [-1,11,-1,3],\\\n",
        "                [2,-1,10,-1],\\\n",
        "                [0,3,-1,8]])\n",
        "    b=np.array([6,25,-11,15])\n",
        "    n,c=np.shape(a)\n",
        "    r=np.linalg.matrix_rank(a)\n",
        "    ab=np.c_[a,b]\n",
        "    ra=np.linalg.matrix_rank(ab)\n",
        "\n",
        "    print('rango(A)={} rango(Ab)={} n={}'.format(r,ra,n))\n",
        "\n",
        "    if (r==ra==n):\n",
        "        print('Solucion única=')\n",
        "        x=gauss(a,b)\n",
        "        #x=np.linalg.solve(a,b)\n",
        "        print(x)\n",
        "\n",
        "    if (r==ra<n):\n",
        "        print('Múltiples soluciones=')\n",
        "\n",
        "    if (r<ra):\n",
        "        print('Sin solución=')\n",
        "\n",
        "if __name__ == \"__main__\": main()\n",
        "\n",
        "# RESULTADO MAL:\n",
        "\n",
        "# Solución CORRECTA: [1 2 -1  1]"
      ],
      "execution_count": null,
      "outputs": [
        {
          "output_type": "stream",
          "text": [
            "rango(A)=4 rango(Ab)=4 n=4\n",
            "Solucion única=\n",
            "[ 1.07314815  2.25       -1.24074074  0.83333333]\n"
          ],
          "name": "stdout"
        }
      ]
    }
  ]
}